{
 "cells": [
  {
   "cell_type": "code",
   "execution_count": 1,
   "id": "a6f74d29",
   "metadata": {},
   "outputs": [
    {
     "name": "stdout",
     "output_type": "stream",
     "text": [
      "Hello Python\n"
     ]
    }
   ],
   "source": [
    "#Question 1\n",
    "\n",
    "print(\"Hello Python\")"
   ]
  },
  {
   "cell_type": "code",
   "execution_count": 5,
   "id": "d4ea1e8f",
   "metadata": {},
   "outputs": [
    {
     "name": "stdout",
     "output_type": "stream",
     "text": [
      "Select a Arithmetic Operation:         \n",
      "1.Addition        \n",
      "2.Division        \n",
      "3.Stop\n",
      "\n",
      "Enter the option 1\n",
      "\n",
      "Enter 1st Number: 2\n",
      "Enter 2nd Number: 3\n",
      "The sum is  5\n",
      "Enter the option 2\n",
      "\n",
      "Enter 1st Number: 4\n",
      "Enter 2nd Number: 2\n",
      "The result is  2.0\n",
      "Enter the option 5\n",
      "Invalid Input\n",
      "Enter the option 3\n",
      "Program Ended\n"
     ]
    }
   ],
   "source": [
    "#Question 2\n",
    "\n",
    "print('Select a Arithmetic Operation: \\\n",
    "        \\n1.Addition\\\n",
    "        \\n2.Division\\\n",
    "        \\n3.Stop\\n')\n",
    "\n",
    "while True:\n",
    "    o = int(input(\"Enter the option \"))\n",
    "    if o == 3:\n",
    "        print(\"Program Ended\")\n",
    "        break\n",
    "    elif o == 1:\n",
    "        num_1 = int(input('\\nEnter 1st Number: '))\n",
    "        num_2 = int(input('Enter 2nd Number: '))\n",
    "        print(\"The sum is \",(num_1+num_2))\n",
    "    elif o == 2:\n",
    "        num_1 = int(input('\\nEnter 1st Number: '))\n",
    "        num_2 = int(input('Enter 2nd Number: '))\n",
    "        print(\"The result is \", (num_1/num_2))\n",
    "    else:\n",
    "        print(\"Invalid Input\")\n"
   ]
  },
  {
   "cell_type": "code",
   "execution_count": 8,
   "id": "119d996c",
   "metadata": {},
   "outputs": [
    {
     "name": "stdout",
     "output_type": "stream",
     "text": [
      "Enter base of the triangle: 5\n",
      "Enter height of the triangle: 6\n",
      "The area of the triangle is 15.0\n"
     ]
    }
   ],
   "source": [
    "#Question 3\n",
    "def area(b, h):\n",
    "    return (0.5 * b * h)\n",
    "\n",
    "base = float(input(\"Enter base of the triangle: \"))\n",
    "height = float(input(\"Enter height of the triangle: \"))\n",
    "\n",
    "print(\"The area of the triangle is\", area(base, height))"
   ]
  },
  {
   "cell_type": "code",
   "execution_count": 9,
   "id": "cb2f3a0f",
   "metadata": {},
   "outputs": [
    {
     "name": "stdout",
     "output_type": "stream",
     "text": [
      "Enter First Number: 4\n",
      "Enter Second Number: 7\n",
      "Before swapping: num_1=  4  ,num_2=  7\n",
      "After swapping: num_1=  7  ,num_2=  4\n"
     ]
    }
   ],
   "source": [
    "#Question 4\n",
    "\n",
    "num_1 = int(input(\"Enter First Number: \"))\n",
    "num_2 = int(input(\"Enter Second Number: \"))\n",
    "\n",
    "def swap(a,b):\n",
    "    temp = a\n",
    "    a = b\n",
    "    b = temp\n",
    "    return a,b\n",
    "\n",
    "print('Before swapping: num_1= ',num_1,\" ,num_2= \", num_2)\n",
    "num_1, num_2 = swap(num_1, num_2)\n",
    "print('After swapping: num_1= ',num_1,\" ,num_2= \", num_2)"
   ]
  },
  {
   "cell_type": "code",
   "execution_count": 11,
   "id": "a8c292b7",
   "metadata": {},
   "outputs": [
    {
     "name": "stdout",
     "output_type": "stream",
     "text": [
      "Generating a random number...\n",
      "916\n"
     ]
    }
   ],
   "source": [
    "#Question 5\n",
    "\n",
    "import random\n",
    "\n",
    "print(\"Generating a random number...\")\n",
    "print (random.randint(0,1000))"
   ]
  },
  {
   "cell_type": "code",
   "execution_count": null,
   "id": "0b743a17",
   "metadata": {},
   "outputs": [],
   "source": []
  }
 ],
 "metadata": {
  "kernelspec": {
   "display_name": "Python 3",
   "language": "python",
   "name": "python3"
  },
  "language_info": {
   "codemirror_mode": {
    "name": "ipython",
    "version": 3
   },
   "file_extension": ".py",
   "mimetype": "text/x-python",
   "name": "python",
   "nbconvert_exporter": "python",
   "pygments_lexer": "ipython3",
   "version": "3.8.8"
  }
 },
 "nbformat": 4,
 "nbformat_minor": 5
}
