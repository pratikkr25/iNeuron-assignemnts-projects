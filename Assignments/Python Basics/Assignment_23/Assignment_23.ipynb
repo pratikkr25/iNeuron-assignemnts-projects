{
 "cells": [
  {
   "cell_type": "markdown",
   "id": "bf67ef6a",
   "metadata": {},
   "source": [
    "NOTE: The codes are executed below in the notebook, and then explained further."
   ]
  },
  {
   "cell_type": "markdown",
   "id": "e7cd3642",
   "metadata": {},
   "source": [
    "1. Question 1"
   ]
  },
  {
   "cell_type": "code",
   "execution_count": 1,
   "id": "c6c690f8",
   "metadata": {},
   "outputs": [
    {
     "name": "stdout",
     "output_type": "stream",
     "text": [
      "1 2 8\n"
     ]
    }
   ],
   "source": [
    "def func(a, b=6, c=8):\n",
    "    print(a, b, c)\n",
    "func(1, 2)"
   ]
  },
  {
   "cell_type": "markdown",
   "id": "fcecc041",
   "metadata": {},
   "source": [
    "Here, we have taken default values for second and third arguments in func(). Now while calling func(), the value of c is taken as default. "
   ]
  },
  {
   "cell_type": "markdown",
   "id": "64a2e7a1",
   "metadata": {},
   "source": [
    "2. Question 2"
   ]
  },
  {
   "cell_type": "code",
   "execution_count": 2,
   "id": "1dd24386",
   "metadata": {},
   "outputs": [
    {
     "name": "stdout",
     "output_type": "stream",
     "text": [
      "1 2 3\n"
     ]
    }
   ],
   "source": [
    "def func(a, b, c=5):\n",
    "    print(a, b, c)\n",
    "func(1, c=3, b=2)"
   ]
  },
  {
   "cell_type": "markdown",
   "id": "8556ef90",
   "metadata": {},
   "source": [
    "When we make function call, we can pass the keyword arguments in any order we want. Hence, here the solution is 1 2 3"
   ]
  },
  {
   "cell_type": "markdown",
   "id": "deeaf687",
   "metadata": {},
   "source": [
    "3. Question 3"
   ]
  },
  {
   "cell_type": "code",
   "execution_count": 3,
   "id": "ad6b20a7",
   "metadata": {},
   "outputs": [
    {
     "name": "stdout",
     "output_type": "stream",
     "text": [
      "1 (2, 3)\n"
     ]
    }
   ],
   "source": [
    "def func(a, *pargs):\n",
    "    print(a, pargs)\n",
    "func(1, 2, 3)"
   ]
  },
  {
   "cell_type": "markdown",
   "id": "0019d30a",
   "metadata": {},
   "source": [
    "The return type of *pargs is tuple, that's why we get a tuple (2,3) in the solution. "
   ]
  },
  {
   "cell_type": "markdown",
   "id": "7d57c616",
   "metadata": {},
   "source": [
    "4. Question 4"
   ]
  },
  {
   "cell_type": "code",
   "execution_count": 4,
   "id": "535f55f3",
   "metadata": {},
   "outputs": [
    {
     "name": "stdout",
     "output_type": "stream",
     "text": [
      "1 {'c': 3, 'b': 2}\n"
     ]
    }
   ],
   "source": [
    "def func(a, **kargs):\n",
    "    print(a, kargs)\n",
    "func(a=1, c=3, b=2)"
   ]
  },
  {
   "cell_type": "markdown",
   "id": "f40e6b41",
   "metadata": {},
   "source": [
    "The return type of **kargs is dictionary, that's why we get a dictionary in the solution."
   ]
  },
  {
   "cell_type": "markdown",
   "id": "a0c80405",
   "metadata": {},
   "source": [
    "5. Question 5"
   ]
  },
  {
   "cell_type": "code",
   "execution_count": 5,
   "id": "72436119",
   "metadata": {},
   "outputs": [
    {
     "name": "stdout",
     "output_type": "stream",
     "text": [
      "1 5 6 5\n"
     ]
    }
   ],
   "source": [
    "def func(a, b, c=8, d=5): \n",
    "    print(a, b, c, d)\n",
    "func(1, *(5, 6))"
   ]
  },
  {
   "cell_type": "markdown",
   "id": "a34edbcd",
   "metadata": {},
   "source": [
    "Here, the * is the unpacking operator. Here, the value of *(5,6)  will be assigned to b and c respectively."
   ]
  },
  {
   "cell_type": "markdown",
   "id": "8874273c",
   "metadata": {},
   "source": [
    "6. Question 6"
   ]
  },
  {
   "cell_type": "code",
   "execution_count": 7,
   "id": "c63b830d",
   "metadata": {},
   "outputs": [
    {
     "data": {
      "text/plain": [
       "(1, ['x'], {'a': 'y'})"
      ]
     },
     "execution_count": 7,
     "metadata": {},
     "output_type": "execute_result"
    }
   ],
   "source": [
    "def func(a, b, c): \n",
    "    a = 2; b[0] = 'x'; c['a'] = 'y'\n",
    "    \n",
    "l=1; m=[1]; n={'a':0}\n",
    "func(l, m, n)\n",
    "\n",
    "l, m, n"
   ]
  },
  {
   "cell_type": "markdown",
   "id": "23886c3d",
   "metadata": {},
   "source": [
    "Here, the list and dict are passed as argument, and those are mutable. Here the list m and parameter b point \n",
    "to the same list in the memory location whereas dict n and c point to the same memory location. Any updates to this \n",
    "list will update in the memory location\n",
    "\n",
    "So, the summary is: l = 1 , integer value, immutable, m is a list, which is mutable, n is dict, is also mutable.\n",
    "Hence, the output is (1, ['x'], {'a': 'y'})"
   ]
  },
  {
   "cell_type": "code",
   "execution_count": null,
   "id": "b937b8ff",
   "metadata": {},
   "outputs": [],
   "source": []
  }
 ],
 "metadata": {
  "kernelspec": {
   "display_name": "Python 3",
   "language": "python",
   "name": "python3"
  },
  "language_info": {
   "codemirror_mode": {
    "name": "ipython",
    "version": 3
   },
   "file_extension": ".py",
   "mimetype": "text/x-python",
   "name": "python",
   "nbconvert_exporter": "python",
   "pygments_lexer": "ipython3",
   "version": "3.8.8"
  }
 },
 "nbformat": 4,
 "nbformat_minor": 5
}
