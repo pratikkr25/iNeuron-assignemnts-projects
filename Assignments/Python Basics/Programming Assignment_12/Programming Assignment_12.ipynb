{
 "cells": [
  {
   "cell_type": "markdown",
   "id": "49cd9640",
   "metadata": {},
   "source": [
    "1. Extract Unique values dictionary values"
   ]
  },
  {
   "cell_type": "code",
   "execution_count": 2,
   "id": "73bbe1c4",
   "metadata": {},
   "outputs": [
    {
     "name": "stdout",
     "output_type": "stream",
     "text": [
      "dict_values(['Dog', 'Cat', 'Cow', 'Cat', 'Horse', 'Rabbit', 'Goat'])\n",
      "--------------------------------------------------\n",
      "Unique Values are: ['Horse', 'Cow', 'Goat', 'Rabbit', 'Cat', 'Dog']\n"
     ]
    }
   ],
   "source": [
    "dict = {1:'Dog',2:'Cat',3:'Cow',4:'Cat',5:'Horse',6:'Rabbit',7:'Goat'}\n",
    "print(dict.values())\n",
    "print('-' * 50)\n",
    "print(f'Unique Values are: {list(set(dict.values()))}')"
   ]
  },
  {
   "cell_type": "markdown",
   "id": "10dd1b4e",
   "metadata": {},
   "source": [
    "2. Find the sum of all items in a dictionary"
   ]
  },
  {
   "cell_type": "code",
   "execution_count": 3,
   "id": "2039fbac",
   "metadata": {},
   "outputs": [
    {
     "name": "stdout",
     "output_type": "stream",
     "text": [
      "Sum of All items in the dictionary:  150\n"
     ]
    }
   ],
   "source": [
    "in_dict = {'Num1':10,'Num2':20,'Num3':30,'Num4':40,'Num5':50}\n",
    "print('Sum of All items in the dictionary: ',sum(in_dict.values()))"
   ]
  },
  {
   "cell_type": "markdown",
   "id": "6d29e44b",
   "metadata": {},
   "source": [
    "3. Merge two dictionaries"
   ]
  },
  {
   "cell_type": "code",
   "execution_count": 4,
   "id": "6da47445",
   "metadata": {},
   "outputs": [
    {
     "name": "stdout",
     "output_type": "stream",
     "text": [
      "{'category': 'Pets', 'animals': ['Dog', 'Cat']}\n"
     ]
    }
   ],
   "source": [
    "course_details = {\n",
    "    'category':'Pets'\n",
    "}\n",
    "instructors = {\n",
    "    'animals':['Dog','Cat']\n",
    "}\n",
    "course_details.update(instructors)\n",
    "print(course_details)"
   ]
  },
  {
   "cell_type": "markdown",
   "id": "8399d2bf",
   "metadata": {},
   "source": [
    "4. Convert key-values list to flat dictionary"
   ]
  },
  {
   "cell_type": "code",
   "execution_count": 6,
   "id": "3433cb48",
   "metadata": {},
   "outputs": [
    {
     "name": "stdout",
     "output_type": "stream",
     "text": [
      "{'A': 1, 'B': 2, 'C': 3, 'D': 4, 'E': 5, 'F': 6, 'G': 7, 'H': 8, 'I': 9, 'J': 10}\n"
     ]
    }
   ],
   "source": [
    "in_list = [('A',1),('B',2),('C',3),('D',4),('E',5),('F',6),('G',7),('H',8),('I',9),('J',10)]\n",
    "\n",
    "out_dict = {}\n",
    "for i in in_list:\n",
    "    out_dict[i[0]] = i[1]\n",
    "print(out_dict)"
   ]
  },
  {
   "cell_type": "markdown",
   "id": "d7247e8d",
   "metadata": {},
   "source": [
    "5. Insertion at the beginning in OrderedDict"
   ]
  },
  {
   "cell_type": "code",
   "execution_count": 8,
   "id": "ae5a4a55",
   "metadata": {},
   "outputs": [
    {
     "name": "stdout",
     "output_type": "stream",
     "text": [
      "Initial Dictionary OrderedDict([('1', 'A'), ('2', 'B'), ('3', 'C')])\n",
      "After Insertion OrderedDict([('1', 'A'), ('2', 'B'), ('3', 'C'), ('4', 'D')])\n",
      "Final Output OrderedDict([('4', 'D'), ('1', 'A'), ('2', 'B'), ('3', 'C')])\n"
     ]
    }
   ],
   "source": [
    "from collections import OrderedDict\n",
    "dict_one = OrderedDict({'1':'A','2':'B','3':'C'})\n",
    "print('Initial Dictionary',dict_one)\n",
    "\n",
    "dict_two = {'4':'D'}\n",
    "dict_one.update(dict_two)\n",
    "print('After Insertion',dict_one)\n",
    "\n",
    "dict_one.move_to_end('4',last=False)\n",
    "print('Final Output',dict_one)"
   ]
  },
  {
   "cell_type": "markdown",
   "id": "64df3bd1",
   "metadata": {},
   "source": [
    "6. Check order of character in string using OrderedDict()"
   ]
  },
  {
   "cell_type": "code",
   "execution_count": 14,
   "id": "8a2c7747",
   "metadata": {},
   "outputs": [
    {
     "name": "stdout",
     "output_type": "stream",
     "text": [
      "The string is \n",
      "Hi World\n",
      "The input pattern is \n",
      "Wo\n",
      "The order of pattern is correct\n"
     ]
    }
   ],
   "source": [
    "from collections import OrderedDict\n",
    "\n",
    "def check_order(my_input, my_pattern):\n",
    "   my_dict = OrderedDict.fromkeys(my_input)\n",
    "   pattern_length = 0\n",
    "   for key,value in my_dict.items():\n",
    "      if (key == my_pattern[pattern_length]):\n",
    "         pattern_length = pattern_length + 1\n",
    "\n",
    "      if (pattern_length == (len(my_pattern))):\n",
    "         return 'The order of pattern is correct'\n",
    "\n",
    "   return 'The order of pattern is incorrect'\n",
    "\n",
    "my_input = 'Hi World'\n",
    "input_pattern = 'Wo'\n",
    "print(\"The string is \")\n",
    "print(my_input)\n",
    "print(\"The input pattern is \")\n",
    "print(input_pattern)\n",
    "\n",
    "print(check_order(my_input,input_pattern))"
   ]
  },
  {
   "cell_type": "markdown",
   "id": "cd465e19",
   "metadata": {},
   "source": [
    "7. Sort Python Dictionaries by Key or Value"
   ]
  },
  {
   "cell_type": "code",
   "execution_count": 21,
   "id": "afcbd049",
   "metadata": {},
   "outputs": [
    {
     "name": "stdout",
     "output_type": "stream",
     "text": [
      "sorted list of keys\n",
      "[4, 6, 7, 9]\n",
      "sorted list of items\n",
      "[(4, 2), (6, 9), (7, 8), (9, 5)]\n",
      "sorted list of values\n",
      "[2, 5, 8, 9]\n"
     ]
    }
   ],
   "source": [
    "dict= {4:5 ,7:8 ,4:3 ,6:9 ,9:5 ,4:2 }\n",
    "print('sorted list of keys')\n",
    "print(sorted(dict.keys()))\n",
    "\n",
    "print('sorted list of items')\n",
    "print(sorted(dict.items()))\n",
    "\n",
    "print('sorted list of values')\n",
    "print(sorted(dict.values()))"
   ]
  },
  {
   "cell_type": "code",
   "execution_count": null,
   "id": "c3d045e1",
   "metadata": {},
   "outputs": [],
   "source": []
  }
 ],
 "metadata": {
  "kernelspec": {
   "display_name": "Python 3",
   "language": "python",
   "name": "python3"
  },
  "language_info": {
   "codemirror_mode": {
    "name": "ipython",
    "version": 3
   },
   "file_extension": ".py",
   "mimetype": "text/x-python",
   "name": "python",
   "nbconvert_exporter": "python",
   "pygments_lexer": "ipython3",
   "version": "3.8.8"
  }
 },
 "nbformat": 4,
 "nbformat_minor": 5
}
