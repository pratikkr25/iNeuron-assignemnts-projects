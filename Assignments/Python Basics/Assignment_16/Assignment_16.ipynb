{
 "cells": [
  {
   "cell_type": "markdown",
   "id": "14784065",
   "metadata": {},
   "source": [
    "1. Creating the years_list"
   ]
  },
  {
   "cell_type": "code",
   "execution_count": 1,
   "id": "e2cd20d9",
   "metadata": {},
   "outputs": [
    {
     "data": {
      "text/plain": [
       "[1999, 2000, 2001, 2002, 2003, 2004]"
      ]
     },
     "execution_count": 1,
     "metadata": {},
     "output_type": "execute_result"
    }
   ],
   "source": [
    "years_list = [i for i in range(1999,1999+6)]\n",
    "years_list"
   ]
  },
  {
   "cell_type": "markdown",
   "id": "3869cbcc",
   "metadata": {},
   "source": [
    "2. Finding third birthday year"
   ]
  },
  {
   "cell_type": "code",
   "execution_count": 2,
   "id": "c0d21af0",
   "metadata": {},
   "outputs": [
    {
     "data": {
      "text/plain": [
       "2002"
      ]
     },
     "execution_count": 2,
     "metadata": {},
     "output_type": "execute_result"
    }
   ],
   "source": [
    "years_list[3]"
   ]
  },
  {
   "cell_type": "markdown",
   "id": "1d10af66",
   "metadata": {},
   "source": [
    "3. Oldest in years_list"
   ]
  },
  {
   "cell_type": "code",
   "execution_count": 3,
   "id": "64834fe8",
   "metadata": {},
   "outputs": [
    {
     "data": {
      "text/plain": [
       "2004"
      ]
     },
     "execution_count": 3,
     "metadata": {},
     "output_type": "execute_result"
    }
   ],
   "source": [
    "max(years_list)"
   ]
  },
  {
   "cell_type": "markdown",
   "id": "92c2074e",
   "metadata": {},
   "source": [
    "4. Making things list"
   ]
  },
  {
   "cell_type": "code",
   "execution_count": 4,
   "id": "9b7707ed",
   "metadata": {},
   "outputs": [
    {
     "data": {
      "text/plain": [
       "['mozzarella', 'cinderella', 'salmonella']"
      ]
     },
     "execution_count": 4,
     "metadata": {},
     "output_type": "execute_result"
    }
   ],
   "source": [
    "things = list(['mozzarella', 'cinderella','salmonella'])\n",
    "things"
   ]
  },
  {
   "cell_type": "markdown",
   "id": "fb3dcbcc",
   "metadata": {},
   "source": [
    "5. Capitalizing the list element"
   ]
  },
  {
   "cell_type": "code",
   "execution_count": 5,
   "id": "265ef34a",
   "metadata": {},
   "outputs": [
    {
     "name": "stdout",
     "output_type": "stream",
     "text": [
      "Cinderella\n"
     ]
    },
    {
     "data": {
      "text/plain": [
       "['mozzarella', 'cinderella', 'salmonella']"
      ]
     },
     "execution_count": 5,
     "metadata": {},
     "output_type": "execute_result"
    }
   ],
   "source": [
    "print(things[1].capitalize())\n",
    "things"
   ]
  },
  {
   "cell_type": "markdown",
   "id": "cb6a98ec",
   "metadata": {},
   "source": [
    "Hence, capitalize() will not update the list original values."
   ]
  },
  {
   "cell_type": "markdown",
   "id": "e8ad29b9",
   "metadata": {},
   "source": [
    "6. Creating a surprise list"
   ]
  },
  {
   "cell_type": "code",
   "execution_count": 6,
   "id": "b9d7aacc",
   "metadata": {},
   "outputs": [
    {
     "data": {
      "text/plain": [
       "['Groucho', 'Chico', 'Harpo']"
      ]
     },
     "execution_count": 6,
     "metadata": {},
     "output_type": "execute_result"
    }
   ],
   "source": [
    "surprise_list = [\"Groucho\", \"Chico\", \"Harpo\"]\n",
    "surprise_list"
   ]
  },
  {
   "cell_type": "markdown",
   "id": "6bc4edb8",
   "metadata": {},
   "source": [
    "7. Lowercase the last element of the surprise list, reverse it, and then capitalize it"
   ]
  },
  {
   "cell_type": "code",
   "execution_count": 8,
   "id": "d5f9607a",
   "metadata": {},
   "outputs": [
    {
     "data": {
      "text/plain": [
       "'harpo'"
      ]
     },
     "execution_count": 8,
     "metadata": {},
     "output_type": "execute_result"
    }
   ],
   "source": [
    "surprise_list[-1].lower()"
   ]
  },
  {
   "cell_type": "code",
   "execution_count": 9,
   "id": "88486302",
   "metadata": {},
   "outputs": [
    {
     "data": {
      "text/plain": [
       "'opraH'"
      ]
     },
     "execution_count": 9,
     "metadata": {},
     "output_type": "execute_result"
    }
   ],
   "source": [
    "surprise_list[-1][::-1]"
   ]
  },
  {
   "cell_type": "code",
   "execution_count": 10,
   "id": "005a38ea",
   "metadata": {},
   "outputs": [
    {
     "data": {
      "text/plain": [
       "'OPRAH'"
      ]
     },
     "execution_count": 10,
     "metadata": {},
     "output_type": "execute_result"
    }
   ],
   "source": [
    "surprise_list[-1][::-1].upper()"
   ]
  },
  {
   "cell_type": "markdown",
   "id": "bbd1696c",
   "metadata": {},
   "source": [
    "8. Creating e2f dictionary"
   ]
  },
  {
   "cell_type": "code",
   "execution_count": 11,
   "id": "d2fcca3f",
   "metadata": {},
   "outputs": [
    {
     "data": {
      "text/plain": [
       "{'dog': 'chien', 'cat': 'chat', 'walrus': 'morse'}"
      ]
     },
     "execution_count": 11,
     "metadata": {},
     "output_type": "execute_result"
    }
   ],
   "source": [
    "e2f = {'dog':'chien','cat':'chat','walrus':'morse'}\n",
    "e2f"
   ]
  },
  {
   "cell_type": "markdown",
   "id": "e45803db",
   "metadata": {},
   "source": [
    "9. French word for Walrus"
   ]
  },
  {
   "cell_type": "code",
   "execution_count": 12,
   "id": "e6e067cc",
   "metadata": {},
   "outputs": [
    {
     "data": {
      "text/plain": [
       "'morse'"
      ]
     },
     "execution_count": 12,
     "metadata": {},
     "output_type": "execute_result"
    }
   ],
   "source": [
    "e2f['walrus']"
   ]
  },
  {
   "cell_type": "markdown",
   "id": "66bc621e",
   "metadata": {},
   "source": [
    "10. Making f2e dictionary from e2f"
   ]
  },
  {
   "cell_type": "code",
   "execution_count": 13,
   "id": "f8b7fa19",
   "metadata": {},
   "outputs": [
    {
     "data": {
      "text/plain": [
       "{'chien': 'dog', 'chat': 'cat', 'morse': 'walrus'}"
      ]
     },
     "execution_count": 13,
     "metadata": {},
     "output_type": "execute_result"
    }
   ],
   "source": [
    "f2e = dict((key,value) for value,key in e2f.items())\n",
    "f2e"
   ]
  },
  {
   "cell_type": "markdown",
   "id": "29b87c15",
   "metadata": {},
   "source": [
    "11. English version of chien"
   ]
  },
  {
   "cell_type": "code",
   "execution_count": 14,
   "id": "3c812694",
   "metadata": {},
   "outputs": [
    {
     "data": {
      "text/plain": [
       "'dog'"
      ]
     },
     "execution_count": 14,
     "metadata": {},
     "output_type": "execute_result"
    }
   ],
   "source": [
    "f2e['chien']"
   ]
  },
  {
   "cell_type": "markdown",
   "id": "4264e2c5",
   "metadata": {},
   "source": [
    "12. Set of English words from the keys in e2f."
   ]
  },
  {
   "cell_type": "code",
   "execution_count": 16,
   "id": "754371e0",
   "metadata": {},
   "outputs": [
    {
     "data": {
      "text/plain": [
       "dict_keys(['dog', 'cat', 'walrus'])"
      ]
     },
     "execution_count": 16,
     "metadata": {},
     "output_type": "execute_result"
    }
   ],
   "source": [
    "e2f.keys()"
   ]
  },
  {
   "cell_type": "markdown",
   "id": "fe5dda6e",
   "metadata": {},
   "source": [
    "13. Creating dictionary called life"
   ]
  },
  {
   "cell_type": "code",
   "execution_count": 17,
   "id": "e719f705",
   "metadata": {},
   "outputs": [
    {
     "data": {
      "text/plain": [
       "{'animals': {'cat': ['Henri', 'Grumpy', 'Lucy'], 'octopi': '', 'emus': ''},\n",
       " 'plants': '',\n",
       " 'other': ''}"
      ]
     },
     "execution_count": 17,
     "metadata": {},
     "output_type": "execute_result"
    }
   ],
   "source": [
    "life ={'animals':{'cat':['Henri', 'Grumpy', 'Lucy'], 'octopi':'', 'emus':''},\n",
    "       'plants' :'',\n",
    "       'other' :'' }\n",
    "life"
   ]
  },
  {
   "cell_type": "markdown",
   "id": "87460fa1",
   "metadata": {},
   "source": [
    "14. Priting top-level keys of life"
   ]
  },
  {
   "cell_type": "code",
   "execution_count": 18,
   "id": "ced3540a",
   "metadata": {},
   "outputs": [
    {
     "data": {
      "text/plain": [
       "dict_keys(['animals', 'plants', 'other'])"
      ]
     },
     "execution_count": 18,
     "metadata": {},
     "output_type": "execute_result"
    }
   ],
   "source": [
    "life.keys()"
   ]
  },
  {
   "cell_type": "markdown",
   "id": "ff2da77d",
   "metadata": {},
   "source": [
    "15. Printing keys of animal"
   ]
  },
  {
   "cell_type": "code",
   "execution_count": 19,
   "id": "4d8e3d20",
   "metadata": {},
   "outputs": [
    {
     "data": {
      "text/plain": [
       "dict_keys(['cat', 'octopi', 'emus'])"
      ]
     },
     "execution_count": 19,
     "metadata": {},
     "output_type": "execute_result"
    }
   ],
   "source": [
    "life['animals'].keys()"
   ]
  },
  {
   "cell_type": "markdown",
   "id": "d3b6a5ef",
   "metadata": {},
   "source": [
    "16. Print the values for life['animals']['cat']"
   ]
  },
  {
   "cell_type": "code",
   "execution_count": 20,
   "id": "ea2165ac",
   "metadata": {},
   "outputs": [
    {
     "data": {
      "text/plain": [
       "['Henri', 'Grumpy', 'Lucy']"
      ]
     },
     "execution_count": 20,
     "metadata": {},
     "output_type": "execute_result"
    }
   ],
   "source": [
    "life['animals']['cat']"
   ]
  },
  {
   "cell_type": "code",
   "execution_count": null,
   "id": "fbac31fa",
   "metadata": {},
   "outputs": [],
   "source": []
  }
 ],
 "metadata": {
  "kernelspec": {
   "display_name": "Python 3",
   "language": "python",
   "name": "python3"
  },
  "language_info": {
   "codemirror_mode": {
    "name": "ipython",
    "version": 3
   },
   "file_extension": ".py",
   "mimetype": "text/x-python",
   "name": "python",
   "nbconvert_exporter": "python",
   "pygments_lexer": "ipython3",
   "version": "3.8.8"
  }
 },
 "nbformat": 4,
 "nbformat_minor": 5
}
