{
 "cells": [
  {
   "cell_type": "markdown",
   "id": "5cc45f51",
   "metadata": {},
   "source": [
    "1. Here, values are \"hello\", -87.8, and 6, and expressions are *,-,/,and +."
   ]
  },
  {
   "cell_type": "markdown",
   "id": "7cfc77ad",
   "metadata": {},
   "source": [
    "2. Variables are a reference to an object, which means that any value can be assigned to it. Whereas, string is a datatype that can be stored in a varibale. "
   ]
  },
  {
   "cell_type": "markdown",
   "id": "e867f445",
   "metadata": {},
   "source": [
    "3. The three different datatypes are as follows:\n",
    "\n",
    "    i. Nuemric: It is used to store numeric data such as integers, decimal numbers, etc.\n",
    "    ii. String: It is used to store the sequence of characters.\n",
    "    iii. Boolean: It consists two possible values which represent the truth values,i.e. true and false."
   ]
  },
  {
   "cell_type": "markdown",
   "id": "b4872211",
   "metadata": {},
   "source": [
    "4. An expression is made up of operators and operands. Expressions are used to carry out different operations and assign a value to the variable."
   ]
  },
  {
   "cell_type": "markdown",
   "id": "66d8fcab",
   "metadata": {},
   "source": [
    "5. Expression is a combination of operators and operands which returns a value, but execution of a statement doesn't return anything."
   ]
  },
  {
   "cell_type": "code",
   "execution_count": 1,
   "id": "bac3df97",
   "metadata": {},
   "outputs": [
    {
     "name": "stdout",
     "output_type": "stream",
     "text": [
      "22\n"
     ]
    }
   ],
   "source": [
    "'''Question Number:6\n",
    "Here, the value of bacon will be 22, because the output of bacon+1 is not updated in the variable bacon.\n",
    "It can be seen in the code below.'''\n",
    "bacon=22\n",
    "bacon+1\n",
    "print(bacon)"
   ]
  },
  {
   "cell_type": "code",
   "execution_count": 2,
   "id": "bf0192cc",
   "metadata": {},
   "outputs": [
    {
     "name": "stdout",
     "output_type": "stream",
     "text": [
      "spamspamspam\n",
      "spamspamspam\n"
     ]
    }
   ],
   "source": [
    "''' Question Number:7\n",
    "The value of both the terms will be spamspamspam. The first expresiion is the concatenation of two stings, 'spam' and\n",
    "'spamspam'. The sceond expression repeats the string 'spam' thrice and store the updated value in the variable.'''\n",
    "\n",
    "x='spam'+'spamspam'\n",
    "print(x)\n",
    "y= 'spam'*3\n",
    "print(y)"
   ]
  },
  {
   "cell_type": "markdown",
   "id": "f659761c",
   "metadata": {},
   "source": [
    "8. 'eggs' is a valid variable name because it is starting with a letter and doesn't contain any special character. 100 is an invalid name for the variable because it is starting with a digit.  "
   ]
  },
  {
   "cell_type": "markdown",
   "id": "ec9f49b1",
   "metadata": {},
   "source": [
    "9. The functions are int(), float(), and str()."
   ]
  },
  {
   "cell_type": "code",
   "execution_count": 3,
   "id": "3843e115",
   "metadata": {},
   "outputs": [
    {
     "name": "stdout",
     "output_type": "stream",
     "text": [
      "I have eaten 99 burritos\n"
     ]
    }
   ],
   "source": [
    "'''Question Number: 10\n",
    "The expression 'I have eaten ' + 99 + ' burritos.' causes an error because the expression contains values of two \n",
    "different data types (int and string) that can't be added together. The error can be solved by typecasting the integer\n",
    "value to string and then carrying the operation. It is shown in the code below.'''\n",
    "x= 'I have eaten ' + str(99) + ' burritos'\n",
    "print(x)"
   ]
  },
  {
   "cell_type": "code",
   "execution_count": null,
   "id": "2ab8f44b",
   "metadata": {},
   "outputs": [],
   "source": []
  }
 ],
 "metadata": {
  "kernelspec": {
   "display_name": "Python 3",
   "language": "python",
   "name": "python3"
  },
  "language_info": {
   "codemirror_mode": {
    "name": "ipython",
    "version": 3
   },
   "file_extension": ".py",
   "mimetype": "text/x-python",
   "name": "python",
   "nbconvert_exporter": "python",
   "pygments_lexer": "ipython3",
   "version": "3.8.8"
  }
 },
 "nbformat": 4,
 "nbformat_minor": 5
}
