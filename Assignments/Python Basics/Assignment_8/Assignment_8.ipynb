{
 "cells": [
  {
   "cell_type": "markdown",
   "id": "6f3998a7",
   "metadata": {},
   "source": [
    "1. PyInputPlus is not a part of the Python Standard Library."
   ]
  },
  {
   "cell_type": "markdown",
   "id": "6514b2bc",
   "metadata": {},
   "source": [
    "2. It is done so that we can enter a shorter name when calling the functions."
   ]
  },
  {
   "cell_type": "markdown",
   "id": "fd2e8a8f",
   "metadata": {},
   "source": [
    "3. The difference is that, the inputInt() function returns an integer, and the inputFloat() function returns a float value."
   ]
  },
  {
   "cell_type": "markdown",
   "id": "7139d1d7",
   "metadata": {},
   "source": [
    "4. It can be done by setting the minimum and maximum values between 0 and 99 ny using the code: pyip.inputint(min=0, max=99)."
   ]
  },
  {
   "cell_type": "markdown",
   "id": "fd7c8b6b",
   "metadata": {},
   "source": [
    "5. They are used to determine what regex pattern the PyInputPlus function will accept or reject as valid input."
   ]
  },
  {
   "cell_type": "markdown",
   "id": "02f6f68f",
   "metadata": {},
   "source": [
    "6. In this case, the function will rasie RetryLimitException."
   ]
  },
  {
   "cell_type": "markdown",
   "id": "be1c38bb",
   "metadata": {},
   "source": [
    "7. If a blank input is entered, it will print the default value 'hello'."
   ]
  }
 ],
 "metadata": {
  "kernelspec": {
   "display_name": "Python 3",
   "language": "python",
   "name": "python3"
  },
  "language_info": {
   "codemirror_mode": {
    "name": "ipython",
    "version": 3
   },
   "file_extension": ".py",
   "mimetype": "text/x-python",
   "name": "python",
   "nbconvert_exporter": "python",
   "pygments_lexer": "ipython3",
   "version": "3.8.8"
  }
 },
 "nbformat": 4,
 "nbformat_minor": 5
}
