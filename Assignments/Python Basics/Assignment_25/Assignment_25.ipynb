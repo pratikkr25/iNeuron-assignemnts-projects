{
 "cells": [
  {
   "cell_type": "markdown",
   "id": "faffaba3",
   "metadata": {},
   "source": [
    "1) What is the difference between enclosing a list comprehension in square brackets and parentheses?"
   ]
  },
  {
   "cell_type": "markdown",
   "id": "b2412f63",
   "metadata": {},
   "source": [
    "The difference is that the List comprehension is enclosed in square brackets [] produces a list, while the Generator expression is enclosed in plain parentheses ()."
   ]
  },
  {
   "cell_type": "markdown",
   "id": "f8f43cf7",
   "metadata": {},
   "source": [
    "2) What is the relationship between generators and iterators?"
   ]
  },
  {
   "cell_type": "markdown",
   "id": "d0c94f18",
   "metadata": {},
   "source": [
    "An iterator is an object which contains a countable number of values and it is used to iterate over iterable objects like list, tuples etc. \n",
    "\n",
    "Generator is another way of creating iterators where it uses the keyword “yield” instead of returning it in a defined function. Generators are implemented using a function. "
   ]
  },
  {
   "cell_type": "markdown",
   "id": "b5e70bd8",
   "metadata": {},
   "source": [
    "3) What are the signs that a function is a generator function?"
   ]
  },
  {
   "cell_type": "markdown",
   "id": "02e4cea3",
   "metadata": {},
   "source": [
    "If a function contains at least one yield statement (it may contain other yield or return statements), it becomes a generator function. Both yield and return will return some value from a function."
   ]
  },
  {
   "cell_type": "markdown",
   "id": "8da9f2dc",
   "metadata": {},
   "source": [
    "4) What is the purpose of a yield statement?"
   ]
  },
  {
   "cell_type": "markdown",
   "id": "a7019fee",
   "metadata": {},
   "source": [
    "Any function that contains a yield keyword is termed as generator. Hence, yield is what makes a generator. yield keyword in Python is less known off but has a greater utility which one can think of."
   ]
  },
  {
   "cell_type": "markdown",
   "id": "0984e532",
   "metadata": {},
   "source": [
    "5) What is the relationship between map calls and list comprehensions? Make a comparison and contrast between the two."
   ]
  },
  {
   "cell_type": "markdown",
   "id": "32c0359d",
   "metadata": {},
   "source": [
    "- List comprehension is more concise and easier to read as compared to map.\n",
    "\n",
    "- List comprehension allows filtering. In map, we have no such facility.\n",
    "\n",
    "- List comprehension are used when a list of results is required as map only returns a map object and does not return any list.\n",
    "\n",
    "- List comprehension is faster than map when we need to evaluate expressions that are too long or complicated to express.\n",
    "\n",
    "- Map is faster in case of calling an already defined function."
   ]
  },
  {
   "cell_type": "code",
   "execution_count": null,
   "id": "cfde0218",
   "metadata": {},
   "outputs": [],
   "source": []
  }
 ],
 "metadata": {
  "kernelspec": {
   "display_name": "Python 3",
   "language": "python",
   "name": "python3"
  },
  "language_info": {
   "codemirror_mode": {
    "name": "ipython",
    "version": 3
   },
   "file_extension": ".py",
   "mimetype": "text/x-python",
   "name": "python",
   "nbconvert_exporter": "python",
   "pygments_lexer": "ipython3",
   "version": "3.8.8"
  }
 },
 "nbformat": 4,
 "nbformat_minor": 5
}
