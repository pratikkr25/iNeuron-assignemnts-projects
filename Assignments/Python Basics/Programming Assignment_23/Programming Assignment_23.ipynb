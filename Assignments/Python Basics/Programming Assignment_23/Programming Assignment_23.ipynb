{
 "cells": [
  {
   "cell_type": "markdown",
   "id": "fd372ce1",
   "metadata": {},
   "source": [
    "__Question 1__\n",
    "\n",
    "Create a function that takes a number as an argument and returns True or False depending on whether the number is symmetrical or not. A number is symmetrical when it is the same as its reverse."
   ]
  },
  {
   "cell_type": "code",
   "execution_count": 1,
   "id": "fe9c2880",
   "metadata": {},
   "outputs": [
    {
     "name": "stdout",
     "output_type": "stream",
     "text": [
      "7227 : True\n",
      "12567 : False\n",
      "44444444 : True\n",
      "9939 : False\n",
      "1112111 : True\n"
     ]
    }
   ],
   "source": [
    "def is_symmetrical(num):\n",
    "    if str(num) == str(num)[::-1]:\n",
    "        print(f'{num} : {True}')\n",
    "    else:\n",
    "        print(f'{num} : {False}')\n",
    "\n",
    "is_symmetrical(7227)\n",
    "is_symmetrical(12567)\n",
    "is_symmetrical(44444444)\n",
    "is_symmetrical(9939)\n",
    "is_symmetrical(1112111)"
   ]
  },
  {
   "cell_type": "markdown",
   "id": "c4254cf3",
   "metadata": {},
   "source": [
    "__Question 2__\n",
    "\n",
    "Given a string of numbers separated by a _comma and space_, return the product of the numbers."
   ]
  },
  {
   "cell_type": "code",
   "execution_count": 2,
   "id": "93608810",
   "metadata": {},
   "outputs": [
    {
     "name": "stdout",
     "output_type": "stream",
     "text": [
      "Output: 6\n",
      "Output: 24\n",
      "Output: 0\n",
      "Output: -20\n"
     ]
    }
   ],
   "source": [
    "def multiply_nums(inputStr):\n",
    "    output = inputStr.replace(' ','').split(',')\n",
    "    num = 1\n",
    "    for ele in output:\n",
    "        num *= int(ele)\n",
    "    print(f'Output: {num}')\n",
    "    \n",
    "multiply_nums(\"2, 3\")\n",
    "multiply_nums(\"1, 2, 3, 4\")\n",
    "multiply_nums(\"54, 75, 453, 0\")\n",
    "multiply_nums(\"10, -2\")"
   ]
  },
  {
   "cell_type": "markdown",
   "id": "5ca750ce",
   "metadata": {},
   "source": [
    "__Question 3__\n",
    "\n",
    "Create a function that squares every digit of a number.\n",
    "\n",
    "__Notes__\n",
    "\n",
    "The function receives an integer and must return an integer."
   ]
  },
  {
   "cell_type": "code",
   "execution_count": 3,
   "id": "58e33a7a",
   "metadata": {},
   "outputs": [
    {
     "name": "stdout",
     "output_type": "stream",
     "text": [
      "Square of digits of 9119 : 811181\n",
      "Square of digits of 2483 : 416649\n",
      "Square of digits of 3212 : 9414\n"
     ]
    }
   ],
   "source": [
    "def square_digits(num):\n",
    "    inputList = [str(int(ele) ** 2) for ele in str(num)]\n",
    "    outputList = ''.join(inputList)\n",
    "    print(f'Square of digits of {num} : {int(outputList)}')\n",
    "\n",
    "square_digits(9119)\n",
    "square_digits(2483)\n",
    "square_digits(3212)"
   ]
  },
  {
   "cell_type": "markdown",
   "id": "eb49a0f8",
   "metadata": {},
   "source": [
    "__Question 4__\n",
    "\n",
    "Create a function that sorts a list and removes all duplicate items from it."
   ]
  },
  {
   "cell_type": "code",
   "execution_count": 4,
   "id": "81a627a6",
   "metadata": {},
   "outputs": [
    {
     "name": "stdout",
     "output_type": "stream",
     "text": [
      "[1, 3, 3, 5, 5] : [1, 3, 5]\n",
      "[4, 4, 4, 4] : [4]\n",
      "[5, 7, 8, 9, 10, 15] : [5, 7, 8, 9, 10, 15]\n",
      "[3, 3, 3, 2, 1] : [1, 2, 3]\n"
     ]
    }
   ],
   "source": [
    "def setify(inputList):\n",
    "    output = sorted(set(inputList))\n",
    "    print(f'{inputList} : {output}')\n",
    "    \n",
    "setify([1, 3, 3, 5, 5]) \n",
    "setify([4, 4, 4, 4])\n",
    "setify([5, 7, 8, 9, 10, 15])\n",
    "setify([3, 3, 3, 2, 1])"
   ]
  },
  {
   "cell_type": "markdown",
   "id": "79603b2a",
   "metadata": {},
   "source": [
    "__Question 5__\n",
    "\n",
    "Create a function that returns the mean of all digits.\n",
    "\n",
    "__Notes__\n",
    "\n",
    "1. The mean of all digits is the sum of digits / how many digits there are (e.g. mean of digits in 512 is (5+1+2)/3(number of digits) = 8/3=2).\n",
    "2. The mean will always be an integer."
   ]
  },
  {
   "cell_type": "code",
   "execution_count": 6,
   "id": "32d6348f",
   "metadata": {},
   "outputs": [
    {
     "name": "stdout",
     "output_type": "stream",
     "text": [
      "Mean of digits of 42 is 3\n",
      "Mean of digits of 12345 is 3\n",
      "Mean of digits of 666 is 6\n"
     ]
    }
   ],
   "source": [
    "def mean(num):\n",
    "    inputList = [int(ele) for ele in str(num)]\n",
    "    result = sum(inputList) / len(str(num))\n",
    "    print(f'Mean of digits of {num} is {result:.0f}')\n",
    "    \n",
    "mean(42)\n",
    "mean(12345)\n",
    "mean(666)"
   ]
  },
  {
   "cell_type": "code",
   "execution_count": null,
   "id": "3399f012",
   "metadata": {},
   "outputs": [],
   "source": []
  }
 ],
 "metadata": {
  "kernelspec": {
   "display_name": "Python 3",
   "language": "python",
   "name": "python3"
  },
  "language_info": {
   "codemirror_mode": {
    "name": "ipython",
    "version": 3
   },
   "file_extension": ".py",
   "mimetype": "text/x-python",
   "name": "python",
   "nbconvert_exporter": "python",
   "pygments_lexer": "ipython3",
   "version": "3.8.8"
  }
 },
 "nbformat": 4,
 "nbformat_minor": 5
}
