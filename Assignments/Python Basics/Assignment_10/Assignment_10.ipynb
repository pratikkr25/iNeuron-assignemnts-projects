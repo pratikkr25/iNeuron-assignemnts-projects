{
 "cells": [
  {
   "cell_type": "markdown",
   "id": "1804f6ad",
   "metadata": {},
   "source": [
    "1. The shutil.copy() function copies a single file, while shutil.copytree() copies an entire folder, along with all its contents."
   ]
  },
  {
   "cell_type": "markdown",
   "id": "12eb2b3e",
   "metadata": {},
   "source": [
    "2. shutil.move()"
   ]
  },
  {
   "cell_type": "markdown",
   "id": "d9c78d15",
   "metadata": {},
   "source": [
    "3. The send2trash functions moves a file or folder to the recycle bin, whereas shutil functions permanently delete files and folders."
   ]
  },
  {
   "cell_type": "markdown",
   "id": "f9c68da9",
   "metadata": {},
   "source": [
    "4. The zipfile.ZipFile() function is equivalent to the open() function."
   ]
  },
  {
   "cell_type": "code",
   "execution_count": 3,
   "id": "1787111b",
   "metadata": {},
   "outputs": [
    {
     "name": "stdout",
     "output_type": "stream",
     "text": [
      "Looking in C:\\Users\\hp-pc\\Desktop\\iNeuron\\Python Basics\\randomFolder for files with extensions of .pdf, .jpg\n"
     ]
    }
   ],
   "source": [
    "#Question 5\n",
    "\n",
    "import os, shutil\n",
    "\n",
    "def selectiveCopy(folder, extensions, destFolder):\n",
    "\tfolder = os.path.abspath(folder)\n",
    "\tdestFolder = os.path.abspath(destFolder)\n",
    "\tprint('Looking in', folder, 'for files with extensions of', ', '.join(extensions))\n",
    "\tfor foldername, subfolders, filenames in os.walk(folder):\n",
    "\t\tfor filename in filenames:\n",
    "\t\t\tname, extension = os.path.splitext(filename)\n",
    "\t\t\tif extension in extensions:\n",
    "\t\t\t\tfileAbsPath = foldername + os.path.sep + filename\n",
    "\t\t\t\tprint('Coping', fileAbsPath, 'to', destFolder)\n",
    "\t\t\t\tshutil.copy(fileAbsPath, destFolder)\n",
    "\n",
    "extensions = ['.pdf', '.jpg']\n",
    "folder = 'randomFolder'\n",
    "destFolder = 'selectiveFolder'\n",
    "selectiveCopy(folder, extensions, destFolder)"
   ]
  }
 ],
 "metadata": {
  "kernelspec": {
   "display_name": "Python 3",
   "language": "python",
   "name": "python3"
  },
  "language_info": {
   "codemirror_mode": {
    "name": "ipython",
    "version": 3
   },
   "file_extension": ".py",
   "mimetype": "text/x-python",
   "name": "python",
   "nbconvert_exporter": "python",
   "pygments_lexer": "ipython3",
   "version": "3.8.8"
  }
 },
 "nbformat": 4,
 "nbformat_minor": 5
}
