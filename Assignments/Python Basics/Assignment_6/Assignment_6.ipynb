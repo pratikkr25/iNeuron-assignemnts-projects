{
 "cells": [
  {
   "cell_type": "markdown",
   "id": "3d4a635c",
   "metadata": {},
   "source": [
    "1. An escape character is a backslash \\ followed by the character that can be inserted to the string. They are used to insert characters in a string that can'e be added normally."
   ]
  },
  {
   "cell_type": "markdown",
   "id": "c0f4e188",
   "metadata": {},
   "source": [
    "2. \\n represents new line, and \\t represents tab."
   ]
  },
  {
   "cell_type": "markdown",
   "id": "1708949e",
   "metadata": {},
   "source": [
    "3. Backslash can be included using backslash twice \\."
   ]
  },
  {
   "cell_type": "markdown",
   "id": "e71ed618",
   "metadata": {},
   "source": [
    "4. The single quote doesn't create an error as there's already double quotes at the start and the end of the string."
   ]
  },
  {
   "cell_type": "markdown",
   "id": "38d23740",
   "metadata": {},
   "source": [
    "5. It can be donw by using multiline string, or by printing the string as different print statements."
   ]
  },
  {
   "cell_type": "markdown",
   "id": "ab868751",
   "metadata": {},
   "source": [
    "6. The values are 'e', 'Hello', 'Hello', and 'lo, world!' respectively."
   ]
  },
  {
   "cell_type": "markdown",
   "id": "cc4cba50",
   "metadata": {},
   "source": [
    "7. 'Hello'.upper() = 'HELLO', 'Hello'.upper().isupper() = True, 'Hello'.upper().lower() = 'hello'"
   ]
  },
  {
   "cell_type": "markdown",
   "id": "f4759543",
   "metadata": {},
   "source": [
    "8. The values are ['Remember,', 'remember,', 'the', 'fifth', 'of', 'July.'] and 'There-can-only-one.'"
   ]
  },
  {
   "cell_type": "markdown",
   "id": "68b1b42c",
   "metadata": {},
   "source": [
    "9. rjust(), ljust(), and center() methods are used to align the string."
   ]
  },
  {
   "cell_type": "markdown",
   "id": "7f173667",
   "metadata": {},
   "source": [
    "10. lstrip() snd rstrip() are used to remove whitespaces from the beginning or the end."
   ]
  }
 ],
 "metadata": {
  "kernelspec": {
   "display_name": "Python 3",
   "language": "python",
   "name": "python3"
  },
  "language_info": {
   "codemirror_mode": {
    "name": "ipython",
    "version": 3
   },
   "file_extension": ".py",
   "mimetype": "text/x-python",
   "name": "python",
   "nbconvert_exporter": "python",
   "pygments_lexer": "ipython3",
   "version": "3.8.8"
  }
 },
 "nbformat": 4,
 "nbformat_minor": 5
}
