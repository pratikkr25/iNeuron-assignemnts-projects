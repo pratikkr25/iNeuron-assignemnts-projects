{
 "cells": [
  {
   "cell_type": "markdown",
   "id": "a4b57557",
   "metadata": {},
   "source": [
    "__Question 1__\n",
    "\n",
    "Create a function that takes three integer arguments (a, b, c) and returns the amount of integers which are of equal value.\n",
    "\n",
    "__Notes__\n",
    "Your function must return 0, 2 or 3."
   ]
  },
  {
   "cell_type": "code",
   "execution_count": 11,
   "id": "a579bc7c",
   "metadata": {},
   "outputs": [
    {
     "name": "stdout",
     "output_type": "stream",
     "text": [
      "(3, 4, 3) : 2\n",
      "(1, 1, 1) : 3\n",
      "(3, 4, 1) : 0\n"
     ]
    }
   ],
   "source": [
    "def equal(a,b,c):\n",
    "    if a==b and b==c and c==a:\n",
    "        print(f'{a,b,c} : {3}')\n",
    "    elif (a!=b and b!=c and c!=a):\n",
    "        print(f'{a,b,c} : {0}')\n",
    "    else:\n",
    "        print(f'{a,b,c} : {2}')\n",
    "\n",
    "equal(3, 4, 3)\n",
    "equal(1, 1, 1)\n",
    "equal(3, 4, 1)"
   ]
  },
  {
   "cell_type": "markdown",
   "id": "6ac2043c",
   "metadata": {},
   "source": [
    "__Question 2__\n",
    "\n",
    "Write a function that converts a dictionary into a list of keys-values tuples."
   ]
  },
  {
   "cell_type": "code",
   "execution_count": 15,
   "id": "2abb92ee",
   "metadata": {},
   "outputs": [
    {
     "name": "stdout",
     "output_type": "stream",
     "text": [
      "[('D', 1), ('B', 2), ('C', 3)]\n",
      "[('likes', 2), ('dislikes', 3), ('followers', 10)]\n"
     ]
    }
   ],
   "source": [
    "def dict_to_list(inputDict):\n",
    "    output = []\n",
    "    for keys,values in inputDict.items():\n",
    "        output.append((keys, values))\n",
    "    print(f'{output}')\n",
    "                   \n",
    "dict_to_list({\"D\": 1,\"B\": 2,\"C\": 3})\n",
    "dict_to_list({\"likes\": 2,\"dislikes\": 3,\"followers\": 10})"
   ]
  },
  {
   "cell_type": "markdown",
   "id": "226f97b7",
   "metadata": {},
   "source": [
    "__Question 3__\n",
    "\n",
    "Write a function that creates a dictionary with each (key, value) pair being the (lower case, upper case) versions of a letter, respectively."
   ]
  },
  {
   "cell_type": "code",
   "execution_count": 16,
   "id": "6b4f6328",
   "metadata": {},
   "outputs": [
    {
     "name": "stdout",
     "output_type": "stream",
     "text": [
      "{'p': 'P', 's': 'S'}\n",
      "{'a': 'A', 'b': 'B', 'c': 'C'}\n",
      "{'a': 'A', 'v': 'V', 'y': 'Y', 'z': 'Z'}\n"
     ]
    }
   ],
   "source": [
    "def mapping(inputList):\n",
    "    outputDict = {}\n",
    "    for ele in inputList:\n",
    "        outputDict[ele] = ele.upper()\n",
    "    print(f'{outputDict}')\n",
    "    \n",
    "mapping([\"p\", \"s\"])\n",
    "mapping([\"a\", \"b\", \"c\"])\n",
    "mapping([\"a\", \"v\", \"y\", \"z\"])"
   ]
  },
  {
   "cell_type": "markdown",
   "id": "61093c2f",
   "metadata": {},
   "source": [
    "__Question 4__\n",
    "\n",
    "Write a function, that replaces all vowels in a string with a specified vowel."
   ]
  },
  {
   "cell_type": "code",
   "execution_count": 17,
   "id": "e509bc6b",
   "metadata": {},
   "outputs": [
    {
     "name": "stdout",
     "output_type": "stream",
     "text": [
      "upplus und bununus\n",
      "chooso cossorolo\n",
      "steffed jelepene peppers\n"
     ]
    }
   ],
   "source": [
    "def vow_replace(inputStr, vowel):\n",
    "    vowelList = ['a','e','i','o','u','A','E','I','O','U']\n",
    "    output = ''\n",
    "    for ele in inputStr:\n",
    "        if ele in vowelList:\n",
    "            output += vowel\n",
    "        else:\n",
    "            output += ele\n",
    "    print(f'{output}')\n",
    "        \n",
    "vow_replace(\"apples and bananas\", \"u\")\n",
    "vow_replace(\"cheese casserole\", \"o\")\n",
    "vow_replace(\"stuffed jalapeno poppers\", \"e\")"
   ]
  },
  {
   "cell_type": "markdown",
   "id": "b12b0ffa",
   "metadata": {},
   "source": [
    "__Question 5__\n",
    "\n",
    "Create a function that takes a string as input and capitalizes a letter if its ASCII code is even and returns its lower case version if its ASCII code is odd."
   ]
  },
  {
   "cell_type": "code",
   "execution_count": 18,
   "id": "fb797e35",
   "metadata": {},
   "outputs": [
    {
     "name": "stdout",
     "output_type": "stream",
     "text": [
      "To Be oR NoT To Be!\n",
      "THe LiTTLe meRmaiD\n",
      "oH wHaT a BeauTiFuL moRNiNg.\n"
     ]
    }
   ],
   "source": [
    "def ascii_capitalize(inputStr):\n",
    "    output = ''\n",
    "    for ele in inputStr.lower():\n",
    "        if (ord(ele) % 2 == 0):\n",
    "            output += ele.upper()\n",
    "        else:\n",
    "            output += ele\n",
    "    print(f'{output}')\n",
    "        \n",
    "ascii_capitalize(\"to be or not to be!\")\n",
    "ascii_capitalize(\"THE LITTLE MERMAID\")\n",
    "ascii_capitalize(\"Oh what a beautiful morning.\")"
   ]
  },
  {
   "cell_type": "code",
   "execution_count": null,
   "id": "b8f0b658",
   "metadata": {},
   "outputs": [],
   "source": []
  }
 ],
 "metadata": {
  "kernelspec": {
   "display_name": "Python 3",
   "language": "python",
   "name": "python3"
  },
  "language_info": {
   "codemirror_mode": {
    "name": "ipython",
    "version": 3
   },
   "file_extension": ".py",
   "mimetype": "text/x-python",
   "name": "python",
   "nbconvert_exporter": "python",
   "pygments_lexer": "ipython3",
   "version": "3.8.8"
  }
 },
 "nbformat": 4,
 "nbformat_minor": 5
}
