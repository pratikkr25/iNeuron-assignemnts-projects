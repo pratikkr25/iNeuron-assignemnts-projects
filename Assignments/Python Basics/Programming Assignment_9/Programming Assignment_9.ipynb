{
 "cells": [
  {
   "cell_type": "markdown",
   "id": "f49b7ff7",
   "metadata": {},
   "source": [
    "1. Check if the given number is a Disarium Number"
   ]
  },
  {
   "cell_type": "code",
   "execution_count": 1,
   "id": "d01b0019",
   "metadata": {},
   "outputs": [
    {
     "name": "stdout",
     "output_type": "stream",
     "text": [
      "Enter a Number: 123\n",
      "123 is a Not Disarium Number\n",
      "Enter a Number: 135\n",
      "135 is a Disarium Number\n"
     ]
    }
   ],
   "source": [
    "#1. Check if the given number is a Disarium Number\n",
    "\n",
    "def checkDisarium():\n",
    "    num = input('Enter a Number: ')\n",
    "    sum = 0\n",
    "    for item in range(len(num)):\n",
    "        sum = sum + int(num[item])**(item+1)\n",
    "    if sum == int(num):\n",
    "        print(f'{num} is a Disarium Number')\n",
    "    else:\n",
    "        print(f'{num} is a Not Disarium Number') \n",
    "\n",
    "checkDisarium()\n",
    "checkDisarium()"
   ]
  },
  {
   "cell_type": "markdown",
   "id": "0111c8ed",
   "metadata": {},
   "source": [
    "2. Print all disarium numbers between 1 to 100"
   ]
  },
  {
   "cell_type": "code",
   "execution_count": 2,
   "id": "8c353fb2",
   "metadata": {},
   "outputs": [
    {
     "data": {
      "text/plain": [
       "[1, 2, 3, 4, 5, 6, 7, 8, 9, 89]"
      ]
     },
     "execution_count": 2,
     "metadata": {},
     "output_type": "execute_result"
    }
   ],
   "source": [
    "#2. Print all disarium numbers between 1 to 100\n",
    "\n",
    "def printDisarium(start,end):\n",
    "    output = []\n",
    "    for number in range(start,end+1):\n",
    "        sum = 0\n",
    "        for item in range(len(str(number))):\n",
    "            sum = sum + int(str(number)[item]) ** (item+1)\n",
    "        if sum == number:\n",
    "            output.append(number)\n",
    "    return output\n",
    "            \n",
    "        \n",
    "printDisarium(1,100)"
   ]
  },
  {
   "cell_type": "markdown",
   "id": "8a9ca3f3",
   "metadata": {},
   "source": [
    "3. Check if the given number is Happy Number"
   ]
  },
  {
   "cell_type": "code",
   "execution_count": 4,
   "id": "6117a138",
   "metadata": {},
   "outputs": [
    {
     "name": "stdout",
     "output_type": "stream",
     "text": [
      "Enter a Number: 12\n",
      "12 is not a Happy Number\n",
      "Enter a Number: 13\n",
      "13 is a Happy Number\n"
     ]
    }
   ],
   "source": [
    "#3. Check if the given number is Happy Number\n",
    "\n",
    "def checkHappyNumber():\n",
    "    num = input('Enter a Number: ')\n",
    "    num_duplicate = num\n",
    "    trackNumber = set()   \n",
    "    while True:\n",
    "        if num != '1' and str(num) not in trackNumber:\n",
    "            trackNumber.add(num)\n",
    "            sum = 0\n",
    "            for ele in range(len((num))):\n",
    "                sum = sum + int(num[ele]) ** 2\n",
    "            num = str(sum)\n",
    "        elif str(num) in trackNumber:\n",
    "            print(f'{num_duplicate} is not a Happy Number')\n",
    "            break\n",
    "        else:\n",
    "            print(f'{num_duplicate} is a Happy Number')\n",
    "            break\n",
    "\n",
    "checkHappyNumber()\n",
    "checkHappyNumber()"
   ]
  },
  {
   "cell_type": "markdown",
   "id": "c57d48b7",
   "metadata": {},
   "source": [
    "4. Print all happy numbers between 1 and 100"
   ]
  },
  {
   "cell_type": "code",
   "execution_count": 5,
   "id": "418a85b4",
   "metadata": {},
   "outputs": [
    {
     "name": "stdout",
     "output_type": "stream",
     "text": [
      "The Happy Numbers between 0 and 100 are [1, 7, 10, 13, 19, 23, 28, 31, 32, 44, 49, 68, 70, 79, 82, 86, 91, 94, 97, 100]\n"
     ]
    }
   ],
   "source": [
    "#4. Print all happy numbers between 1 and 100\n",
    "\n",
    "def checkHappyNumber(start, end):\n",
    "    happyNumbersList = []\n",
    "    for num in range(start,end+1):\n",
    "        num = str(num)\n",
    "        num_holder = num\n",
    "        trackNumber = set()   \n",
    "        while True:\n",
    "            if num != '1' and str(num) not in trackNumber:\n",
    "                trackNumber.add(num)\n",
    "                sum = 0\n",
    "                for ele in range(len((num))):\n",
    "                    sum = sum + int(num[ele])**2\n",
    "                num = str(sum)\n",
    "            elif str(num) in trackNumber:\n",
    "                break\n",
    "            else:\n",
    "                happyNumbersList.append(int(num_holder))\n",
    "                break\n",
    "    print(f'The Happy Numbers between {start} and {end} are {happyNumbersList}')\n",
    "    \n",
    "checkHappyNumber(0,100)"
   ]
  },
  {
   "cell_type": "markdown",
   "id": "8bac9f5a",
   "metadata": {},
   "source": [
    "5. Determine whether the given number is a Harshad Number"
   ]
  },
  {
   "cell_type": "code",
   "execution_count": 6,
   "id": "713d1f31",
   "metadata": {},
   "outputs": [
    {
     "name": "stdout",
     "output_type": "stream",
     "text": [
      "Enter a Number: 2019\n",
      "2019 is a Not Harshad Number\n",
      "Enter a Number: 6804\n",
      "6804 is a Harshad Number\n"
     ]
    }
   ],
   "source": [
    "#5. Determine whether the given number is a Harshad Number\n",
    "\n",
    "def checkHarshadNumber():\n",
    "    num = input('Enter a Number: ')\n",
    "    sum = 0\n",
    "    for item in range(len(num)):\n",
    "        sum = sum + int(num[item])\n",
    "    if int(num) % sum == 0:\n",
    "        print(f'{num} is a Harshad Number')\n",
    "    else:\n",
    "        print(f'{num} is a Not Harshad Number')\n",
    "        \n",
    "checkHarshadNumber()\n",
    "checkHarshadNumber()"
   ]
  },
  {
   "cell_type": "markdown",
   "id": "5b7f68a2",
   "metadata": {},
   "source": [
    "6. Print all pronic numbers between 1 and 100"
   ]
  },
  {
   "cell_type": "code",
   "execution_count": 10,
   "id": "759100ed",
   "metadata": {},
   "outputs": [
    {
     "name": "stdout",
     "output_type": "stream",
     "text": [
      "Pronic numbers between 1 and 100: \n",
      "2\n",
      "6\n",
      "12\n",
      "20\n",
      "30\n",
      "42\n",
      "56\n",
      "72\n",
      "90\n"
     ]
    }
   ],
   "source": [
    "#6. Print all pronic numbers between 1 and 100\n",
    "\n",
    "def isPronicNumber(num):    \n",
    "    flag = False;       \n",
    "    for j in range(1, num+1):    \n",
    "        #Checks for pronic number by multiplying consecutive numbers    \n",
    "        if((j*(j+1)) == num):    \n",
    "            flag = True;    \n",
    "            break;    \n",
    "    return flag;    \n",
    "       \n",
    "print(\"Pronic numbers between 1 and 100: \");    \n",
    "for i in range(1, 101):    \n",
    "    if(isPronicNumber(i)):    \n",
    "        print(i)   "
   ]
  },
  {
   "cell_type": "code",
   "execution_count": null,
   "id": "77f2a2f1",
   "metadata": {},
   "outputs": [],
   "source": []
  }
 ],
 "metadata": {
  "kernelspec": {
   "display_name": "Python 3",
   "language": "python",
   "name": "python3"
  },
  "language_info": {
   "codemirror_mode": {
    "name": "ipython",
    "version": 3
   },
   "file_extension": ".py",
   "mimetype": "text/x-python",
   "name": "python",
   "nbconvert_exporter": "python",
   "pygments_lexer": "ipython3",
   "version": "3.8.8"
  }
 },
 "nbformat": 4,
 "nbformat_minor": 5
}
