{
 "cells": [
  {
   "cell_type": "markdown",
   "id": "93b6c78c",
   "metadata": {},
   "source": [
    "1. The two values of Boolean data type are: True and False."
   ]
  },
  {
   "cell_type": "code",
   "execution_count": 1,
   "id": "b681ec42",
   "metadata": {},
   "outputs": [
    {
     "name": "stdout",
     "output_type": "stream",
     "text": [
      "<class 'bool'>\n",
      "<class 'bool'>\n"
     ]
    }
   ],
   "source": [
    "a = True\n",
    "b = False\n",
    "print(type(a))\n",
    "print(type(b))"
   ]
  },
  {
   "cell_type": "markdown",
   "id": "37aeda43",
   "metadata": {},
   "source": [
    "2. The three different types of Boolean operators are AND, OR, and NOT."
   ]
  },
  {
   "cell_type": "markdown",
   "id": "0ff539b8",
   "metadata": {},
   "source": [
    "3. The truth table of Boolean operators are as follows:\n",
    "\n",
    "         Input                           Output\n",
    "       X       Y          X AND Y   X OR Y   NOT X   NOT Y\n",
    "       \n",
    "      True    True          True     True    False   False \n",
    "      True    False         False    True    False   True\n",
    "      False   True          False    True    True    False\n",
    "      False   False         False    False   True    Ture"
   ]
  },
  {
   "cell_type": "markdown",
   "id": "c8da3260",
   "metadata": {},
   "source": [
    "4. The answers are as follows:\n",
    "\n",
    "(5 > 4) and (3 == 5): False\n",
    "not (5 > 4): False\n",
    "(5 > 4) or (3 == 5): True\n",
    "not ((5 > 4) or (3 == 5)): False\n",
    "(True and True) and (True == False): False\n",
    "(not False) or (not True): True"
   ]
  },
  {
   "cell_type": "markdown",
   "id": "87ddae61",
   "metadata": {},
   "source": [
    "5. The six comparison operators are less than (<), greater than (>), equal to (==), less than or equal to (<=), greater than or equal to (>=), and not equal to (!=)."
   ]
  },
  {
   "cell_type": "markdown",
   "id": "474c2c9a",
   "metadata": {},
   "source": [
    "6. Equals to operator (==) is used to compare whether two operators are equal or not. The assignment operator (=) is used to assign a value to the variable. For example, the expression a = 15 assigns the value 15 to the variable 'a', whereas the expression a == b compares the values of variable 'a' and 'b' and returns 'True' or 'False' accordingly."
   ]
  },
  {
   "cell_type": "markdown",
   "id": "a450ba34",
   "metadata": {},
   "source": [
    "7. There are three blocks in this code as shown below:\n",
    "\n",
    "spam = 0\n",
    "if spam == 10:\n",
    "    print('eggs')        : block A starts\n",
    "    if spam > 5:         \n",
    "        print('bacon')   : block B inside block A\n",
    "    else:                \n",
    "        print('ham')     : block C inside block A\n",
    "    print('spam')        \n",
    "print('spam')            : block A ends"
   ]
  },
  {
   "cell_type": "markdown",
   "id": "ee8ca354",
   "metadata": {},
   "source": [
    "8. The code is as follows:"
   ]
  },
  {
   "cell_type": "code",
   "execution_count": 3,
   "id": "e937e536",
   "metadata": {},
   "outputs": [
    {
     "name": "stdout",
     "output_type": "stream",
     "text": [
      "Enter the value: 2\n",
      "Howdy\n"
     ]
    }
   ],
   "source": [
    "spam= int(input(\"Enter the value: \"))\n",
    "if spam == 1:\n",
    "    print(\"Hello\")\n",
    "elif spam == 2:\n",
    "    print(\"Howdy\")\n",
    "else:\n",
    "    print(\"Greetings!\")"
   ]
  },
  {
   "cell_type": "markdown",
   "id": "a36c5b87",
   "metadata": {},
   "source": [
    "9. Ctrl + C key is used to come out of an infinite loop."
   ]
  },
  {
   "cell_type": "markdown",
   "id": "ac61230b",
   "metadata": {},
   "source": [
    "10. If break statement is used, it will leave the loop or switch, whereas continue statement only skip the remaining statements for current iteration only. It will jump to the next iteration rather than leavning the loop."
   ]
  },
  {
   "cell_type": "markdown",
   "id": "67f37ab9",
   "metadata": {},
   "source": [
    "11. In a for loop, range(10) will print the numbers starting from 0 to 9, as the loop will stop when it reaches 10. range(0,10) gives a start point and end point to the loop. Here, it will also print the numbers from 0 to 9. range(0,10,1) denotes the start point, end point, and the number of steps which specifies the increment value. Here, since the increment is 1 in range(0,10,1), it will also print the same output as before. "
   ]
  },
  {
   "cell_type": "markdown",
   "id": "9efb9f6a",
   "metadata": {},
   "source": [
    "12. Program to print numbers from 1 to 10 using:\n",
    "    i. For Loop"
   ]
  },
  {
   "cell_type": "code",
   "execution_count": 4,
   "id": "db8f2b4f",
   "metadata": {},
   "outputs": [
    {
     "name": "stdout",
     "output_type": "stream",
     "text": [
      "1\n",
      "2\n",
      "3\n",
      "4\n",
      "5\n",
      "6\n",
      "7\n",
      "8\n",
      "9\n",
      "10\n"
     ]
    }
   ],
   "source": [
    "for i in range(1,11):\n",
    "    print(i)"
   ]
  },
  {
   "cell_type": "markdown",
   "id": "d69efeda",
   "metadata": {},
   "source": [
    "    ii. While Loop"
   ]
  },
  {
   "cell_type": "code",
   "execution_count": 1,
   "id": "8ae498d8",
   "metadata": {},
   "outputs": [
    {
     "name": "stdout",
     "output_type": "stream",
     "text": [
      "1\n",
      "2\n",
      "3\n",
      "4\n",
      "5\n",
      "6\n",
      "7\n",
      "8\n",
      "9\n",
      "10\n"
     ]
    }
   ],
   "source": [
    "i = 1\n",
    "while i <=10:\n",
    "    print(i)\n",
    "    i+=1"
   ]
  },
  {
   "cell_type": "markdown",
   "id": "bff4a984",
   "metadata": {},
   "source": [
    "13. After importing spam module, the function can be called as spam.bacon()."
   ]
  }
 ],
 "metadata": {
  "kernelspec": {
   "display_name": "Python 3",
   "language": "python",
   "name": "python3"
  },
  "language_info": {
   "codemirror_mode": {
    "name": "ipython",
    "version": 3
   },
   "file_extension": ".py",
   "mimetype": "text/x-python",
   "name": "python",
   "nbconvert_exporter": "python",
   "pygments_lexer": "ipython3",
   "version": "3.8.8"
  }
 },
 "nbformat": 4,
 "nbformat_minor": 5
}
