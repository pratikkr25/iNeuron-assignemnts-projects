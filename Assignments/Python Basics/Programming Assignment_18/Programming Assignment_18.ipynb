{
 "cells": [
  {
   "cell_type": "markdown",
   "id": "947b41cc",
   "metadata": {},
   "source": [
    "__Question 1__\n",
    "\n",
    "Create a function that takes a list of non-negative integers and strings and return a new list without the strings."
   ]
  },
  {
   "cell_type": "code",
   "execution_count": 2,
   "id": "44ba0991",
   "metadata": {},
   "outputs": [
    {
     "name": "stdout",
     "output_type": "stream",
     "text": [
      "[1, 2]\n",
      "[1, 0, 15]\n",
      "[1, 2, 123]\n"
     ]
    }
   ],
   "source": [
    "def filter_list(list):\n",
    "    output = []\n",
    "    for ele in list:\n",
    "        if type(ele) == int and ele >= 0:\n",
    "            output.append(ele)\n",
    "    print(output)\n",
    "            \n",
    "filter_list([1, 2, \"a\", \"b\"])\n",
    "filter_list([1, \"a\", \"b\", 0, 15])\n",
    "filter_list([1, 2, \"aasf\", \"1\", \"123\", 123])"
   ]
  },
  {
   "cell_type": "markdown",
   "id": "471f2a13",
   "metadata": {},
   "source": [
    "__Question 2__\n",
    "\n",
    "The \"Reverser\" takes a string as input and returns that string in reverse order, with the opposite case."
   ]
  },
  {
   "cell_type": "code",
   "execution_count": 3,
   "id": "4e6e8a8d",
   "metadata": {},
   "outputs": [
    {
     "name": "stdout",
     "output_type": "stream",
     "text": [
      "DLROw OLLEh\n",
      "eSrEvEr\n",
      "RADAr\n"
     ]
    }
   ],
   "source": [
    "def reverse(inputStr):\n",
    "    print(inputStr[::-1].swapcase())\n",
    "\n",
    "reverse(\"Hello World\")\n",
    "reverse(\"ReVeRsE\")\n",
    "reverse(\"Radar\") "
   ]
  },
  {
   "cell_type": "markdown",
   "id": "c6336534",
   "metadata": {},
   "source": [
    "__Question 3__\n",
    "\n",
    "You can assign variables from lists like this:\n",
    "lst = [1, 2, 3, 4, 5, 6]\n",
    "first = lst[0]\n",
    "middle = lst[1:-1]\n",
    "last = lst[-1]\n",
    "\n",
    "print(first) ➞ outputs 1\n",
    "print(middle) ➞ outputs [2, 3, 4, 5]\n",
    "print(last) ➞ outputs 6\n",
    "With Python 3, you can assign variables from lists in a much more succinct way. Create variables first, middle and last from the given list using destructuring assignment (check the Resources tab for some examples), where:\n",
    "first  ➞ 1\n",
    "\n",
    "middle ➞ [2, 3, 4, 5]\n",
    "\n",
    "last ➞ 6\n",
    "Your task is to unpack the list writeyourcodehere into three variables, being first, middle, and last, with middle being everything in between the first and last element. Then print all three variables."
   ]
  },
  {
   "cell_type": "code",
   "execution_count": 4,
   "id": "22dee62a",
   "metadata": {},
   "outputs": [
    {
     "name": "stdout",
     "output_type": "stream",
     "text": [
      "first: 1\n",
      "middle: [2, 3, 4, 5]\n",
      "last: 6\n"
     ]
    }
   ],
   "source": [
    "first, *middle, last = [1,2,3,4,5,6]\n",
    "print(f'first: {first}')\n",
    "print(f'middle: {middle}')\n",
    "print(f'last: {last}')"
   ]
  },
  {
   "cell_type": "markdown",
   "id": "fd01641c",
   "metadata": {},
   "source": [
    "__Question 4__\n",
    "\n",
    "Write a function that calculates the factorial of a number recursively."
   ]
  },
  {
   "cell_type": "code",
   "execution_count": 6,
   "id": "1442afc2",
   "metadata": {},
   "outputs": [
    {
     "name": "stdout",
     "output_type": "stream",
     "text": [
      "120\n",
      "6\n",
      "1\n"
     ]
    }
   ],
   "source": [
    "def factorial(n):     \n",
    "    if n == 0:\n",
    "        return 1    \n",
    "    return n * factorial(n-1)\n",
    "\n",
    "print(factorial(5))\n",
    "print(factorial(3))\n",
    "print(factorial(0))"
   ]
  },
  {
   "cell_type": "markdown",
   "id": "f75d0226",
   "metadata": {},
   "source": [
    "__Question 5__\n",
    "\n",
    "Write a function that moves all elements of one type to the end of the list."
   ]
  },
  {
   "cell_type": "code",
   "execution_count": 7,
   "id": "b18b2543",
   "metadata": {},
   "outputs": [
    {
     "name": "stdout",
     "output_type": "stream",
     "text": [
      "move_to_end([1, 3, 2, 4, 4, 1], 1): [3, 2, 4, 4, 1, 1]\n",
      "move_to_end([7, 8, 9, 1, 2, 3, 4], 9): [7, 8, 1, 2, 3, 4, 9]\n",
      "move_to_end([\"a\", \"a\", \"a\", \"b\"], \"a\"): ['b', 'a', 'a', 'a']\n"
     ]
    }
   ],
   "source": [
    "def move_to_end(list,num):\n",
    "    first_end = []\n",
    "    second_end = []\n",
    "    for ele in list:\n",
    "        if ele == num:\n",
    "            second_end.append(ele)\n",
    "        else:\n",
    "            first_end.append(ele)\n",
    "    first_end.extend(second_end)\n",
    "    return first_end\n",
    "    \n",
    "print(f'move_to_end([1, 3, 2, 4, 4, 1], 1): {move_to_end([1, 3, 2, 4, 4, 1], 1)}')\n",
    "print(f'move_to_end([7, 8, 9, 1, 2, 3, 4], 9): {move_to_end([7, 8, 9, 1, 2, 3, 4], 9)}')\n",
    "print(f'move_to_end([\"a\", \"a\", \"a\", \"b\"], \"a\"): {move_to_end([\"a\", \"a\", \"a\", \"b\"], \"a\")}')"
   ]
  },
  {
   "cell_type": "code",
   "execution_count": null,
   "id": "8c6b6605",
   "metadata": {},
   "outputs": [],
   "source": []
  }
 ],
 "metadata": {
  "kernelspec": {
   "display_name": "Python 3",
   "language": "python",
   "name": "python3"
  },
  "language_info": {
   "codemirror_mode": {
    "name": "ipython",
    "version": 3
   },
   "file_extension": ".py",
   "mimetype": "text/x-python",
   "name": "python",
   "nbconvert_exporter": "python",
   "pygments_lexer": "ipython3",
   "version": "3.8.8"
  }
 },
 "nbformat": 4,
 "nbformat_minor": 5
}
