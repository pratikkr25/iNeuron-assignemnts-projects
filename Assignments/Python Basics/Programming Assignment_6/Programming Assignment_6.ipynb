{
 "cells": [
  {
   "cell_type": "code",
   "execution_count": 1,
   "id": "4ced124d",
   "metadata": {},
   "outputs": [
    {
     "name": "stdout",
     "output_type": "stream",
     "text": [
      "Enter the length of Fibonacci Series: 12\n",
      "0, 1, 3, 5, 8, 13, 21, 34, 55, 89, 144, 233, 377, 610, "
     ]
    }
   ],
   "source": [
    "#1. Display Fibonacci Sequence Using Recursion\n",
    "\n",
    "def genFibonacci(n,a,b):\n",
    "    if n == 0:\n",
    "        return 1\n",
    "    else:\n",
    "        result = a+b\n",
    "        print(result, end=', ')\n",
    "        genFibonacci(n-1,b,result)\n",
    "num = int(input('Enter the length of Fibonacci Series: '))\n",
    "print('0, 1',end=', ')\n",
    "genFibonacci(num,1,2)"
   ]
  },
  {
   "cell_type": "code",
   "execution_count": 2,
   "id": "fbc3294b",
   "metadata": {},
   "outputs": [
    {
     "name": "stdout",
     "output_type": "stream",
     "text": [
      "Enter a number: 5\n",
      "The Factorial of 5 is 120\n"
     ]
    }
   ],
   "source": [
    "#2. Factorial of Number Using Recursion\n",
    "\n",
    "def factorial(num):\n",
    "    if (num < 1):\n",
    "        return 1\n",
    "    else:\n",
    "        return num*factorial(num-1)\n",
    "num = int(input('Enter a number: '))\n",
    "value = factorial(num)\n",
    "print(f'The Factorial of {num} is {value}')"
   ]
  },
  {
   "cell_type": "code",
   "execution_count": 4,
   "id": "63023840",
   "metadata": {},
   "outputs": [
    {
     "name": "stdout",
     "output_type": "stream",
     "text": [
      "Enter your Weight(kgs): 80\n",
      "Enter your Height(mts): 1.72\n",
      "Your're BMI is 27.041644131963228 and status is Overweight \n"
     ]
    }
   ],
   "source": [
    "#3. Calculate Body Mass Index\n",
    "\n",
    "def BMI():\n",
    "    weight = float(input('Enter your Weight(kgs): '))\n",
    "    height = float(input('Enter your Height(mts): '))\n",
    "    bmi = weight/pow(height,2)\n",
    "    if (bmi < 18.5):\n",
    "        status = 'Underweight'\n",
    "    elif (bmi >= 18.5 and bmi < 24.9):\n",
    "        status = 'Healthy'\n",
    "    elif (bmi >= 24.9 and bmi < 30):\n",
    "        status = 'Overweight'\n",
    "    elif (bmi >=30):\n",
    "        status = 'Obesity'\n",
    "    print(f'Your\\'re BMI is {bmi} and status is {status} ')\n",
    "\n",
    "BMI()"
   ]
  },
  {
   "cell_type": "code",
   "execution_count": 5,
   "id": "b509b98d",
   "metadata": {},
   "outputs": [
    {
     "name": "stdout",
     "output_type": "stream",
     "text": [
      "Enter a Number:20\n",
      "2.995732273553991\n"
     ]
    }
   ],
   "source": [
    "#4. Calculate the natural logarithm of any number\n",
    "\n",
    "import math\n",
    "def getLog():\n",
    "    num = float(input(\"Enter a Number:\"))\n",
    "    print(math.log(num))\n",
    "\n",
    "getLog()"
   ]
  },
  {
   "cell_type": "code",
   "execution_count": 6,
   "id": "0ff0980b",
   "metadata": {},
   "outputs": [
    {
     "name": "stdout",
     "output_type": "stream",
     "text": [
      "Enter the no of Natural Numbers: 6\n",
      "The Cube Sum of First 6 Natural Numbers is 441.0\n"
     ]
    }
   ],
   "source": [
    "#5. Sum of cube of n natural numbers\n",
    "\n",
    "def cubeOfNaturalNumbers():\n",
    "    in_num = int(input(\"Enter the no of Natural Numbers: \"))\n",
    "    result = pow(((in_num * (in_num +1))/2),2)\n",
    "    print(f'The Cube Sum of First {in_num} Natural Numbers is {result}')\n",
    "\n",
    "cubeOfNaturalNumbers()"
   ]
  },
  {
   "cell_type": "code",
   "execution_count": null,
   "id": "552cae98",
   "metadata": {},
   "outputs": [],
   "source": []
  }
 ],
 "metadata": {
  "kernelspec": {
   "display_name": "Python 3",
   "language": "python",
   "name": "python3"
  },
  "language_info": {
   "codemirror_mode": {
    "name": "ipython",
    "version": 3
   },
   "file_extension": ".py",
   "mimetype": "text/x-python",
   "name": "python",
   "nbconvert_exporter": "python",
   "pygments_lexer": "ipython3",
   "version": "3.8.8"
  }
 },
 "nbformat": 4,
 "nbformat_minor": 5
}
