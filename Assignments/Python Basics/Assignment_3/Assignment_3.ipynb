{
 "cells": [
  {
   "cell_type": "markdown",
   "id": "01a157da",
   "metadata": {},
   "source": [
    "1. The advantages of using functions in a program are as follows:\n",
    "\n",
    "    i. It makes the code reusable, can be used multiple times in same or different programs\n",
    "    ii. It keeps the code clean and readable\n",
    "    iii. It reduces the time for debugging\n"
   ]
  },
  {
   "cell_type": "markdown",
   "id": "d907891c",
   "metadata": {},
   "source": [
    "2. The code in a function executes run when it is called."
   ]
  },
  {
   "cell_type": "markdown",
   "id": "f9c88984",
   "metadata": {},
   "source": [
    "3. In Python, 'def' keyword is used to create a function."
   ]
  },
  {
   "cell_type": "markdown",
   "id": "87940743",
   "metadata": {},
   "source": [
    "4. Function consists of a block of codes that can be reused to execute a certain task.\n",
    "\n",
    "   Function call means the execution of program moves to the specific function and returns the function's value."
   ]
  },
  {
   "cell_type": "markdown",
   "id": "88cef341",
   "metadata": {},
   "source": [
    "5. There is one Global Scope and Local Scope is created when a function is called."
   ]
  },
  {
   "cell_type": "markdown",
   "id": "74c0c016",
   "metadata": {},
   "source": [
    "6. When a function call returns, the variables in the local scope is destroyed."
   ]
  },
  {
   "cell_type": "markdown",
   "id": "eabba632",
   "metadata": {},
   "source": [
    "7. Return value is a value that a function returns to its function call. Yes, it is possible to have a return value in an expression."
   ]
  },
  {
   "cell_type": "markdown",
   "id": "e9c6f364",
   "metadata": {},
   "source": [
    "8. If a function does not have a return value, it is called void function and it returns None."
   ]
  },
  {
   "cell_type": "markdown",
   "id": "511b0bd8",
   "metadata": {},
   "source": [
    "9. It can be done using the 'global' keyword."
   ]
  },
  {
   "cell_type": "markdown",
   "id": "e2980749",
   "metadata": {},
   "source": [
    "10. The data type of None is NoneType."
   ]
  },
  {
   "cell_type": "markdown",
   "id": "f6e1956a",
   "metadata": {},
   "source": [
    "11. The expression import areallyourpetsnamederic imports a module named areallyourpetsnamederic."
   ]
  },
  {
   "cell_type": "markdown",
   "id": "9aa440b0",
   "metadata": {},
   "source": [
    "12. It called be called using spam.bacon()"
   ]
  },
  {
   "cell_type": "markdown",
   "id": "a3378a30",
   "metadata": {},
   "source": [
    "13. The program can be saved from crashing while facing an error by putting the part of code inside try statement."
   ]
  },
  {
   "cell_type": "markdown",
   "id": "fde90f86",
   "metadata": {},
   "source": [
    "14. The try and except clauses are used to handle exceptions during the execution of a program. Try clauses are used to test a code for errors and except clause is used to write the code which will execute if there's an exception in try block."
   ]
  }
 ],
 "metadata": {
  "kernelspec": {
   "display_name": "Python 3",
   "language": "python",
   "name": "python3"
  },
  "language_info": {
   "codemirror_mode": {
    "name": "ipython",
    "version": 3
   },
   "file_extension": ".py",
   "mimetype": "text/x-python",
   "name": "python",
   "nbconvert_exporter": "python",
   "pygments_lexer": "ipython3",
   "version": "3.8.8"
  }
 },
 "nbformat": 4,
 "nbformat_minor": 5
}
