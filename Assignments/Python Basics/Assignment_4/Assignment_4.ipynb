{
 "cells": [
  {
   "cell_type": "markdown",
   "id": "309c3626",
   "metadata": {},
   "source": [
    "1. In Pyhton, [] is an empty list value which contains no items."
   ]
  },
  {
   "cell_type": "markdown",
   "id": "8d253efc",
   "metadata": {},
   "source": [
    "2. spam[2] = 'hello'"
   ]
  },
  {
   "cell_type": "markdown",
   "id": "5abe1383",
   "metadata": {},
   "source": [
    "Now,  pretending the spam includes the list ['a', 'b', 'c', 'd'] for the next three queries."
   ]
  },
  {
   "cell_type": "markdown",
   "id": "ef86c95d",
   "metadata": {},
   "source": [
    "3. The expression int(int('3' * 2) / 11) solves as follows:"
   ]
  },
  {
   "cell_type": "code",
   "execution_count": 5,
   "id": "3870df16",
   "metadata": {},
   "outputs": [
    {
     "name": "stdout",
     "output_type": "stream",
     "text": [
      "33\n"
     ]
    }
   ],
   "source": [
    "print(int('3' * 2))"
   ]
  },
  {
   "cell_type": "code",
   "execution_count": 6,
   "id": "39600ff5",
   "metadata": {},
   "outputs": [
    {
     "name": "stdout",
     "output_type": "stream",
     "text": [
      "3\n"
     ]
    }
   ],
   "source": [
    "print(int(33/11))"
   ]
  },
  {
   "cell_type": "markdown",
   "id": "3adeec06",
   "metadata": {},
   "source": [
    "Hence, spam[3] will return 'd'."
   ]
  },
  {
   "cell_type": "markdown",
   "id": "fbd225d2",
   "metadata": {},
   "source": [
    "4. spam[-1] = 'd'"
   ]
  },
  {
   "cell_type": "markdown",
   "id": "487ce1ff",
   "metadata": {},
   "source": [
    "5. spam[:2] = ['a', 'b']"
   ]
  },
  {
   "cell_type": "markdown",
   "id": "1a274f82",
   "metadata": {},
   "source": [
    "Now, pretending bacon has the list [3.14, 'cat,' 11, 'cat,' True] for the next three questions."
   ]
  },
  {
   "cell_type": "markdown",
   "id": "f21a8c37",
   "metadata": {},
   "source": [
    "6. The value of bacon.index('cat') is 1."
   ]
  },
  {
   "cell_type": "markdown",
   "id": "a01c8508",
   "metadata": {},
   "source": [
    "7. After using  bacon.append(99), bacon = [3.14, 'cat', 11, 'cat', True, 99]."
   ]
  },
  {
   "cell_type": "markdown",
   "id": "21263c76",
   "metadata": {},
   "source": [
    "8. After using bacon.remove('cat'), bacon =  [3.14, '11, 'cat,' True]"
   ]
  },
  {
   "cell_type": "markdown",
   "id": "6cf11211",
   "metadata": {},
   "source": [
    "9. The list concatenation operator is '+' and the list replication operator is '*'."
   ]
  },
  {
   "cell_type": "markdown",
   "id": "6abe9db0",
   "metadata": {},
   "source": [
    "10. Using append(), we can only add the values at the end of the list but with insert(), we can add it anywhere in the list."
   ]
  },
  {
   "cell_type": "markdown",
   "id": "adfa390a",
   "metadata": {},
   "source": [
    "11. remove() and clear() can be used to remove items from a list. 'del' statement can also be used."
   ]
  },
  {
   "cell_type": "markdown",
   "id": "4457670a",
   "metadata": {},
   "source": [
    "12. Both list and string are sequences and have lengths, can be sliced, divided, and concatenated, and can be used in loops. "
   ]
  },
  {
   "cell_type": "markdown",
   "id": "70ddccfc",
   "metadata": {},
   "source": [
    "13. Lists are mutable, i.e. the values in the list can be modified, whereas tuples are immutable."
   ]
  },
  {
   "cell_type": "markdown",
   "id": "f6ecb284",
   "metadata": {},
   "source": [
    "14. It should be typed as (42,)"
   ]
  },
  {
   "cell_type": "markdown",
   "id": "1b611594",
   "metadata": {},
   "source": [
    "15. The values can be obtained by using tuple() and list() functions respectively."
   ]
  },
  {
   "cell_type": "markdown",
   "id": "30567d61",
   "metadata": {},
   "source": [
    "16. The kind of variable will contain references to the list values."
   ]
  },
  {
   "cell_type": "markdown",
   "id": "f4b534e3",
   "metadata": {},
   "source": [
    "17. The copy.copy() returns a shallow copy of the list, i.e. it creates reference to the original object. copy.deepcopy() creates new object and does real copying of original object in the newly created object."
   ]
  },
  {
   "cell_type": "code",
   "execution_count": null,
   "id": "4ec03b6e",
   "metadata": {},
   "outputs": [],
   "source": []
  }
 ],
 "metadata": {
  "kernelspec": {
   "display_name": "Python 3",
   "language": "python",
   "name": "python3"
  },
  "language_info": {
   "codemirror_mode": {
    "name": "ipython",
    "version": 3
   },
   "file_extension": ".py",
   "mimetype": "text/x-python",
   "name": "python",
   "nbconvert_exporter": "python",
   "pygments_lexer": "ipython3",
   "version": "3.8.8"
  }
 },
 "nbformat": 4,
 "nbformat_minor": 5
}
