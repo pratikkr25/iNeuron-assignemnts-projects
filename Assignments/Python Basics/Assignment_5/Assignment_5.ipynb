{
 "cells": [
  {
   "cell_type": "markdown",
   "id": "0425cdf2",
   "metadata": {},
   "source": [
    "1. An empty dictionary looks like {}."
   ]
  },
  {
   "cell_type": "markdown",
   "id": "b2021197",
   "metadata": {},
   "source": [
    "2. {'foo': 42}"
   ]
  },
  {
   "cell_type": "markdown",
   "id": "ac470123",
   "metadata": {},
   "source": [
    "3. The main distinction between a dictionary and a list is that the items stored in a dictionary are unordered, whereas the items are ordered in a list."
   ]
  },
  {
   "cell_type": "markdown",
   "id": "34bcef71",
   "metadata": {},
   "source": [
    "4. It will show KeyError as 'foo' is not present in the dictionary."
   ]
  },
  {
   "cell_type": "markdown",
   "id": "7c356db0",
   "metadata": {},
   "source": [
    "5. Both of them are the same."
   ]
  },
  {
   "cell_type": "markdown",
   "id": "88de087f",
   "metadata": {},
   "source": [
    "6. 'cat' will check whether the key is present or not, whereas spam.values() will check if there exist a value 'cat' for any of its keys in the dictionary."
   ]
  },
  {
   "cell_type": "markdown",
   "id": "b54a6840",
   "metadata": {},
   "source": [
    "7. The code can be written as spam.setdefault('color','black')"
   ]
  },
  {
   "cell_type": "markdown",
   "id": "35065dac",
   "metadata": {},
   "source": [
    "8. pprint module is used to pretty print dictionary values. It can be done using pprint.pprint()"
   ]
  }
 ],
 "metadata": {
  "kernelspec": {
   "display_name": "Python 3",
   "language": "python",
   "name": "python3"
  },
  "language_info": {
   "codemirror_mode": {
    "name": "ipython",
    "version": 3
   },
   "file_extension": ".py",
   "mimetype": "text/x-python",
   "name": "python",
   "nbconvert_exporter": "python",
   "pygments_lexer": "ipython3",
   "version": "3.8.8"
  }
 },
 "nbformat": 4,
 "nbformat_minor": 5
}
