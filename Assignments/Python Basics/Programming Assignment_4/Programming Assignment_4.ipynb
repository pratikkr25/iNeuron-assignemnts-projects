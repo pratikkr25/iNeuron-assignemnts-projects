{
 "cells": [
  {
   "cell_type": "code",
   "execution_count": 1,
   "id": "fcd06a00",
   "metadata": {},
   "outputs": [
    {
     "name": "stdout",
     "output_type": "stream",
     "text": [
      "Enter a number: 5\n",
      "The Factorial of 5 is 120\n"
     ]
    }
   ],
   "source": [
    "#1. Find the Factorial of a Number\n",
    "\n",
    "def factorial(num):\n",
    "    if (num < 1):\n",
    "        return 1\n",
    "    else:\n",
    "        return num*factorial(num-1)\n",
    "num = int(input('Enter a number: '))\n",
    "value = factorial(num)\n",
    "print(f'The Factorial of {num} is {value}')"
   ]
  },
  {
   "cell_type": "code",
   "execution_count": 2,
   "id": "93ffefff",
   "metadata": {},
   "outputs": [
    {
     "name": "stdout",
     "output_type": "stream",
     "text": [
      "Enter a number: 8\n",
      "Enter no of times: 10\n",
      "The multiplication table of 8 is as follows: \n",
      "8 X 1 = 8\n",
      "8 X 2 = 16\n",
      "8 X 3 = 24\n",
      "8 X 4 = 32\n",
      "8 X 5 = 40\n",
      "8 X 6 = 48\n",
      "8 X 7 = 56\n",
      "8 X 8 = 64\n",
      "8 X 9 = 72\n",
      "8 X 10 = 80\n"
     ]
    }
   ],
   "source": [
    "#2. Display the multiplication Table\n",
    "\n",
    "def generateMulTable(num,times):\n",
    "    for x in range(1, times+1):\n",
    "        print(f'{num} X {x} = {num * x}')\n",
    "\n",
    "num = int(input('Enter a number: '))\n",
    "values = int(input('Enter no of times: '))\n",
    "print(f\"The multiplication table of {num} is as follows: \")\n",
    "generateMulTable(num,values)"
   ]
  },
  {
   "cell_type": "code",
   "execution_count": 3,
   "id": "5b580161",
   "metadata": {},
   "outputs": [
    {
     "name": "stdout",
     "output_type": "stream",
     "text": [
      "Enter the no of fibonacci sequences you want? 8\n",
      "The First 8 fibonacci series are:  [0, 1, 1, 2, 3, 5, 8, 13]\n"
     ]
    }
   ],
   "source": [
    "#3. Print the Fibonacci sequence\n",
    "\n",
    "seq = int(input('Enter the no of fibonacci sequences you want? '))\n",
    "fibonacci_list = [0,1]\n",
    "if seq < 0:\n",
    "    print('Fibonacci Numbers are not available for Negative Numbers')\n",
    "elif seq <= 2 and seq >= 0:\n",
    "    print(fibonacci_list)\n",
    "else:\n",
    "    for i in range(seq):\n",
    "        if i >= 2:\n",
    "            fibonacci_list.append(fibonacci_list[i - 1] + fibonacci_list[i - 2])\n",
    "    print(f'The First {seq} fibonacci series are: ',fibonacci_list)"
   ]
  },
  {
   "cell_type": "code",
   "execution_count": 5,
   "id": "13a4479c",
   "metadata": {},
   "outputs": [
    {
     "name": "stdout",
     "output_type": "stream",
     "text": [
      "Enter a number: 153\n",
      "153 is a Armstrong Number\n"
     ]
    }
   ],
   "source": [
    "#4. Check Armstrong Number\n",
    "\n",
    "def checkArmstrongNumber():\n",
    "    in_num = input('Enter a number: ')\n",
    "    sum = 0\n",
    "    for char in range(len(in_num)):\n",
    "        sum = sum + pow(int(in_num[char]),3)\n",
    "    if sum == int(in_num):\n",
    "        print(f'{in_num} is a Armstrong Number')\n",
    "    else:\n",
    "        print(f'{in_num} is a Not Armstrong Number')\n",
    "\n",
    "checkArmstrongNumber()"
   ]
  },
  {
   "cell_type": "code",
   "execution_count": 6,
   "id": "8da50d34",
   "metadata": {},
   "outputs": [
    {
     "name": "stdout",
     "output_type": "stream",
     "text": [
      "Enter the Start of the Interval: 100\n",
      "Enter the End of the Interval: 700\n",
      "The Armstrong numbers between 100 and 700 are [153, 370, 371, 407]\n"
     ]
    }
   ],
   "source": [
    "#5. Check Armstrong Number in an interval\n",
    "\n",
    "def checkArmstrongNumber(in_num, storage):\n",
    "    sum = 0\n",
    "    for char in range(len(in_num)):\n",
    "        sum = sum + pow(int(in_num[char]),3)\n",
    "    if sum == int(in_num):\n",
    "        storage.append(int(in_num))\n",
    "\n",
    "start_interval = int(input('Enter the Start of the Interval: '))\n",
    "end_interval = int(input('Enter the End of the Interval: '))\n",
    "list_of_armstrong = []\n",
    "\n",
    "if start_interval > end_interval:\n",
    "    print(\"Start Interval Cannot be Greater than End Interval\")\n",
    "else:\n",
    "    for number in range(start_interval,end_interval+1):\n",
    "        checkArmstrongNumber(str(number),list_of_armstrong)\n",
    "    print(f'The Armstrong numbers between {start_interval} and {end_interval} are {list_of_armstrong}')"
   ]
  },
  {
   "cell_type": "code",
   "execution_count": 7,
   "id": "1ccbf67c",
   "metadata": {},
   "outputs": [
    {
     "name": "stdout",
     "output_type": "stream",
     "text": [
      "Enter a number: 10\n",
      "Sum of 10 natural numbers is 55.0\n"
     ]
    }
   ],
   "source": [
    "#6. Find sum of natural numbers\n",
    "\n",
    "def sumOfNaturalNumbers(num):\n",
    "    sum = num * ((num + 1)/ 2)\n",
    "    print(f'Sum of {num} natural numbers is {sum}')\n",
    "    \n",
    "num = int(input('Enter a number: '))\n",
    "sumOfNaturalNumbers(num)"
   ]
  },
  {
   "cell_type": "code",
   "execution_count": null,
   "id": "a64f5176",
   "metadata": {},
   "outputs": [],
   "source": []
  }
 ],
 "metadata": {
  "kernelspec": {
   "display_name": "Python 3",
   "language": "python",
   "name": "python3"
  },
  "language_info": {
   "codemirror_mode": {
    "name": "ipython",
    "version": 3
   },
   "file_extension": ".py",
   "mimetype": "text/x-python",
   "name": "python",
   "nbconvert_exporter": "python",
   "pygments_lexer": "ipython3",
   "version": "3.8.8"
  }
 },
 "nbformat": 4,
 "nbformat_minor": 5
}
