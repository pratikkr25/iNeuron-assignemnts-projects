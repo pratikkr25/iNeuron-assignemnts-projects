{
 "cells": [
  {
   "cell_type": "code",
   "execution_count": 5,
   "id": "00c7dfef",
   "metadata": {},
   "outputs": [
    {
     "name": "stdout",
     "output_type": "stream",
     "text": [
      "Enter the Array: [1,6,5,3,9]\n",
      "The sum of the array is 24\n"
     ]
    }
   ],
   "source": [
    "#1. Find sum of array\n",
    "\n",
    "def sumOfArray():\n",
    "    arr = eval(input(\"Enter the Array: \"))\n",
    "    print(f'The sum of the array is {sum(arr)}')\n",
    "\n",
    "sumOfArray()"
   ]
  },
  {
   "cell_type": "code",
   "execution_count": 6,
   "id": "ddd5c6a4",
   "metadata": {},
   "outputs": [
    {
     "name": "stdout",
     "output_type": "stream",
     "text": [
      "Enter the Array: [5,87,46,2,9]\n",
      "The Largest Element in the array is 87\n"
     ]
    }
   ],
   "source": [
    "#2. Largest element in an array\n",
    "\n",
    "def largestElement():\n",
    "    arr = eval(input(\"Enter the Array: \"))\n",
    "    print(f\"The Largest Element in the array is {sorted(arr, reverse=True)[0]}\")\n",
    "    \n",
    "largestElement()"
   ]
  },
  {
   "cell_type": "code",
   "execution_count": 8,
   "id": "fd10278f",
   "metadata": {},
   "outputs": [
    {
     "name": "stdout",
     "output_type": "stream",
     "text": [
      "Enter the Array: [9,6,32,78,6]\n",
      "The Reverse of Array is [6, 78, 32, 6, 9]\n"
     ]
    }
   ],
   "source": [
    "#3. Array Rotation\n",
    "\n",
    "def reverseOfArray():\n",
    "    arr = eval(input(\"Enter the Array: \"))\n",
    "    print(f\"The Reverse of Array is {arr[::-1]}\")\n",
    "    \n",
    "reverseOfArray()"
   ]
  },
  {
   "cell_type": "code",
   "execution_count": 10,
   "id": "dbb8e3be",
   "metadata": {},
   "outputs": [
    {
     "name": "stdout",
     "output_type": "stream",
     "text": [
      "Enter the Array: [4, 5, 1, 12, 67, 43]\n",
      "Enter the index you want to split from:  2\n",
      "The modified array is: \n"
     ]
    },
    {
     "data": {
      "text/plain": [
       "[1, 12, 67, 43, 4, 5]"
      ]
     },
     "execution_count": 10,
     "metadata": {},
     "output_type": "execute_result"
    }
   ],
   "source": [
    "#4. Split the array and add the first part to the end\n",
    "\n",
    "def splitArray():\n",
    "    arr = eval(input(\"Enter the Array: \"))\n",
    "    pos = int(input(\"Enter the index you want to split from:  \"))\n",
    "    split = arr[:pos]\n",
    "    print(\"The modified array is: \")\n",
    "    return (arr[pos::] + split[::])\n",
    "\n",
    "splitArray()"
   ]
  },
  {
   "cell_type": "code",
   "execution_count": 14,
   "id": "070b7f15",
   "metadata": {},
   "outputs": [
    {
     "name": "stdout",
     "output_type": "stream",
     "text": [
      "Enter the Array: [1, 2, 3, 4, 7]\n",
      "Array [1, 2, 3, 4, 7] is Monotonic\n",
      "Enter the Array: [7, 6, 3, 2, 1]\n",
      "Array [7, 6, 3, 2, 1] is Monotonic\n",
      "Enter the Array: [4, 5, 21, 7, 8]\n",
      "Array [4, 5, 21, 7, 8] is Not Monotonic\n"
     ]
    }
   ],
   "source": [
    "#5. Check if given array is Monotonic\n",
    "\n",
    "def checkMonotonic():\n",
    "    arr = eval(input(\"Enter the Array: \"))\n",
    "    if(all(arr[i] <= arr[i+1] for i in range(len(arr)-1)) or all(arr[i] >= arr[i+1] for i in range(len(arr)-1))):\n",
    "        print(f'Array {arr} is Monotonic')\n",
    "    else:\n",
    "        print(f'Array {arr} is Not Monotonic')\n",
    "\n",
    "checkMonotonic()\n",
    "checkMonotonic()\n",
    "checkMonotonic()"
   ]
  },
  {
   "cell_type": "code",
   "execution_count": null,
   "id": "340ae8c4",
   "metadata": {},
   "outputs": [],
   "source": []
  }
 ],
 "metadata": {
  "kernelspec": {
   "display_name": "Python 3",
   "language": "python",
   "name": "python3"
  },
  "language_info": {
   "codemirror_mode": {
    "name": "ipython",
    "version": 3
   },
   "file_extension": ".py",
   "mimetype": "text/x-python",
   "name": "python",
   "nbconvert_exporter": "python",
   "pygments_lexer": "ipython3",
   "version": "3.8.8"
  }
 },
 "nbformat": 4,
 "nbformat_minor": 5
}
