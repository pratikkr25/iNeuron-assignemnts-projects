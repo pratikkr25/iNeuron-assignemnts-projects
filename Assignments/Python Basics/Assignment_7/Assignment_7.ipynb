{
 "cells": [
  {
   "cell_type": "markdown",
   "id": "c04d0f11",
   "metadata": {},
   "source": [
    "1. re.compile()"
   ]
  },
  {
   "cell_type": "markdown",
   "id": "224b8672",
   "metadata": {},
   "source": [
    "2. Raw strings are often used so that backslashes does not get escaped in Regex objects."
   ]
  },
  {
   "cell_type": "markdown",
   "id": "1a856a8f",
   "metadata": {},
   "source": [
    "3. search() method will return the matched objects."
   ]
  },
  {
   "cell_type": "markdown",
   "id": "cdfabe71",
   "metadata": {},
   "source": [
    "4. It can be done by using group() method."
   ]
  },
  {
   "cell_type": "markdown",
   "id": "8d5d9c98",
   "metadata": {},
   "source": [
    "5. In the regex r'(\\d\\d\\d)-(\\d\\d\\d-\\d\\d\\d\\d)', Group 0: Entire match, Group 1: First Parentheses, and Group 2: Second Parentheses"
   ]
  },
  {
   "cell_type": "code",
   "execution_count": null,
   "id": "b5781f77",
   "metadata": {},
   "outputs": [],
   "source": [
    "6. It can be done using the expressions \\., \\(, and \\)."
   ]
  },
  {
   "cell_type": "markdown",
   "id": "50a4d5aa",
   "metadata": {},
   "source": [
    "7. A string list is returned when the regex has no groups. If the regex has groups, a list of string tuples is returned."
   ]
  },
  {
   "cell_type": "markdown",
   "id": "30252ea5",
   "metadata": {},
   "source": [
    "8. In standard expression. '|' denotes \"either,or\"."
   ]
  },
  {
   "cell_type": "markdown",
   "id": "617c5427",
   "metadata": {},
   "source": [
    "9. Symbol/Character is not mentioned in the question."
   ]
  },
  {
   "cell_type": "markdown",
   "id": "532b8cc1",
   "metadata": {},
   "source": [
    "10. In regular expression, '+' matches one or more, and '*' matches zero or more."
   ]
  },
  {
   "cell_type": "markdown",
   "id": "84d5f7a0",
   "metadata": {},
   "source": [
    "11. The {4} matches exactly four instances of the preceding group. The {4,5} matches between four and five instances."
   ]
  },
  {
   "cell_type": "markdown",
   "id": "20008bb4",
   "metadata": {},
   "source": [
    "12. \\d: Matches a single character that is a digit, \\w: Matches a single character that is a word, and \\s: matches a single character that is a space character."
   ]
  },
  {
   "cell_type": "markdown",
   "id": "db6d1d3d",
   "metadata": {},
   "source": [
    "13. \\D: Matches a single character that is not a digit, \\W: Matches a single character that is not a word, and \\S: matches a single character that is not a space character."
   ]
  },
  {
   "cell_type": "markdown",
   "id": "79da2917",
   "metadata": {},
   "source": [
    "14. (.*?) matches any character (.) any number of times (*), as few times as possible to make the regex match (?). However, (.*)? matches any character except newline."
   ]
  },
  {
   "cell_type": "markdown",
   "id": "881ac076",
   "metadata": {},
   "source": [
    "15. [a-zA-Z0-9]"
   ]
  },
  {
   "cell_type": "markdown",
   "id": "1f6a662d",
   "metadata": {},
   "source": [
    "16. It can be donw by passing re.IGNORECASE as an argument to re.compile()"
   ]
  },
  {
   "cell_type": "markdown",
   "id": "0d07cce8",
   "metadata": {},
   "source": [
    "17. The . character matches any character except the newline. If re.DOTALL is passed as the second argument to re.compile(), then the dot will also match newline characters."
   ]
  },
  {
   "cell_type": "markdown",
   "id": "4a34bd66",
   "metadata": {},
   "source": [
    "18. It will return 'X drummers, X pipers, five rings, X hen'."
   ]
  },
  {
   "cell_type": "markdown",
   "id": "788bc5aa",
   "metadata": {},
   "source": [
    "19. It will be used to add whitespace and comment to the string which is passed to re.compile()."
   ]
  },
  {
   "cell_type": "code",
   "execution_count": null,
   "id": "343fe34a",
   "metadata": {},
   "outputs": [],
   "source": [
    "20. The regex expression will be: re.compile(r'^\\d{1,3}(,\\d{3})*$')"
   ]
  },
  {
   "cell_type": "code",
   "execution_count": null,
   "id": "a6d9046f",
   "metadata": {},
   "outputs": [],
   "source": [
    "21. The regex expression will be: re.compile(r'[A-Z][a-z]*\\sNakamoto')"
   ]
  },
  {
   "cell_type": "code",
   "execution_count": null,
   "id": "0bd4246d",
   "metadata": {},
   "outputs": [],
   "source": [
    "22. The regex expression will be: re.compile(r'(Alice|Bob|Carol)\\s(eats|pets|throws)\\s(apples|cats|baseballs)\\.', re.IGNORECASE)"
   ]
  },
  {
   "cell_type": "code",
   "execution_count": null,
   "id": "b88d2a84",
   "metadata": {},
   "outputs": [],
   "source": []
  }
 ],
 "metadata": {
  "kernelspec": {
   "display_name": "Python 3",
   "language": "python",
   "name": "python3"
  },
  "language_info": {
   "codemirror_mode": {
    "name": "ipython",
    "version": 3
   },
   "file_extension": ".py",
   "mimetype": "text/x-python",
   "name": "python",
   "nbconvert_exporter": "python",
   "pygments_lexer": "ipython3",
   "version": "3.8.8"
  }
 },
 "nbformat": 4,
 "nbformat_minor": 5
}
