{
 "cells": [
  {
   "cell_type": "markdown",
   "id": "0c0eb04f",
   "metadata": {},
   "source": [
    "1. Number of seconds in an hour"
   ]
  },
  {
   "cell_type": "code",
   "execution_count": 1,
   "id": "2b575fd4",
   "metadata": {},
   "outputs": [
    {
     "data": {
      "text/plain": [
       "3600"
      ]
     },
     "execution_count": 1,
     "metadata": {},
     "output_type": "execute_result"
    }
   ],
   "source": [
    "60 * 60"
   ]
  },
  {
   "cell_type": "markdown",
   "id": "f82d9b5f",
   "metadata": {},
   "source": [
    "2. Assigning the results in a variable called seconds_per_hour"
   ]
  },
  {
   "cell_type": "code",
   "execution_count": 2,
   "id": "15592dc4",
   "metadata": {},
   "outputs": [
    {
     "data": {
      "text/plain": [
       "3600"
      ]
     },
     "execution_count": 2,
     "metadata": {},
     "output_type": "execute_result"
    }
   ],
   "source": [
    "seconds_per_hour = 60 * 60\n",
    "seconds_per_hour"
   ]
  },
  {
   "cell_type": "markdown",
   "id": "ee054622",
   "metadata": {},
   "source": [
    "3. Finding seconds in a day"
   ]
  },
  {
   "cell_type": "code",
   "execution_count": 5,
   "id": "ee314a1c",
   "metadata": {},
   "outputs": [
    {
     "data": {
      "text/plain": [
       "86400"
      ]
     },
     "execution_count": 5,
     "metadata": {},
     "output_type": "execute_result"
    }
   ],
   "source": [
    "hours_per_day = 24\n",
    "minutes_per_hour = 60\n",
    "seconds_per_hour = minutes_per_hour * 60\n",
    "seconds_per_hour * hours_per_day"
   ]
  },
  {
   "cell_type": "markdown",
   "id": "1abc5c6e",
   "metadata": {},
   "source": [
    "4. Storing the value in variable seconds_per_day"
   ]
  },
  {
   "cell_type": "code",
   "execution_count": 6,
   "id": "a1888522",
   "metadata": {},
   "outputs": [
    {
     "data": {
      "text/plain": [
       "86400"
      ]
     },
     "execution_count": 6,
     "metadata": {},
     "output_type": "execute_result"
    }
   ],
   "source": [
    "seconds_per_day = seconds_per_hour * hours_per_day\n",
    "seconds_per_day"
   ]
  },
  {
   "cell_type": "markdown",
   "id": "4ceb667d",
   "metadata": {},
   "source": [
    "5. Dividing seconds_per_day by seconds_per_hour using floating-point (/) division"
   ]
  },
  {
   "cell_type": "code",
   "execution_count": 7,
   "id": "75776aec",
   "metadata": {},
   "outputs": [
    {
     "data": {
      "text/plain": [
       "24.0"
      ]
     },
     "execution_count": 7,
     "metadata": {},
     "output_type": "execute_result"
    }
   ],
   "source": [
    "seconds_per_day / seconds_per_hour"
   ]
  },
  {
   "cell_type": "markdown",
   "id": "fd23f31a",
   "metadata": {},
   "source": [
    "6. Dividing seconds_per_day by seconds_per_hour using integer (/) division"
   ]
  },
  {
   "cell_type": "code",
   "execution_count": 8,
   "id": "8a0ef291",
   "metadata": {},
   "outputs": [
    {
     "data": {
      "text/plain": [
       "24"
      ]
     },
     "execution_count": 8,
     "metadata": {},
     "output_type": "execute_result"
    }
   ],
   "source": [
    "seconds_per_day // seconds_per_hour"
   ]
  },
  {
   "cell_type": "markdown",
   "id": "caab032f",
   "metadata": {},
   "source": [
    "Yes, the number agrees with the previous result."
   ]
  },
  {
   "cell_type": "markdown",
   "id": "43c2ee78",
   "metadata": {},
   "source": [
    "7. genPrimes generator"
   ]
  },
  {
   "cell_type": "code",
   "execution_count": 10,
   "id": "439b32f5",
   "metadata": {},
   "outputs": [],
   "source": [
    "def genPrimes():\n",
    "    n = 2\n",
    "    primes = []\n",
    "    while True:\n",
    "        for p in primes:\n",
    "            if n % p == 0:\n",
    "                break\n",
    "        else:\n",
    "            primes.append(n)\n",
    "            yield n\n",
    "        n += 1"
   ]
  },
  {
   "cell_type": "code",
   "execution_count": 14,
   "id": "3eb76b0a",
   "metadata": {},
   "outputs": [],
   "source": [
    "p = genPrimes()"
   ]
  },
  {
   "cell_type": "code",
   "execution_count": 15,
   "id": "1d0ab936",
   "metadata": {},
   "outputs": [
    {
     "data": {
      "text/plain": [
       "2"
      ]
     },
     "execution_count": 15,
     "metadata": {},
     "output_type": "execute_result"
    }
   ],
   "source": [
    "next(p)"
   ]
  },
  {
   "cell_type": "code",
   "execution_count": 16,
   "id": "05e2d63e",
   "metadata": {},
   "outputs": [
    {
     "data": {
      "text/plain": [
       "3"
      ]
     },
     "execution_count": 16,
     "metadata": {},
     "output_type": "execute_result"
    }
   ],
   "source": [
    "next(p)"
   ]
  },
  {
   "cell_type": "code",
   "execution_count": null,
   "id": "6c7b4ac8",
   "metadata": {},
   "outputs": [],
   "source": []
  }
 ],
 "metadata": {
  "kernelspec": {
   "display_name": "Python 3",
   "language": "python",
   "name": "python3"
  },
  "language_info": {
   "codemirror_mode": {
    "name": "ipython",
    "version": 3
   },
   "file_extension": ".py",
   "mimetype": "text/x-python",
   "name": "python",
   "nbconvert_exporter": "python",
   "pygments_lexer": "ipython3",
   "version": "3.8.8"
  }
 },
 "nbformat": 4,
 "nbformat_minor": 5
}
