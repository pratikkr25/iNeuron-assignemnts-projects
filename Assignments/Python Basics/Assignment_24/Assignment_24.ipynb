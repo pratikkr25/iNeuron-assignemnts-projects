{
 "cells": [
  {
   "cell_type": "markdown",
   "id": "90beac8e",
   "metadata": {},
   "source": [
    "1. What is the relationship between def statements and lambda expressions ?"
   ]
  },
  {
   "cell_type": "markdown",
   "id": "0784bead",
   "metadata": {},
   "source": [
    "Both def and lambdas are used to define a function. The difference is that, lambda returns a value that can optionally be assigned a name. However, def statement assigns the new function to the name in the header."
   ]
  },
  {
   "cell_type": "markdown",
   "id": "4fbce42c",
   "metadata": {},
   "source": [
    "2. What is the benefit of lambda?"
   ]
  },
  {
   "cell_type": "markdown",
   "id": "d2fcc6fb",
   "metadata": {},
   "source": [
    "Lambda functions are inline functions and thus require fewer lines of code, which makes it simple to read, and execute comparatively faster than regular functions."
   ]
  },
  {
   "cell_type": "markdown",
   "id": "eaf8de92",
   "metadata": {},
   "source": [
    "3. Compare and contrast map, filter, and reduce."
   ]
  },
  {
   "cell_type": "markdown",
   "id": "443ca6b6",
   "metadata": {},
   "source": [
    "Comparision \n",
    "\n",
    "The map() function iterates through all items in the given iterable and executes the function we passed as an argument on each of them. The filter() forms a new list that contains only elements that satisfy a certain condition, and reduce() works by calling the function we passed for the first two items in the sequence. The result returned by the function is used in another call to function alongside with the next element "
   ]
  },
  {
   "cell_type": "markdown",
   "id": "a207ecc9",
   "metadata": {},
   "source": [
    "4. What are function annotations, and how are they used?"
   ]
  },
  {
   "cell_type": "markdown",
   "id": "c9f638de",
   "metadata": {},
   "source": [
    "Function annotations are completely optional both for parameters and return value. Function annotations provide a way of associating various parts of a function with arbitrary python expressions at compile time.\n",
    "\n",
    "Syntax of function annotations for simple parameters and for excess parameters respectively:\n",
    "\n",
    "def foobar(a: expression, b: expression = 5):\n",
    "\n",
    "def foobar(args: expression, kwargs: expression):"
   ]
  },
  {
   "cell_type": "markdown",
   "id": "3fc8a6fa",
   "metadata": {},
   "source": [
    "5. What are recursive functions, and how are they used?"
   ]
  },
  {
   "cell_type": "markdown",
   "id": "baccb727",
   "metadata": {},
   "source": [
    "A recursive function is a function defined in terms of itself via self-referential expressions. The function will continue to call itself and repeat its behavior until some condition is met to return a result. One example of this is as follows:"
   ]
  },
  {
   "cell_type": "code",
   "execution_count": 1,
   "id": "07142719",
   "metadata": {},
   "outputs": [
    {
     "name": "stdout",
     "output_type": "stream",
     "text": [
      "The factorial of 7 is 5040\n"
     ]
    }
   ],
   "source": [
    "# Factorial of a number using recursion\n",
    "\n",
    "def recur_factorial(n):\n",
    "   if n == 1:\n",
    "       return n\n",
    "   else:\n",
    "       return n*recur_factorial(n-1)\n",
    "\n",
    "num = 7\n",
    "\n",
    "# check if the number is negative\n",
    "\n",
    "print(\"The factorial of\", num, \"is\", recur_factorial(num))"
   ]
  },
  {
   "cell_type": "markdown",
   "id": "1d09db85",
   "metadata": {},
   "source": [
    "6. What are some general design guidelines for coding functions?"
   ]
  },
  {
   "cell_type": "markdown",
   "id": "0da72ad5",
   "metadata": {},
   "source": [
    "Some general design guidelines are as follows:\n",
    "    \n",
    "1. Use 4-space indentation and no tabs.\n",
    "\n",
    "2. Use docstrings\n",
    "\n",
    "3. Wrap lines so that they don’t exceed 79 characters\n",
    "\n",
    "4. Use of regular and updated comments are valuable to both the coders and users"
   ]
  },
  {
   "cell_type": "markdown",
   "id": "b7fc9d88",
   "metadata": {},
   "source": [
    "7. Name three or more ways that functions can communicate results to a caller."
   ]
  },
  {
   "cell_type": "markdown",
   "id": "cd1dd461",
   "metadata": {},
   "source": [
    "- Function can return single value\n",
    "- Can return multiple values, tuple\n",
    "- Can return list,dictionary\n",
    "- Can return function object\n",
    "- Can return class object"
   ]
  },
  {
   "cell_type": "code",
   "execution_count": null,
   "id": "ba0e8c02",
   "metadata": {},
   "outputs": [],
   "source": []
  }
 ],
 "metadata": {
  "kernelspec": {
   "display_name": "Python 3",
   "language": "python",
   "name": "python3"
  },
  "language_info": {
   "codemirror_mode": {
    "name": "ipython",
    "version": 3
   },
   "file_extension": ".py",
   "mimetype": "text/x-python",
   "name": "python",
   "nbconvert_exporter": "python",
   "pygments_lexer": "ipython3",
   "version": "3.8.8"
  }
 },
 "nbformat": 4,
 "nbformat_minor": 5
}
