{
 "cells": [
  {
   "cell_type": "markdown",
   "id": "425f7291",
   "metadata": {},
   "source": [
    "NOTE: The codes are executed below in  the notebook, and then explained further."
   ]
  },
  {
   "cell_type": "markdown",
   "id": "f9f4786f",
   "metadata": {},
   "source": [
    "1. Question 1"
   ]
  },
  {
   "cell_type": "code",
   "execution_count": 1,
   "id": "4c6a6952",
   "metadata": {},
   "outputs": [
    {
     "name": "stdout",
     "output_type": "stream",
     "text": [
      "iNeuron\n"
     ]
    }
   ],
   "source": [
    "X = 'iNeuron'\n",
    "def func():\n",
    "    print(X)\n",
    "func()"
   ]
  },
  {
   "cell_type": "markdown",
   "id": "6b96b102",
   "metadata": {},
   "source": [
    "Here, X is a global variable. That's why it is assessible inside the func()."
   ]
  },
  {
   "cell_type": "markdown",
   "id": "64d5ff0d",
   "metadata": {},
   "source": [
    "2. Question 2"
   ]
  },
  {
   "cell_type": "code",
   "execution_count": 2,
   "id": "bb6249a2",
   "metadata": {},
   "outputs": [
    {
     "name": "stdout",
     "output_type": "stream",
     "text": [
      "iNeuron\n"
     ]
    }
   ],
   "source": [
    "X = 'iNeuron'\n",
    "def func():\n",
    "    X = 'NI!'\n",
    "\n",
    "func()\n",
    "print(X)"
   ]
  },
  {
   "cell_type": "markdown",
   "id": "c1b07a65",
   "metadata": {},
   "source": [
    "Here, we are trying to assign the value 'NI!' to the variable X. But, X is a global variable and hence it's value can't be changed outside the func()."
   ]
  },
  {
   "cell_type": "markdown",
   "id": "946df8bc",
   "metadata": {},
   "source": [
    "3. Question 3"
   ]
  },
  {
   "cell_type": "code",
   "execution_count": 3,
   "id": "53f5fa77",
   "metadata": {},
   "outputs": [
    {
     "name": "stdout",
     "output_type": "stream",
     "text": [
      "NI!\n",
      "iNeuron\n"
     ]
    }
   ],
   "source": [
    "X = 'iNeuron'\n",
    "def func():\n",
    "    X = 'NI!'\n",
    "    print(X)\n",
    "\n",
    "func()\n",
    "print(X)"
   ]
  },
  {
   "cell_type": "markdown",
   "id": "ff4a813a",
   "metadata": {},
   "source": [
    "Here, X is updated with 'NI' which is local to function and its immutable. And, the global variable is printed as it is."
   ]
  },
  {
   "cell_type": "markdown",
   "id": "a0f5a40d",
   "metadata": {},
   "source": [
    "4. Question 4"
   ]
  },
  {
   "cell_type": "code",
   "execution_count": 4,
   "id": "d113eec2",
   "metadata": {},
   "outputs": [
    {
     "name": "stdout",
     "output_type": "stream",
     "text": [
      "NI!\n",
      "NI!\n"
     ]
    }
   ],
   "source": [
    "X = 'iNeuron'\n",
    "def func():\n",
    "    global X\n",
    "    X = 'NI!'\n",
    "    print(X)\n",
    "\n",
    "func()\n",
    "print(X)"
   ]
  },
  {
   "cell_type": "markdown",
   "id": "3874a2c8",
   "metadata": {},
   "source": [
    "Here, X inside the function is called globally, that's why the value of X will be changed in this case."
   ]
  },
  {
   "cell_type": "markdown",
   "id": "d388e2a9",
   "metadata": {},
   "source": [
    "5. Question 5"
   ]
  },
  {
   "cell_type": "code",
   "execution_count": 5,
   "id": "6db4d08b",
   "metadata": {},
   "outputs": [
    {
     "name": "stdout",
     "output_type": "stream",
     "text": [
      "iNeuron\n"
     ]
    },
    {
     "data": {
      "text/plain": [
       "'iNeuron'"
      ]
     },
     "execution_count": 5,
     "metadata": {},
     "output_type": "execute_result"
    }
   ],
   "source": [
    "X = 'iNeuron'\n",
    "def func():\n",
    "    X = 'NI'\n",
    "def nested():\n",
    "    print(X)\n",
    "    \n",
    "nested()\n",
    "func()\n",
    "X"
   ]
  },
  {
   "cell_type": "markdown",
   "id": "4b54a879",
   "metadata": {},
   "source": [
    "Here, nested() prints the value of X as it is a fglobal variable. func() will not print anything. "
   ]
  },
  {
   "cell_type": "markdown",
   "id": "c306ea40",
   "metadata": {},
   "source": [
    "6. Question 6"
   ]
  },
  {
   "cell_type": "code",
   "execution_count": 6,
   "id": "a81f281e",
   "metadata": {},
   "outputs": [
    {
     "name": "stdout",
     "output_type": "stream",
     "text": [
      "spam\n"
     ]
    }
   ],
   "source": [
    "def func():\n",
    "    X = 'NI'\n",
    "    def nested():\n",
    "        nonlocal X\n",
    "        X = 'spam'\n",
    "    nested()\n",
    "    print(X)\n",
    "\n",
    "func()"
   ]
  },
  {
   "cell_type": "markdown",
   "id": "f552c93c",
   "metadata": {},
   "source": [
    "Here, we have used non-local variables in nested functions whose local scope is not defined. \n",
    "It means that the variable can be neither in the local nor the global scope, and it prints the updated value from nested()."
   ]
  },
  {
   "cell_type": "code",
   "execution_count": null,
   "id": "0c59dd11",
   "metadata": {},
   "outputs": [],
   "source": []
  }
 ],
 "metadata": {
  "kernelspec": {
   "display_name": "Python 3",
   "language": "python",
   "name": "python3"
  },
  "language_info": {
   "codemirror_mode": {
    "name": "ipython",
    "version": 3
   },
   "file_extension": ".py",
   "mimetype": "text/x-python",
   "name": "python",
   "nbconvert_exporter": "python",
   "pygments_lexer": "ipython3",
   "version": "3.8.8"
  }
 },
 "nbformat": 4,
 "nbformat_minor": 5
}
