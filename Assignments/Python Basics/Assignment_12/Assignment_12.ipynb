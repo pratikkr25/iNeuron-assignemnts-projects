{
 "cells": [
  {
   "cell_type": "markdown",
   "id": "38d89a70",
   "metadata": {},
   "source": [
    "1. The modes are read binary (rb) for PdfFileREader() and write binary (wb) for PdfFileWriter()."
   ]
  },
  {
   "cell_type": "markdown",
   "id": "5c33c9f0",
   "metadata": {},
   "source": [
    "2. getPage(4) "
   ]
  },
  {
   "cell_type": "markdown",
   "id": "5ee25490",
   "metadata": {},
   "source": [
    "3. numPages tells the number of pages in a PDF document."
   ]
  },
  {
   "cell_type": "markdown",
   "id": "90b00b42",
   "metadata": {},
   "source": [
    "4. The pdf needs to be decrypted for obtaining page Objects by calling .decrypt('swordfish')\n"
   ]
  },
  {
   "cell_type": "markdown",
   "id": "bb9d6f81",
   "metadata": {},
   "source": [
    "5. rotateClockwise() and rotateCounterClockwise() are used to rotate a page. "
   ]
  },
  {
   "cell_type": "markdown",
   "id": "e560a825",
   "metadata": {},
   "source": [
    "6. A Paragraph Object can be added only at the end of a document as a paragraph starts from a new line, whereas Run objects are continuous group of characters within a paragraph that can be added only to the end of a Paragraph object."
   ]
  },
  {
   "cell_type": "markdown",
   "id": "c10fe026",
   "metadata": {},
   "source": [
    "7. It can be done using doc.paragraphs"
   ]
  },
  {
   "cell_type": "markdown",
   "id": "0c6cfe00",
   "metadata": {},
   "source": [
    "8. Run object"
   ]
  },
  {
   "cell_type": "markdown",
   "id": "6dd84bfb",
   "metadata": {},
   "source": [
    "9. True makes the Run object bolded whereas False makes it always not bolded, no matter what the style’s bold setting is. None will make the Run object just use the style’s bold setting."
   ]
  },
  {
   "cell_type": "markdown",
   "id": "fa8225b9",
   "metadata": {},
   "source": [
    "10. It is done by using docx.Document() function."
   ]
  },
  {
   "cell_type": "markdown",
   "id": "43bd3af7",
   "metadata": {},
   "source": [
    "11. It can be done using the following statement: doc.add_paragraph('Hello, there!')"
   ]
  },
  {
   "cell_type": "markdown",
   "id": "f4cb6a74",
   "metadata": {},
   "source": [
    "12. The integers from 0 to 4 represents the levels of heading in Word documents, where 0 is used for title at the top of the document, followed by 1 to 4 where 1 being the main heading."
   ]
  },
  {
   "cell_type": "code",
   "execution_count": null,
   "id": "add34094",
   "metadata": {},
   "outputs": [],
   "source": []
  }
 ],
 "metadata": {
  "kernelspec": {
   "display_name": "Python 3",
   "language": "python",
   "name": "python3"
  },
  "language_info": {
   "codemirror_mode": {
    "name": "ipython",
    "version": 3
   },
   "file_extension": ".py",
   "mimetype": "text/x-python",
   "name": "python",
   "nbconvert_exporter": "python",
   "pygments_lexer": "ipython3",
   "version": "3.8.8"
  }
 },
 "nbformat": 4,
 "nbformat_minor": 5
}
