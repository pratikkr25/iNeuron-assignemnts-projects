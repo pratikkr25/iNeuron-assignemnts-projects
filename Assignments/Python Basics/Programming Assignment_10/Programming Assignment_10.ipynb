{
 "cells": [
  {
   "cell_type": "markdown",
   "id": "1992d55e",
   "metadata": {},
   "source": [
    "1. Find sum of elements in list"
   ]
  },
  {
   "cell_type": "code",
   "execution_count": 1,
   "id": "7ec7c94b",
   "metadata": {},
   "outputs": [
    {
     "name": "stdout",
     "output_type": "stream",
     "text": [
      "Enter the No of Entries in a List: 5\n",
      "Enter a element: 4\n",
      "Enter a element: 6\n",
      "Enter a element: 2\n",
      "Enter a element: 8\n",
      "Enter a element: 7\n",
      "Sum of Elements: 27\n"
     ]
    }
   ],
   "source": [
    "#1. Find sum of elements in list\n",
    "\n",
    "def sumOfList():\n",
    "    num = int(input('Enter the No of Entries in a List: '))\n",
    "    in_list = []\n",
    "    for itr in range(num):\n",
    "        in_list.append(int(input('Enter a element: ')))\n",
    "    print(f'Sum of Elements: {sum(in_list)}')\n",
    "\n",
    "sumOfList()"
   ]
  },
  {
   "cell_type": "markdown",
   "id": "d63f4465",
   "metadata": {},
   "source": [
    "2. Multiply all numbers in the list"
   ]
  },
  {
   "cell_type": "code",
   "execution_count": 5,
   "id": "6caba6b8",
   "metadata": {},
   "outputs": [
    {
     "name": "stdout",
     "output_type": "stream",
     "text": [
      "Enter the No of Entries in a List: 4\n",
      "Enter a element: 6\n",
      "Enter a element: 4\n",
      "Enter a element: 3\n",
      "Enter a element: 8\n",
      "The product is: 576\n"
     ]
    }
   ],
   "source": [
    "#2. Multiply all numbers in the list\n",
    "\n",
    "def multiplyList():\n",
    "    num = int(input('Enter the No of Entries in a List: '))\n",
    "    in_list = []\n",
    "    mul = 1\n",
    "    for itr in range(num):\n",
    "        in_list.append(int(input('Enter a element: ')))\n",
    "    for i in in_list:\n",
    "        mul = mul * i\n",
    "    print(f'The product is: {mul}')\n",
    "\n",
    "multiplyList()"
   ]
  },
  {
   "cell_type": "markdown",
   "id": "3d76fff2",
   "metadata": {},
   "source": [
    "3. Find smallest number in a list"
   ]
  },
  {
   "cell_type": "code",
   "execution_count": 7,
   "id": "0074e1b1",
   "metadata": {},
   "outputs": [
    {
     "name": "stdout",
     "output_type": "stream",
     "text": [
      "Enter the No of elements in a list: 4\n",
      "Enter a Element: 54\n",
      "Enter a Element: 23\n",
      "Enter a Element: 12\n",
      "Enter a Element: 78\n",
      "The Smallest Element is 12\n"
     ]
    }
   ],
   "source": [
    "#3. Find smallest number in a list\n",
    "\n",
    "def smallestNumber():\n",
    "    num = int(input('Enter the No of elements in a list: '))\n",
    "    in_list = []\n",
    "    for ele in range(num):\n",
    "        in_list.append(int(input('Enter a Element: ')))\n",
    "    print(f'The Smallest Element is {sorted(in_list)[0]}')\n",
    "\n",
    "smallestNumber()"
   ]
  },
  {
   "cell_type": "markdown",
   "id": "aabbba84",
   "metadata": {},
   "source": [
    "4. Find largest number in a list"
   ]
  },
  {
   "cell_type": "code",
   "execution_count": 9,
   "id": "7d86e3c6",
   "metadata": {},
   "outputs": [
    {
     "name": "stdout",
     "output_type": "stream",
     "text": [
      "Enter the No of elements in a list: 4\n",
      "Enter a Element: 32\n",
      "Enter a Element: 24\n",
      "Enter a Element: 78\n",
      "Enter a Element: 65\n",
      "The Largest Element is 78\n"
     ]
    }
   ],
   "source": [
    "#4. Find largest number in a list\n",
    "\n",
    "def largestNumber():\n",
    "    num = int(input('Enter the No of elements in a list: '))\n",
    "    in_list = []\n",
    "    for ele in range(num):\n",
    "        in_list.append(int(input('Enter a Element: ')))\n",
    "    print(f'The Largest Element is {sorted(in_list)[num-1]}')\n",
    "\n",
    "largestNumber()"
   ]
  },
  {
   "cell_type": "markdown",
   "id": "1ddcf50c",
   "metadata": {},
   "source": [
    "5. Find second largest number in a list"
   ]
  },
  {
   "cell_type": "code",
   "execution_count": 10,
   "id": "58ce0d27",
   "metadata": {},
   "outputs": [
    {
     "name": "stdout",
     "output_type": "stream",
     "text": [
      "Enter the No of elements in a list: 5\n",
      "Enter a Element: 43\n",
      "Enter a Element: 67\n",
      "Enter a Element: 64\n",
      "Enter a Element: 11\n",
      "Enter a Element: 20\n",
      "The Second Largest Element is 64\n"
     ]
    }
   ],
   "source": [
    "#5. Find second largest number in a list\n",
    "\n",
    "def secondLargestNumber():\n",
    "    num = int(input('Enter the No of elements in a list: '))\n",
    "    in_list = []\n",
    "    for ele in range(num):\n",
    "        in_list.append(int(input('Enter a Element: ')))\n",
    "    print(f'The Second Largest Element is {sorted(in_list)[num - 2]}')\n",
    "\n",
    "secondLargestNumber()"
   ]
  },
  {
   "cell_type": "markdown",
   "id": "409f9b02",
   "metadata": {},
   "source": [
    "6. Find N largest elements from a list"
   ]
  },
  {
   "cell_type": "code",
   "execution_count": 16,
   "id": "34f90b01",
   "metadata": {},
   "outputs": [
    {
     "name": "stdout",
     "output_type": "stream",
     "text": [
      "Enter the No of elements in a list: 5\n",
      "Enter a Element: 6\n",
      "Enter a Element: 4\n",
      "Enter a Element: 8\n",
      "Enter a Element: 7\n",
      "Enter a Element: 1\n",
      "Enter the value of n: 3\n",
      "The 3 Largest Element in [6, 4, 8, 7, 1] is [8, 7, 6]\n"
     ]
    }
   ],
   "source": [
    "#6. Find N largest elements from a list\n",
    "\n",
    "def nLargestNumber():\n",
    "    num = int(input('Enter the No of elements in a list: '))\n",
    "    in_list = []\n",
    "    for ele in range(num):\n",
    "        in_list.append(int(input('Enter a Element: ')))\n",
    "    n = int(input(\"Enter the value of n: \"))\n",
    "    if n > num:\n",
    "        print(\"Out of bounds\")\n",
    "    else:\n",
    "        print(f'The {n} Largest Element in {in_list} is {sorted(in_list, reverse=True)[0:n]}')\n",
    "\n",
    "nLargestNumber()"
   ]
  },
  {
   "cell_type": "markdown",
   "id": "b15503c0",
   "metadata": {},
   "source": [
    "7. Print even numbers in a list"
   ]
  },
  {
   "cell_type": "code",
   "execution_count": 17,
   "id": "9887c155",
   "metadata": {},
   "outputs": [
    {
     "name": "stdout",
     "output_type": "stream",
     "text": [
      "Enter the No of elements in a list: 5\n",
      "Enter a Element: 43\n",
      "Enter a Element: 21\n",
      "Enter a Element: 34\n",
      "Enter a Element: 56\n",
      "Enter a Element: 77\n",
      "The Even Elements in [43, 21, 34, 56, 77] are [34, 56]\n"
     ]
    }
   ],
   "source": [
    "#7. Print even numbers in a list\n",
    "\n",
    "def evenNumber():\n",
    "    num = int(input('Enter the No of elements in a list: '))\n",
    "    in_list = []\n",
    "    even = []\n",
    "    for i in range(num):\n",
    "        in_list.append(int(input('Enter a Element: ')))\n",
    "    for i in in_list:\n",
    "        if i % 2 == 0:\n",
    "            even.append(i)\n",
    "    print(f'The Even Elements in {in_list} are {even}')\n",
    "    \n",
    "evenNumber()"
   ]
  },
  {
   "cell_type": "markdown",
   "id": "6785e08b",
   "metadata": {},
   "source": [
    "8. Print odd numbers in a list"
   ]
  },
  {
   "cell_type": "code",
   "execution_count": 18,
   "id": "e2da4d84",
   "metadata": {},
   "outputs": [
    {
     "name": "stdout",
     "output_type": "stream",
     "text": [
      "Enter the No of elements in a list: 5\n",
      "Enter a Element: 43\n",
      "Enter a Element: 21\n",
      "Enter a Element: 34\n",
      "Enter a Element: 44\n",
      "Enter a Element: 57\n",
      "The Odd Elements in [43, 21, 34, 44, 57] are [43, 21, 57]\n"
     ]
    }
   ],
   "source": [
    "#8. Print odd numbers in a list\n",
    "\n",
    "def oddNumber():\n",
    "    num = int(input('Enter the No of elements in a list: '))\n",
    "    in_list = []\n",
    "    odd = []\n",
    "    for i in range(num):\n",
    "        in_list.append(int(input('Enter a Element: ')))\n",
    "    for i in in_list:\n",
    "        if i % 2 != 0:\n",
    "            odd.append(i)\n",
    "    print(f'The Odd Elements in {in_list} are {odd}')\n",
    "    \n",
    "oddNumber()"
   ]
  },
  {
   "cell_type": "markdown",
   "id": "32fc04dd",
   "metadata": {},
   "source": [
    "9. Remove empty list from list"
   ]
  },
  {
   "cell_type": "code",
   "execution_count": 20,
   "id": "494df6fc",
   "metadata": {},
   "outputs": [
    {
     "name": "stdout",
     "output_type": "stream",
     "text": [
      "Enter all elements of the list: [4, [], 6, 9]\n",
      "There is an Empty list in [4, [], 6, 9] at Position 1\n",
      "The List after removing [] is [4, 6, 9]\n",
      "Enter all elements of the list: [98, 74, 21]\n",
      "There is no [] List in the list [98, 74, 21]\n"
     ]
    }
   ],
   "source": [
    "#9. Remove empty list from list\n",
    "\n",
    "def removeEmptyList():\n",
    "    in_list = eval(input('Enter all elements of the list: '))\n",
    "    if [] in in_list:\n",
    "        print(f'There is an Empty list in {in_list} at Position {in_list.index([])}')\n",
    "        in_list.remove([])\n",
    "        print(f'The List after removing [] is {in_list}')\n",
    "    else:\n",
    "        print(f'There is no [] List in the list {in_list}')\n",
    "        \n",
    "removeEmptyList()\n",
    "removeEmptyList()"
   ]
  },
  {
   "cell_type": "markdown",
   "id": "69b55a80",
   "metadata": {},
   "source": [
    "10. Clone or Copy a List"
   ]
  },
  {
   "cell_type": "code",
   "execution_count": 21,
   "id": "4942fdb6",
   "metadata": {},
   "outputs": [
    {
     "name": "stdout",
     "output_type": "stream",
     "text": [
      "Enter a list[9,8,7]\n",
      "[9, 8, 7] 1528064600896\n",
      "The cloned list is as follows: \n",
      "[9, 8, 7] 1528064639104\n"
     ]
    }
   ],
   "source": [
    "#10. Clone or Copy a List\n",
    "\n",
    "import copy\n",
    "\n",
    "def cloneList():\n",
    "    in_list = eval(input('Enter a list'))\n",
    "    print(in_list, id(in_list))\n",
    "    cloned_list = in_list.copy()\n",
    "    print(\"The cloned list is as follows: \")\n",
    "    print(cloned_list, id(cloned_list))\n",
    "\n",
    "cloneList()"
   ]
  },
  {
   "cell_type": "markdown",
   "id": "0e2706b8",
   "metadata": {},
   "source": [
    "11. Count occurrences of an element in a list"
   ]
  },
  {
   "cell_type": "code",
   "execution_count": 22,
   "id": "318b4ad4",
   "metadata": {},
   "outputs": [
    {
     "name": "stdout",
     "output_type": "stream",
     "text": [
      "Enter the elements of the list: [9,6,6,5,3,2,1,5,6,8]\n",
      "Enter the element to find: 5\n",
      "There are 2 occurences of 5 in [9, 6, 6, 5, 3, 2, 1, 5, 6, 8]\n"
     ]
    }
   ],
   "source": [
    "#11. Count occurrences of an element in a list\n",
    "\n",
    "def checkOccurence():\n",
    "    in_list = eval(input('Enter the elements of the list: '))\n",
    "    num = eval(input('Enter the element to find: '))\n",
    "    count = 0\n",
    "    if num in in_list:\n",
    "        for ele in in_list:\n",
    "            if ele == num:\n",
    "                count = count+1\n",
    "    print(f'There are {count} occurences of {num} in {in_list}')\n",
    "    \n",
    "checkOccurence()"
   ]
  },
  {
   "cell_type": "code",
   "execution_count": null,
   "id": "46df53fc",
   "metadata": {},
   "outputs": [],
   "source": []
  }
 ],
 "metadata": {
  "kernelspec": {
   "display_name": "Python 3",
   "language": "python",
   "name": "python3"
  },
  "language_info": {
   "codemirror_mode": {
    "name": "ipython",
    "version": 3
   },
   "file_extension": ".py",
   "mimetype": "text/x-python",
   "name": "python",
   "nbconvert_exporter": "python",
   "pygments_lexer": "ipython3",
   "version": "3.8.8"
  }
 },
 "nbformat": 4,
 "nbformat_minor": 5
}
