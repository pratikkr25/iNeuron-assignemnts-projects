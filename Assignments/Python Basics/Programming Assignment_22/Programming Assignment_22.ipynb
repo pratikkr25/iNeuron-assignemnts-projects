{
 "cells": [
  {
   "cell_type": "markdown",
   "id": "61f8437c",
   "metadata": {},
   "source": [
    "__Question 1__\n",
    "\n",
    "Create a function that takes three parameters where:\n",
    "\n",
    "1. x is the start of the range (inclusive).\n",
    "2. y is the end of the range (inclusive).\n",
    "3. n is the divisor to be checked against.\n",
    "\n",
    "Return an ordered list with numbers in the range that are divisible by the third parameter n. Return an empty list if there are no numbers that are divisible by n."
   ]
  },
  {
   "cell_type": "code",
   "execution_count": 1,
   "id": "6c5e43dd",
   "metadata": {},
   "outputs": [
    {
     "name": "stdout",
     "output_type": "stream",
     "text": [
      "Output: [3, 6, 9]\n",
      "Output: [8]\n",
      "Output: []\n"
     ]
    }
   ],
   "source": [
    "def list_operation(x, y, n):\n",
    "    output = []\n",
    "    for ele in range(x, y + 1):\n",
    "        if ele % n == 0:\n",
    "            output.append(ele)\n",
    "    print(f'Output: {output}')\n",
    "\n",
    "list_operation(1, 10, 3)\n",
    "list_operation(7, 9, 2)\n",
    "list_operation(15, 20, 7)"
   ]
  },
  {
   "cell_type": "markdown",
   "id": "c0e088a3",
   "metadata": {},
   "source": [
    "__Question 2__\n",
    "\n",
    "Create a function that takes in two lists and returns True if the second list follows the first list by one element, and False otherwise. In other words, determine if the second list is the first list shifted to the right by 1.\n",
    "\n",
    "__Notes__\n",
    "1. Both input lists will be of the same length, and will have a minimum length of 2.\n",
    "2. The values of the 0-indexed element in the second list and the n-1th indexed element in the first list do not matter."
   ]
  },
  {
   "cell_type": "code",
   "execution_count": 2,
   "id": "f18ca14a",
   "metadata": {},
   "outputs": [
    {
     "name": "stdout",
     "output_type": "stream",
     "text": [
      "([1, 2], [5, 1]) : True\n",
      "([1, 2], [5, 5]) : False\n",
      "([1, 2, 3, 4, 5], [0, 1, 2, 3, 4]) : True\n",
      "([1, 2, 3, 4, 5], [5, 5, 1, 2, 3]) : False\n"
     ]
    }
   ],
   "source": [
    "def simon_says(input1,input2):\n",
    "    if len(input1) == len(input1) and len(input1) >= 2 and len(input1) >= 2:\n",
    "        if(input1[:-1] == input2[1:]):\n",
    "            print(f'{input1, input2} : {True}')\n",
    "        else:\n",
    "            print(f'{input1, input2} : {False}')\n",
    "            \n",
    "simon_says([1, 2], [5, 1])\n",
    "simon_says([1, 2], [5, 5])\n",
    "simon_says([1, 2, 3, 4, 5], [0, 1, 2, 3, 4])\n",
    "simon_says([1, 2, 3, 4, 5], [5, 5, 1, 2, 3])"
   ]
  },
  {
   "cell_type": "markdown",
   "id": "50067168",
   "metadata": {},
   "source": [
    "__Question 3__\n",
    "\n",
    "A group of friends have decided to start a secret society. The name will be the first letter of each of their names, sorted in alphabetical order.\n",
    "Create a function that takes in a list of names and returns the name of the secret society."
   ]
  },
  {
   "cell_type": "code",
   "execution_count": 3,
   "id": "50afe05e",
   "metadata": {},
   "outputs": [
    {
     "name": "stdout",
     "output_type": "stream",
     "text": [
      "['Adam', 'Sarah', 'Malcolm'] ➞ AMS\n",
      "['Harry', 'Newt', 'Luna', 'Cho'] ➞ CHLN\n",
      "['Phoebe', 'Chandler', 'Rachel', 'Ross', 'Monica', 'Joey'] ➞ CJMPRR\n"
     ]
    }
   ],
   "source": [
    "def society_name(inputList):\n",
    "    outputStr = []\n",
    "    for ele in inputList:\n",
    "        outputStr.append(ele[0])\n",
    "    output = ''.join(sorted(outputStr))\n",
    "    print(f'{inputList} ➞ {output}')\n",
    "\n",
    "society_name([\"Adam\", \"Sarah\", \"Malcolm\"])\n",
    "society_name([\"Harry\", \"Newt\", \"Luna\", \"Cho\"])\n",
    "society_name([\"Phoebe\", \"Chandler\", \"Rachel\", \"Ross\", \"Monica\", \"Joey\"])"
   ]
  },
  {
   "cell_type": "markdown",
   "id": "55284618",
   "metadata": {},
   "source": [
    "__Question 4__\n",
    "\n",
    "An isogram is a word that has no duplicate letters. Create a function that takes a string and returns either True or False depending on whether or not it's an \"isogram\".\n",
    "\n",
    "__Notes__\n",
    "1. Ignore letter case (should not be case sensitive).\n",
    "2. All test cases contain valid one word strings."
   ]
  },
  {
   "cell_type": "code",
   "execution_count": 5,
   "id": "9961b650",
   "metadata": {},
   "outputs": [
    {
     "name": "stdout",
     "output_type": "stream",
     "text": [
      "Algorism : True\n",
      "PasSword : False\n",
      "Consecutive : False\n"
     ]
    }
   ],
   "source": [
    "def is_isogram(inputStr):\n",
    "    lowerStr = inputStr.lower()\n",
    "    if len(lowerStr) == len(set(lowerStr)):\n",
    "        print(f'{inputStr} : {True}')\n",
    "    else:\n",
    "        print(f'{inputStr} : {False}')\n",
    "    \n",
    "is_isogram(\"Algorism\")\n",
    "is_isogram(\"PasSword\")\n",
    "is_isogram(\"Consecutive\")"
   ]
  },
  {
   "cell_type": "markdown",
   "id": "7c9c1a54",
   "metadata": {},
   "source": [
    "__Question 5__\n",
    "\n",
    "Create a function that takes a string and returns True or False, depending on whether the characters are in order or not.\n",
    "\n",
    "__Notes__\n",
    "\n",
    "You don't have to handle empty strings."
   ]
  },
  {
   "cell_type": "code",
   "execution_count": 6,
   "id": "0ef385d1",
   "metadata": {},
   "outputs": [
    {
     "name": "stdout",
     "output_type": "stream",
     "text": [
      "abc : True\n",
      "edabit : False\n",
      "123 : True\n",
      "xyzz : True\n"
     ]
    }
   ],
   "source": [
    "def is_in_order(inputStr):\n",
    "    sortedStr = ''.join(sorted(inputStr))\n",
    "    if inputStr == sortedStr:\n",
    "        print(f'{inputStr} : {True}')\n",
    "    else:\n",
    "       print(f'{inputStr} : {False}')\n",
    "\n",
    "is_in_order(\"abc\")\n",
    "is_in_order(\"edabit\")\n",
    "is_in_order(\"123\")\n",
    "is_in_order(\"xyzz\")"
   ]
  },
  {
   "cell_type": "code",
   "execution_count": null,
   "id": "0cecde25",
   "metadata": {},
   "outputs": [],
   "source": []
  }
 ],
 "metadata": {
  "kernelspec": {
   "display_name": "Python 3",
   "language": "python",
   "name": "python3"
  },
  "language_info": {
   "codemirror_mode": {
    "name": "ipython",
    "version": 3
   },
   "file_extension": ".py",
   "mimetype": "text/x-python",
   "name": "python",
   "nbconvert_exporter": "python",
   "pygments_lexer": "ipython3",
   "version": "3.8.8"
  }
 },
 "nbformat": 4,
 "nbformat_minor": 5
}
