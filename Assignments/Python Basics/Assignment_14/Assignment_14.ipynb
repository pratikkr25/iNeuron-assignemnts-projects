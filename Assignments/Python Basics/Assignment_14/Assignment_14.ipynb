{
 "cells": [
  {
   "cell_type": "markdown",
   "id": "c25782b7",
   "metadata": {},
   "source": [
    "1. RGBA stands for red, green, blue, and alpha in the colour. An RGBA value is a tuple of 4 integers, which ranges from 0 to 255. The four integers correspond to the amount of red, green, blue, and alpha in the colour."
   ]
  },
  {
   "cell_type": "markdown",
   "id": "e82fc293",
   "metadata": {},
   "source": [
    "2. It can be done using getcolor() function as shown below."
   ]
  },
  {
   "cell_type": "code",
   "execution_count": 1,
   "id": "a01a1361",
   "metadata": {},
   "outputs": [
    {
     "data": {
      "text/plain": [
       "(255, 0, 0, 255)"
      ]
     },
     "execution_count": 1,
     "metadata": {},
     "output_type": "execute_result"
    }
   ],
   "source": [
    "from PIL import ImageColor\n",
    "ImageColor.getcolor('green', 'RGBA')\n",
    "ImageColor.getcolor('red', 'RGBA')"
   ]
  },
  {
   "cell_type": "markdown",
   "id": "1c353ede",
   "metadata": {},
   "source": [
    "3. A box tuple is a tuple value of four integers: the left edge x-coordinate, the top edge y-coordinate, the width, and the height, respectively."
   ]
  },
  {
   "cell_type": "markdown",
   "id": "14045e16",
   "metadata": {},
   "source": [
    "4. It can be done using the code below:"
   ]
  },
  {
   "cell_type": "code",
   "execution_count": 2,
   "id": "13d2bb90",
   "metadata": {},
   "outputs": [
    {
     "data": {
      "text/plain": [
       "(1920, 1080)"
      ]
     },
     "execution_count": 2,
     "metadata": {},
     "output_type": "execute_result"
    }
   ],
   "source": [
    "from PIL import Image\n",
    "myImg = Image.open('Wallpaper.jpg')\n",
    "w,h = myImg.size\n",
    "w,h"
   ]
  },
  {
   "cell_type": "markdown",
   "id": "63ec668f",
   "metadata": {},
   "source": [
    "5. It can be done using ImageObject.crop((0, 50, 50, 50)) method."
   ]
  },
  {
   "cell_type": "markdown",
   "id": "11791644",
   "metadata": {},
   "source": [
    "6. The image object can be saved as an image file using imageObj.save() method."
   ]
  },
  {
   "cell_type": "markdown",
   "id": "dc8f4caf",
   "metadata": {},
   "source": [
    "7. ImageDraw module."
   ]
  },
  {
   "cell_type": "markdown",
   "id": "29359088",
   "metadata": {},
   "source": [
    "8. ImageDraw objects have shape-drawing methods such as point(), line(), or rectangle(). They are returned by passing the Image object to the ImageDraw.Draw() function."
   ]
  },
  {
   "cell_type": "code",
   "execution_count": null,
   "id": "7ffe9e5f",
   "metadata": {},
   "outputs": [],
   "source": []
  }
 ],
 "metadata": {
  "kernelspec": {
   "display_name": "Python 3",
   "language": "python",
   "name": "python3"
  },
  "language_info": {
   "codemirror_mode": {
    "name": "ipython",
    "version": 3
   },
   "file_extension": ".py",
   "mimetype": "text/x-python",
   "name": "python",
   "nbconvert_exporter": "python",
   "pygments_lexer": "ipython3",
   "version": "3.8.8"
  }
 },
 "nbformat": 4,
 "nbformat_minor": 5
}
