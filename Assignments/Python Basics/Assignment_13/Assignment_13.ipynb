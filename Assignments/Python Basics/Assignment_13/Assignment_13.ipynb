{
 "cells": [
  {
   "cell_type": "markdown",
   "id": "d8ca2091",
   "metadata": {},
   "source": [
    "1. The advantages of Excel spreadsheets over CSV spreadsheets are as follows:\n",
    "\n",
    "- It is a binary file that holds information about all the worksheets in a workbook\n",
    "- An Excel not only stores data but can also do operations on the data\n",
    "- Files saved in excel cannot be opened or edited by text editors\n",
    "- Additional functions like selecting individual cells for import, convert dates and time automatically, reading formulas and their results, filters, sorting, etc can be executed in Excel\n",
    "- Apart from text, data can also be stored in form of charts and graphs\n",
    "- Excel can connect to external data sources to fetch data."
   ]
  },
  {
   "cell_type": "markdown",
   "id": "e8c12ad8",
   "metadata": {},
   "source": [
    "2. A file object is passed csv.reader() and csv.writer(), which is obtained from a call to open()."
   ]
  },
  {
   "cell_type": "markdown",
   "id": "e5ec5f62",
   "metadata": {},
   "source": [
    "3. File objects need to be opened in read-binary ('rb') for Reader objects and write-binary ('wb') for Writer objects."
   ]
  },
  {
   "cell_type": "markdown",
   "id": "7e8d64e3",
   "metadata": {},
   "source": [
    "4. writerow() method is used to take a list argument and write it to a CSV file."
   ]
  },
  {
   "cell_type": "markdown",
   "id": "ca24328e",
   "metadata": {},
   "source": [
    "5. Delimiter argument changes the string used to separate cells in a row, whereas line terminator argument changes the string used to separate rows."
   ]
  },
  {
   "cell_type": "markdown",
   "id": "ab7790ea",
   "metadata": {},
   "source": [
    "6. json.loads()"
   ]
  },
  {
   "cell_type": "markdown",
   "id": "49ac506c",
   "metadata": {},
   "source": [
    "7. json.dumps()"
   ]
  },
  {
   "cell_type": "code",
   "execution_count": null,
   "id": "eaae9912",
   "metadata": {},
   "outputs": [],
   "source": []
  }
 ],
 "metadata": {
  "kernelspec": {
   "display_name": "Python 3",
   "language": "python",
   "name": "python3"
  },
  "language_info": {
   "codemirror_mode": {
    "name": "ipython",
    "version": 3
   },
   "file_extension": ".py",
   "mimetype": "text/x-python",
   "name": "python",
   "nbconvert_exporter": "python",
   "pygments_lexer": "ipython3",
   "version": "3.8.8"
  }
 },
 "nbformat": 4,
 "nbformat_minor": 5
}
