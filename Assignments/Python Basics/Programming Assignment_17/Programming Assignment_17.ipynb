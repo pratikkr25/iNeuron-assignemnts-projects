{
 "cells": [
  {
   "cell_type": "markdown",
   "id": "bca2b224",
   "metadata": {},
   "source": [
    "__Question 1__ \n",
    "\n",
    "Create a function that takes three arguments a, b, c and returns the sum of the numbers that are evenly divided by c from the range a, b inclusive."
   ]
  },
  {
   "cell_type": "code",
   "execution_count": 3,
   "id": "08532a55",
   "metadata": {},
   "outputs": [
    {
     "name": "stdout",
     "output_type": "stream",
     "text": [
      "Enter the value of a : 1\n",
      "Enter the value of b : 10\n",
      "Enter the value of c : 3\n",
      "18\n"
     ]
    }
   ],
   "source": [
    "def evenly_divisible(a, b, c):     \n",
    "    sum = 0\n",
    "    for i in range(a, b + 1): \n",
    "        if (i % c == 0):\n",
    "            sum += i \n",
    "    return sum\n",
    "\n",
    "a = int(input('Enter the value of a : '))\n",
    "b = int(input('Enter the value of b : '))\n",
    "c = int(input('Enter the value of c : '))\n",
    "print(evenly_divisible(a, b, c))"
   ]
  },
  {
   "cell_type": "markdown",
   "id": "00f2aa0f",
   "metadata": {},
   "source": [
    "__Question 2__\n",
    "\n",
    "Create a function that returns True if a given inequality expression is correct and False otherwise."
   ]
  },
  {
   "cell_type": "code",
   "execution_count": 5,
   "id": "7b209174",
   "metadata": {},
   "outputs": [
    {
     "name": "stdout",
     "output_type": "stream",
     "text": [
      "Enter the inequality expression: 3<7<11\n",
      "3<7<11:  True\n"
     ]
    }
   ],
   "source": [
    "def correct_signs():\n",
    "    inputStr = input('Enter the inequality expression: ')\n",
    "    output = eval(inputStr)\n",
    "    print(f'{inputStr}:  {output}')\n",
    "\n",
    "\n",
    "correct_signs()"
   ]
  },
  {
   "cell_type": "markdown",
   "id": "d8c49ce8",
   "metadata": {},
   "source": [
    "__Question 3__\n",
    "\n",
    "Create a function that replaces all the vowels in a string with a specified character."
   ]
  },
  {
   "cell_type": "code",
   "execution_count": 6,
   "id": "5ee735bc",
   "metadata": {},
   "outputs": [
    {
     "name": "stdout",
     "output_type": "stream",
     "text": [
      "Enter the String: minnie mouse\n",
      "Enter the vowel replacing character: ?\n",
      "\n",
      "Given Sting: minnie mouse\n",
      "Afer replacing vowels with the specified character: m?nn?? m??s?\n"
     ]
    }
   ],
   "source": [
    "def replace_vowels(str, s):\n",
    "    vowels = 'AEIOUaeiou'\n",
    "    for ele in vowels:  \n",
    "        str = str.replace(ele, s)  \n",
    "    return str\n",
    "  \n",
    "inputStr = input(\"Enter the String: \")\n",
    "s = input(\"Enter the vowel replacing character: \")\n",
    "\n",
    "print(\"\\nGiven Sting:\", inputStr)\n",
    "print(\"Afer replacing vowels with the specified character:\",replace_vowels(inputStr, s))"
   ]
  },
  {
   "cell_type": "markdown",
   "id": "c6b93b02",
   "metadata": {},
   "source": [
    "__Question 4__\n",
    "\n",
    "Write a function that calculates the factorial of a number recursively."
   ]
  },
  {
   "cell_type": "code",
   "execution_count": 7,
   "id": "faeb49c5",
   "metadata": {},
   "outputs": [
    {
     "name": "stdout",
     "output_type": "stream",
     "text": [
      "Enter the Number :5\n",
      "Factorial of 5 is 120\n"
     ]
    }
   ],
   "source": [
    "def factorial(n):     \n",
    "    if n == 0:\n",
    "        return 1    \n",
    "    return n * factorial(n-1)\n",
    "\n",
    "num = int(input('Enter the Number :'))\n",
    "print(\"Factorial of\", num, \"is\", factorial(num))"
   ]
  },
  {
   "cell_type": "markdown",
   "id": "ce709fe6",
   "metadata": {},
   "source": [
    "__Question 5__\n",
    "\n",
    "Hamming distance is the number of characters that differ between two strings.\n",
    "To illustrate:\n",
    "String1: \"abcbba\"\n",
    "String2: \"abcbda\"\n",
    "\n",
    "Hamming Distance: 1 - \"b\" vs. \"d\" is the only difference.\n",
    "Create a function that computes the hamming distance between two strings."
   ]
  },
  {
   "cell_type": "code",
   "execution_count": 8,
   "id": "41b923fa",
   "metadata": {},
   "outputs": [
    {
     "name": "stdout",
     "output_type": "stream",
     "text": [
      "Enter the String_1: abcde\n",
      "Enter the String_2: bcdef\n",
      "Hamning Distance b/w abcde and bcdef ➞ 5\n"
     ]
    }
   ],
   "source": [
    "def hamDistance():\n",
    "    string_1 = input('Enter the String_1: ')\n",
    "    string_2 = input('Enter the String_2: ')\n",
    "    if len(string_1) == len(string_2):\n",
    "        count = 0\n",
    "        for i in range(len(string_1)):\n",
    "            if string_1[i] != string_2[i]:\n",
    "                count = count+1\n",
    "        print(f'Hamning Distance b/w {string_1} and {string_2} ➞ {count}')\n",
    "    else:\n",
    "        print(\"Strings aren't of Same Length\")\n",
    "\n",
    "hamDistance()"
   ]
  },
  {
   "cell_type": "code",
   "execution_count": null,
   "id": "5fac26ca",
   "metadata": {},
   "outputs": [],
   "source": []
  }
 ],
 "metadata": {
  "kernelspec": {
   "display_name": "Python 3",
   "language": "python",
   "name": "python3"
  },
  "language_info": {
   "codemirror_mode": {
    "name": "ipython",
    "version": 3
   },
   "file_extension": ".py",
   "mimetype": "text/x-python",
   "name": "python",
   "nbconvert_exporter": "python",
   "pygments_lexer": "ipython3",
   "version": "3.8.8"
  }
 },
 "nbformat": 4,
 "nbformat_minor": 5
}
