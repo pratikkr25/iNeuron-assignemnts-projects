{
 "cells": [
  {
   "cell_type": "markdown",
   "id": "a386c452",
   "metadata": {},
   "source": [
    "1. assert spam >= 0, 'The variable spam is a negative integer.'"
   ]
  },
  {
   "cell_type": "markdown",
   "id": "b52ad7c0",
   "metadata": {},
   "source": [
    "2. assert eggs.lower() != bacon.lower(), 'The eggs and bacon variables are the same.'"
   ]
  },
  {
   "cell_type": "markdown",
   "id": "001f9fba",
   "metadata": {},
   "source": [
    "3. assert True, 'Always throws an AssertionError.'"
   ]
  },
  {
   "cell_type": "markdown",
   "id": "73cb517a",
   "metadata": {},
   "source": [
    "4. The lines are:\n",
    "\n",
    "import logging\n",
    "logging.basicConfig(level=logging.DEBUG, format=' %(asctime)s -\n",
    "%(levelname)s - %(message)s')"
   ]
  },
  {
   "cell_type": "markdown",
   "id": "645f6406",
   "metadata": {},
   "source": [
    "5. The lines are:\n",
    "\n",
    "import logging\n",
    "logging.basicConfig(filename='programLog.txt', level=logging.DEBUG,\n",
    "format=' %(asctime)s - %(levelname)s - %(message)s')"
   ]
  },
  {
   "cell_type": "markdown",
   "id": "62ff87db",
   "metadata": {},
   "source": [
    "6.The five levels of logging are: DEBUG, INFO, WARNING, ERROR, and CRITICAL"
   ]
  },
  {
   "cell_type": "markdown",
   "id": "80f093de",
   "metadata": {},
   "source": [
    "7. logging.disable(logging.CRITICAL)"
   ]
  },
  {
   "cell_type": "markdown",
   "id": "383087be",
   "metadata": {},
   "source": [
    "8. With print, even when the program is ready for production, we still have to remove or comment it out. But while logging message, you can toggle the setting on/off or write to a file and it is more flexible."
   ]
  },
  {
   "cell_type": "markdown",
   "id": "089188f7",
   "metadata": {},
   "source": [
    "9. The differences are as follows:\n",
    "\n",
    "Step Over: This command lets the application execute the next action.\n",
    "Step Into: This command lets the application execute the next action.\n",
    "Step Out: This command lets the application execute until the currently executed operation implementation is returned."
   ]
  },
  {
   "cell_type": "markdown",
   "id": "63814d4a",
   "metadata": {},
   "source": [
    "10. It stops when a breakpoint is occured."
   ]
  },
  {
   "cell_type": "markdown",
   "id": "507a7428",
   "metadata": {},
   "source": [
    "11. A breakpoint is a line of code that causes the debugger to pause when the program execution reaches the line."
   ]
  }
 ],
 "metadata": {
  "kernelspec": {
   "display_name": "Python 3",
   "language": "python",
   "name": "python3"
  },
  "language_info": {
   "codemirror_mode": {
    "name": "ipython",
    "version": 3
   },
   "file_extension": ".py",
   "mimetype": "text/x-python",
   "name": "python",
   "nbconvert_exporter": "python",
   "pygments_lexer": "ipython3",
   "version": "3.8.8"
  }
 },
 "nbformat": 4,
 "nbformat_minor": 5
}
