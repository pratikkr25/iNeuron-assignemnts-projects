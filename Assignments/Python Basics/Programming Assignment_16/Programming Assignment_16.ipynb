{
 "cells": [
  {
   "cell_type": "markdown",
   "id": "1071e258",
   "metadata": {},
   "source": [
    "__Question 1__\n",
    "\n",
    "Write a function that stutters a word as if someone is struggling to read it. The first two letters are repeated twice with an ellipsis `...` and space after each, and then the word is pronounced with a question mark `?`."
   ]
  },
  {
   "cell_type": "code",
   "execution_count": 1,
   "id": "263332e2",
   "metadata": {},
   "outputs": [
    {
     "name": "stdout",
     "output_type": "stream",
     "text": [
      "Enter the word: incredible\n",
      "in... in... incredible?\n"
     ]
    }
   ],
   "source": [
    "def stutter(word):\n",
    "    return (2*(word[:2]+'... '))+word+'?'\n",
    "\n",
    "inputWord = input('Enter the word: ')\n",
    "print(stutter(inputWord))"
   ]
  },
  {
   "cell_type": "markdown",
   "id": "b5066a39",
   "metadata": {},
   "source": [
    "__Question 2__\n",
    "\n",
    "Create a function that takes an angle in radians and returns the corresponding angle in degrees rounded to one decimal place."
   ]
  },
  {
   "cell_type": "code",
   "execution_count": 2,
   "id": "b54e8235",
   "metadata": {},
   "outputs": [
    {
     "name": "stdout",
     "output_type": "stream",
     "text": [
      "Enter the Radian : 1\n",
      "degree = 57.295827908797776\n"
     ]
    }
   ],
   "source": [
    "def radiansToDegrees(radian):\n",
    "    pi = 3.14159\n",
    "    degree = radian * (180/pi)\n",
    "    return degree\n",
    "\n",
    "radian = float(input('Enter the Radian : '))\n",
    "print(\"degree =\",(radiansToDegrees(radian)))"
   ]
  },
  {
   "cell_type": "markdown",
   "id": "4694e243",
   "metadata": {},
   "source": [
    "__Question 3__\n",
    "\n",
    "In this challenge, establish if a given integer num is a Curzon number. If 1 plus 2 elevated to num is exactly divisible by 1 plus 2 multiplied by num, then num is a Curzon number.\n",
    "Given a non-negative integer num, implement a function that returns True if num is a Curzon number, or False otherwise."
   ]
  },
  {
   "cell_type": "code",
   "execution_count": 3,
   "id": "7d108c59",
   "metadata": {},
   "outputs": [
    {
     "name": "stdout",
     "output_type": "stream",
     "text": [
      "Enter the number : 14\n",
      "14 is Curzon Number\n"
     ]
    }
   ],
   "source": [
    "def CurzonNumber(n):\n",
    " \n",
    "    power, product = 0, 0\n",
    " \n",
    "    power = pow(2, n) + 1\n",
    "\n",
    "    product = 2 * n + 1\n",
    " \n",
    "    # Checking divisibility\n",
    "    if (power % product == 0):\n",
    "        print(n, \"is Curzon Number\")\n",
    "    else:\n",
    "        print(n, \"is not a Curzon Number\")\n",
    "        \n",
    "n = int(input('Enter the number : '))\n",
    "CurzonNumber(n)"
   ]
  },
  {
   "cell_type": "markdown",
   "id": "7cdae8f7",
   "metadata": {},
   "source": [
    "__Question 4__\n",
    "\n",
    "Given the side length x find the area of a hexagon."
   ]
  },
  {
   "cell_type": "code",
   "execution_count": 5,
   "id": "87ed43f8",
   "metadata": {},
   "outputs": [
    {
     "name": "stdout",
     "output_type": "stream",
     "text": [
      "Enter the length of Hexagon: 2\n",
      "Area of Hexagon: 10.39\n"
     ]
    }
   ],
   "source": [
    "import math\n",
    "def areaHexagon(s):     \n",
    "    return ((3 * math.sqrt(3) * (s * s)) / 2);\n",
    "     \n",
    "\n",
    "length = float(input('Enter the length of Hexagon: '))\n",
    "print(\"Area of Hexagon:\",\"{0:.2f}\".format(areaHexagon(length)))"
   ]
  },
  {
   "cell_type": "markdown",
   "id": "0165bd14",
   "metadata": {},
   "source": [
    "__Question 5__\n",
    "\n",
    "Create a function that returns a base-2 (binary) representation of a base-10 (decimal) string number. To convert is simple: ((2) means base-2 and (10) means base-10) 010101001(2) = 1 + 8 + 32 + 128.\n",
    "\n",
    "\n",
    "Going from right to left, the value of the most right bit is 1, now from that every bit to the left will be x2 the value, value of an 8 bit binary numbers are (256, 128, 64, 32, 16, 8, 4, 2, 1)."
   ]
  },
  {
   "cell_type": "code",
   "execution_count": 6,
   "id": "0b60daa3",
   "metadata": {},
   "outputs": [
    {
     "name": "stdout",
     "output_type": "stream",
     "text": [
      "Enter a Number: 2\n",
      "Binary of 2 is: 10\n",
      "Enter a Number: 10\n",
      "Binary of 10 is: 1010\n",
      "Enter a Number: 20\n",
      "Binary of 20 is: 10100\n"
     ]
    }
   ],
   "source": [
    "def getBinary():\n",
    "    in_num = int(input(\"Enter a Number: \"))\n",
    "    out_num = bin(in_num).replace('0b','') \n",
    "    print(f'Binary of {in_num} is: {out_num}')\n",
    "\n",
    "for x in range(3):\n",
    "    getBinary()"
   ]
  },
  {
   "cell_type": "code",
   "execution_count": null,
   "id": "3c2c2d6c",
   "metadata": {},
   "outputs": [],
   "source": []
  }
 ],
 "metadata": {
  "kernelspec": {
   "display_name": "Python 3",
   "language": "python",
   "name": "python3"
  },
  "language_info": {
   "codemirror_mode": {
    "name": "ipython",
    "version": 3
   },
   "file_extension": ".py",
   "mimetype": "text/x-python",
   "name": "python",
   "nbconvert_exporter": "python",
   "pygments_lexer": "ipython3",
   "version": "3.8.8"
  }
 },
 "nbformat": 4,
 "nbformat_minor": 5
}
