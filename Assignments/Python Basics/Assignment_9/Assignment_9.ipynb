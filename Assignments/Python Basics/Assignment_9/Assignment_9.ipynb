{
 "cells": [
  {
   "cell_type": "markdown",
   "id": "f547b59c",
   "metadata": {},
   "source": [
    "1. A relative path refers to the location of a file relative to the current working directory."
   ]
  },
  {
   "cell_type": "markdown",
   "id": "f77f8a5d",
   "metadata": {},
   "source": [
    "2. Hard Drive"
   ]
  },
  {
   "cell_type": "markdown",
   "id": "c10a71f0",
   "metadata": {},
   "source": [
    "3. os.getcwd() returns the current working directory, whereas os.chdir() is used to change the current working directory to a specified path."
   ]
  },
  {
   "cell_type": "markdown",
   "id": "dd490df4",
   "metadata": {},
   "source": [
    "4. . represents the current folder whereas .. represents the parent folder."
   ]
  },
  {
   "cell_type": "markdown",
   "id": "4be7ba6f",
   "metadata": {},
   "source": [
    "5. Here, C:\\bacon\\eggs is the dir name, and spam. txt is the base name."
   ]
  },
  {
   "cell_type": "markdown",
   "id": "5938971d",
   "metadata": {},
   "source": [
    "6. The modes are, 'r' for read mode, 'w' for write mode, and 'a' for append mode."
   ]
  },
  {
   "cell_type": "markdown",
   "id": "10ede891",
   "metadata": {},
   "source": [
    "7. If an existing file opened in write mode, it will be completely erased and overwritten."
   ]
  },
  {
   "cell_type": "markdown",
   "id": "b15eda6b",
   "metadata": {},
   "source": [
    "8. The difference is, read() returns the file's entire contents as a single string value, whereas readlines() returns a list of strings, where each string is a line from the file's contents."
   ]
  },
  {
   "cell_type": "markdown",
   "id": "b4db3930",
   "metadata": {},
   "source": [
    "9. Dictionary"
   ]
  },
  {
   "cell_type": "code",
   "execution_count": null,
   "id": "32c1917d",
   "metadata": {},
   "outputs": [],
   "source": []
  }
 ],
 "metadata": {
  "kernelspec": {
   "display_name": "Python 3",
   "language": "python",
   "name": "python3"
  },
  "language_info": {
   "codemirror_mode": {
    "name": "ipython",
    "version": 3
   },
   "file_extension": ".py",
   "mimetype": "text/x-python",
   "name": "python",
   "nbconvert_exporter": "python",
   "pygments_lexer": "ipython3",
   "version": "3.8.8"
  }
 },
 "nbformat": 4,
 "nbformat_minor": 5
}
