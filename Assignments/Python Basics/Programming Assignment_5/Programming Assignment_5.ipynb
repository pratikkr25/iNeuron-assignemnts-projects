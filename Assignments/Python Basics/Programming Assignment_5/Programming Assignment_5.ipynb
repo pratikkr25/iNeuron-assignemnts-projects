{
 "cells": [
  {
   "cell_type": "code",
   "execution_count": 1,
   "id": "9c3c6913",
   "metadata": {},
   "outputs": [
    {
     "name": "stdout",
     "output_type": "stream",
     "text": [
      "Enter first number: 6\n",
      "Enter second number: 8\n",
      "The L.C.M. of 6 and 8 is 24\n"
     ]
    }
   ],
   "source": [
    "#1. Find LCM\n",
    "\n",
    "def lcm(x, y):   \n",
    "    if x > y:  \n",
    "        greater = x  \n",
    "    else:  \n",
    "        greater = y  \n",
    "    while(True):  \n",
    "        if((greater % x == 0) and (greater % y == 0)):  \n",
    "            lcm = greater  \n",
    "            break  \n",
    "        greater += 1  \n",
    "    return lcm    \n",
    "   \n",
    "num1 = int(input(\"Enter first number: \"))  \n",
    "num2 = int(input(\"Enter second number: \"))  \n",
    "print(\"The L.C.M. of\", num1,\"and\", num2,\"is\", lcm(num1, num2))  "
   ]
  },
  {
   "cell_type": "code",
   "execution_count": 2,
   "id": "74cecb4a",
   "metadata": {},
   "outputs": [
    {
     "name": "stdout",
     "output_type": "stream",
     "text": [
      "Enter first number: 24\n",
      "Enter second number: 36\n",
      "The H.C.F. of 24 and 36 is 12\n"
     ]
    }
   ],
   "source": [
    "#2. Find HCF\n",
    "\n",
    "def hcf(x, y):   \n",
    "    if x > y:  \n",
    "        smaller = y  \n",
    "    else:  \n",
    "        smaller = x  \n",
    "    for i in range(1,smaller + 1):  \n",
    "        if((x % i == 0) and (y % i == 0)):  \n",
    "            hcf = i  \n",
    "    return hcf  \n",
    "  \n",
    "num1 = int(input(\"Enter first number: \"))  \n",
    "num2 = int(input(\"Enter second number: \"))  \n",
    "print(\"The H.C.F. of\", num1,\"and\", num2,\"is\", hcf(num1, num2))  "
   ]
  },
  {
   "cell_type": "code",
   "execution_count": 3,
   "id": "1fb14185",
   "metadata": {},
   "outputs": [
    {
     "name": "stdout",
     "output_type": "stream",
     "text": [
      "Enter a Number: 8\n",
      "Binary Number: 0b1000\n",
      "Octal Number: 0o10\n",
      "Hexadecimal Number: 0x8\n"
     ]
    }
   ],
   "source": [
    "#3. Convert Decimal to Binary, Octal and Hexadecimal\n",
    "\n",
    "def ConvertDecimal():\n",
    "    num = int(input('Enter a Number: '))\n",
    "    print(f'Binary Number: {bin(num)}')\n",
    "    print(f'Octal Number: {oct(num)}')    \n",
    "    print(f'Hexadecimal Number: {hex(num)}')    \n",
    "\n",
    "ConvertDecimal()"
   ]
  },
  {
   "cell_type": "code",
   "execution_count": 4,
   "id": "df5a5bb8",
   "metadata": {},
   "outputs": [
    {
     "name": "stdout",
     "output_type": "stream",
     "text": [
      "Enter a Character: A\n",
      "Ascii Character of A is 65\n"
     ]
    }
   ],
   "source": [
    "#4. Find ASCII value of a character\n",
    "\n",
    "def charToAscii():\n",
    "    char = input('Enter a Character: ')\n",
    "    if len(char) > 1:\n",
    "        print('Please Enter a Single Character')\n",
    "    else:\n",
    "        print(f'Ascii Character of {char} is {ord(char)}')\n",
    "\n",
    "charToAscii()"
   ]
  },
  {
   "cell_type": "code",
   "execution_count": 5,
   "id": "2fcb8a57",
   "metadata": {},
   "outputs": [
    {
     "name": "stdout",
     "output_type": "stream",
     "text": [
      "Select a Mathematical Operation:         \n",
      "1.Addition(+)        \n",
      "2.Division(-)        \n",
      "2.Multiplication(*)        \n",
      "4.Division(/)        \n",
      "3.Stop(0)\n",
      "\n",
      "Enter the mathematical operation -> +\n",
      "\n",
      "Enter 1st Number: 4\n",
      "Enter 2nd Number: 5\n",
      "4+5=9\n",
      "\n",
      "Enter the mathematical operation -> *\n",
      "\n",
      "Enter 1st Number: 3\n",
      "Enter 2nd Number: 6\n",
      "3*6=18\n",
      "\n",
      "Enter the mathematical operation -> -\n",
      "\n",
      "Enter 1st Number: 7\n",
      "Enter 2nd Number: 3\n",
      "7-3=4\n",
      "\n",
      "Enter the mathematical operation -> /\n",
      "\n",
      "Enter 1st Number: 45\n",
      "Enter 2nd Number: 9\n",
      "45/9=5.0\n",
      "\n",
      "Enter the mathematical operation -> 0\n",
      "Calculator Stopped successfully\n"
     ]
    }
   ],
   "source": [
    "#5. Python Program to Make a Simple Calculator with 4 basic mathematical operations\n",
    "\n",
    "import operator\n",
    "\n",
    "ops = { \"+\": operator.add, \"-\": operator.sub, \"*\":operator.mul, \"/\":operator.truediv } \n",
    "\n",
    "print('Select a Mathematical Operation: \\\n",
    "        \\n1.Addition(+)\\\n",
    "        \\n2.Division(-)\\\n",
    "        \\n2.Multiplication(*)\\\n",
    "        \\n4.Division(/)\\\n",
    "        \\n3.Stop(0)\\n')\n",
    "   \n",
    "\n",
    "while True:\n",
    "    operator = input('Enter the mathematical operation -> ')\n",
    "    if operator == '0':\n",
    "        print(\"Calculator Stopped successfully\")\n",
    "        break\n",
    "    elif operator not in ['+','-','*','/']:\n",
    "        print(\"Please enter a valid operator\")\n",
    "    else:\n",
    "        num_1 = int(input('\\nEnter 1st Number: '))\n",
    "        num_2 = int(input('Enter 2nd Number: '))\n",
    "        print(f'{num_1}{operator}{num_2}={ops[operator](num_1,num_2)}\\n')"
   ]
  },
  {
   "cell_type": "code",
   "execution_count": null,
   "id": "55d17424",
   "metadata": {},
   "outputs": [],
   "source": []
  }
 ],
 "metadata": {
  "kernelspec": {
   "display_name": "Python 3",
   "language": "python",
   "name": "python3"
  },
  "language_info": {
   "codemirror_mode": {
    "name": "ipython",
    "version": 3
   },
   "file_extension": ".py",
   "mimetype": "text/x-python",
   "name": "python",
   "nbconvert_exporter": "python",
   "pygments_lexer": "ipython3",
   "version": "3.8.8"
  }
 },
 "nbformat": 4,
 "nbformat_minor": 5
}
