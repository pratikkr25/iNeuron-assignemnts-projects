{
 "cells": [
  {
   "cell_type": "markdown",
   "id": "85c47c93",
   "metadata": {},
   "source": [
    "1. Find words which are greater than given length k"
   ]
  },
  {
   "cell_type": "code",
   "execution_count": 1,
   "id": "0c9674c9",
   "metadata": {},
   "outputs": [
    {
     "name": "stdout",
     "output_type": "stream",
     "text": [
      "Enter the string: The sky is blue \n",
      "Enter the length of the string: 2\n",
      "The, sky, blue\n"
     ]
    }
   ],
   "source": [
    "def checkLengthOfString():\n",
    "    in_string = input(\"Enter the string: \")\n",
    "    in_length = int(input('Enter the length of the string: '))\n",
    "    out_string = []\n",
    "    for string in in_string.split(\" \"):\n",
    "        if len(string) > in_length:\n",
    "            out_string.append(string)\n",
    "    print(', '.join(out_string))\n",
    "\n",
    "checkLengthOfString()"
   ]
  },
  {
   "cell_type": "markdown",
   "id": "4aa2aa6b",
   "metadata": {},
   "source": [
    "2. Remove i-th character from a string"
   ]
  },
  {
   "cell_type": "code",
   "execution_count": 2,
   "id": "63b5f9c8",
   "metadata": {},
   "outputs": [
    {
     "name": "stdout",
     "output_type": "stream",
     "text": [
      "Enter the String: Excitement\n",
      "Enter the location of character you want to remove: 4\n",
      "Exciement\n"
     ]
    }
   ],
   "source": [
    "def removeCharacter():\n",
    "    in_string = input(\"Enter the String: \")\n",
    "    in_char_num = int(input(\"Enter the location of character you want to remove: \"))\n",
    "    out_string = ''\n",
    "    for ele in range(len(in_string)):\n",
    "        if ele != in_char_num:\n",
    "            out_string = out_string + in_string[ele]\n",
    "    print(out_string)\n",
    "    \n",
    "removeCharacter()"
   ]
  },
  {
   "cell_type": "markdown",
   "id": "29b9c575",
   "metadata": {},
   "source": [
    "3. Split and Join a string"
   ]
  },
  {
   "cell_type": "code",
   "execution_count": 3,
   "id": "2f1bfa3c",
   "metadata": {},
   "outputs": [
    {
     "name": "stdout",
     "output_type": "stream",
     "text": [
      "Enter the string: The sky is blue\n",
      "After Spliting String: ['The', 'sky', 'is', 'blue']\n",
      "After Joining String: The sky is blue\n"
     ]
    }
   ],
   "source": [
    "def splitAndJoinString():\n",
    "    in_string = input('Enter the string: ')\n",
    "    print(f\"After Spliting String: {in_string.split(' ')}\")\n",
    "    print(f\"After Joining String: {' '.join(in_string.split(' '))}\")\n",
    "\n",
    "splitAndJoinString()"
   ]
  },
  {
   "cell_type": "markdown",
   "id": "0ff87b00",
   "metadata": {},
   "source": [
    "4. Check if a given string is binary string or not"
   ]
  },
  {
   "cell_type": "code",
   "execution_count": 5,
   "id": "db6ed104",
   "metadata": {},
   "outputs": [
    {
     "name": "stdout",
     "output_type": "stream",
     "text": [
      "Enter the string: 10101\n",
      "10101 is a binary string\n",
      "Enter the string: 24563\n",
      "24563 is not a binary string\n",
      "Enter the string: 20202\n",
      "20202 is not a binary string\n"
     ]
    }
   ],
   "source": [
    "def checkBinary():\n",
    "    in_string = input('Enter the string: ')\n",
    "    stun = 0\n",
    "    for ele in in_string:\n",
    "        if ele in ['0','1']:\n",
    "            stun = 1\n",
    "            continue\n",
    "        else:\n",
    "            stun = 0\n",
    "            break\n",
    "    statement = 'is a binary string' if stun == 1 else 'is not a binary string' \n",
    "    print(f'{in_string} {statement}')\n",
    "\n",
    "checkBinary()\n",
    "checkBinary()\n",
    "checkBinary()"
   ]
  },
  {
   "cell_type": "markdown",
   "id": "2a0351bb",
   "metadata": {},
   "source": [
    "5. Find uncommon words from two Strings"
   ]
  },
  {
   "cell_type": "code",
   "execution_count": 6,
   "id": "09d2855b",
   "metadata": {},
   "outputs": [
    {
     "name": "stdout",
     "output_type": "stream",
     "text": [
      "Enter the String 1: The sky looks beautiful\n",
      "Enter the String 2: Sunset paints the beautiful sky\n",
      "{'paints', 'The', 'Sunset', 'the', 'looks'}\n"
     ]
    }
   ],
   "source": [
    "def unCommonWords():\n",
    "    in_string_1 = set(input(\"Enter the String 1: \").split(' '))\n",
    "    in_string_2 = set(input(\"Enter the String 2: \").split(' '))\n",
    "    out_string = (in_string_1.union(in_string_2)).difference(in_string_1.intersection(in_string_2))\n",
    "    print(out_string)\n",
    "\n",
    "unCommonWords()"
   ]
  },
  {
   "cell_type": "markdown",
   "id": "17145860",
   "metadata": {},
   "source": [
    "6. Find all duplicate characters in string"
   ]
  },
  {
   "cell_type": "code",
   "execution_count": 7,
   "id": "549a6505",
   "metadata": {},
   "outputs": [
    {
     "name": "stdout",
     "output_type": "stream",
     "text": [
      "Enter the string: Data Science\n",
      "Duplicate characters are: ['e', 'a', 'c']\n"
     ]
    }
   ],
   "source": [
    "def duplicateChars():\n",
    "    in_string = input('Enter the string: ')\n",
    "    non_duplicate_list = []\n",
    "    duplicate_list = []\n",
    "    for ele in in_string:\n",
    "        if ele not in non_duplicate_list:\n",
    "            non_duplicate_list.append(ele)\n",
    "        else:\n",
    "            duplicate_list.append(ele)\n",
    "    print(f'Duplicate characters are: {list(set(duplicate_list))}')\n",
    "        \n",
    "duplicateChars()"
   ]
  },
  {
   "cell_type": "markdown",
   "id": "80f8a2fc",
   "metadata": {},
   "source": [
    "7. Check if a string contains any special character"
   ]
  },
  {
   "cell_type": "code",
   "execution_count": 8,
   "id": "87d896e6",
   "metadata": {},
   "outputs": [
    {
     "name": "stdout",
     "output_type": "stream",
     "text": [
      "Enter the string: Bdfowv2#ou\n",
      "There are 1 Speical Characters in Bdfowv2#ou which are ['#']\n",
      "Enter the string: @qoe,BHY TU%c\n",
      "There are 2 Speical Characters in @qoe,BHY TU%c which are ['@', '%']\n"
     ]
    }
   ],
   "source": [
    "def checkSpecialChar():\n",
    "    spl_chars = '[@_!#$%^&*()<>?/\\|}{~:]'\n",
    "    in_num = input('Enter the string: ')\n",
    "    count = 0\n",
    "    char_list = []\n",
    "    for ele in in_num:\n",
    "        if ele in spl_chars:\n",
    "            char_list.append(ele)\n",
    "            count = count+1\n",
    "    print(f'There are {count} Speical Characters in {in_num} which are {char_list}')\n",
    "            \n",
    "        \n",
    "checkSpecialChar()\n",
    "checkSpecialChar()"
   ]
  },
  {
   "cell_type": "code",
   "execution_count": null,
   "id": "a8612308",
   "metadata": {},
   "outputs": [],
   "source": []
  }
 ],
 "metadata": {
  "kernelspec": {
   "display_name": "Python 3",
   "language": "python",
   "name": "python3"
  },
  "language_info": {
   "codemirror_mode": {
    "name": "ipython",
    "version": 3
   },
   "file_extension": ".py",
   "mimetype": "text/x-python",
   "name": "python",
   "nbconvert_exporter": "python",
   "pygments_lexer": "ipython3",
   "version": "3.8.8"
  }
 },
 "nbformat": 4,
 "nbformat_minor": 5
}
