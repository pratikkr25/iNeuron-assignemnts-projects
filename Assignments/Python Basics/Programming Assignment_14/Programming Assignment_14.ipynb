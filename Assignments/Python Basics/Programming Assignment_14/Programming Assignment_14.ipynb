{
 "cells": [
  {
   "cell_type": "markdown",
   "id": "50ec3957",
   "metadata": {},
   "source": [
    "__Question 1__\n",
    "\n",
    "Define a class with a generator which can iterate the numbers, which are divisible by 7, between a given range 0 and n."
   ]
  },
  {
   "cell_type": "code",
   "execution_count": 2,
   "id": "f18d28e9",
   "metadata": {},
   "outputs": [
    {
     "name": "stdout",
     "output_type": "stream",
     "text": [
      "0 7 14 21 28 35 42 49 56 63 70 77 84 91 98 "
     ]
    }
   ],
   "source": [
    "class divGenerator:\n",
    "    def __init__(self,num):\n",
    "        self.num = num\n",
    "\n",
    "    def get_numbers(self):\n",
    "        for ele in range(0, self.num+1):\n",
    "            if ele % 7 == 0:\n",
    "                yield ele\n",
    "                \n",
    "output = divGenerator(100)\n",
    "for ele in output.get_numbers():\n",
    "    print(ele, end=' ')"
   ]
  },
  {
   "cell_type": "markdown",
   "id": "860fd599",
   "metadata": {},
   "source": [
    "__Question 2__\n",
    "\n",
    "Write a program to compute the frequency of the words from the input. The output should output after sorting the key alphanumerically. \n",
    "\n",
    "Suppose the following input is supplied to the program:\n",
    "\n",
    "`New to Python or choosing between Python 2 and Python 3? Read Python 2 or Python 3.`\n",
    "\n",
    "Then, the output should be:\n",
    "\n",
    "2:2\n",
    "\n",
    "3.:1\n",
    "\n",
    "3?:1\n",
    "\n",
    "New:1\n",
    "\n",
    "Python:5\n",
    "\n",
    "Read:1\n",
    "\n",
    "and:1\n",
    "\n",
    "between:1\n",
    "\n",
    "choosing:1\n",
    "\n",
    "or:2\n",
    "\n",
    "to:1"
   ]
  },
  {
   "cell_type": "code",
   "execution_count": 4,
   "id": "18ff62b9",
   "metadata": {},
   "outputs": [
    {
     "name": "stdout",
     "output_type": "stream",
     "text": [
      "Enter the sentence: New to Python or choosing between Python 2 and Python 3? Read Python 2 or Python 3.\n",
      "2:2\n",
      "3.:1\n",
      "3?:1\n",
      "New:1\n",
      "Python:5\n",
      "Read:1\n",
      "and:1\n",
      "between:1\n",
      "choosing:1\n",
      "or:2\n",
      "to:1\n"
     ]
    }
   ],
   "source": [
    "sentence = input('Enter the sentence: ').split()\n",
    "word = sorted(set(sentence))  \n",
    "\n",
    "for i in word:\n",
    "    print(\"{0}:{1}\".format(i, sentence.count(i)))"
   ]
  },
  {
   "cell_type": "markdown",
   "id": "f3164329",
   "metadata": {},
   "source": [
    "__Question 3__\n",
    "\n",
    "Define a class Person and its two child classes: Male and Female. All classes have a method \"getGender\" which can print \"Male\" for Male class and \"Female\" for Female class."
   ]
  },
  {
   "cell_type": "code",
   "execution_count": 8,
   "id": "aad7ce29",
   "metadata": {},
   "outputs": [
    {
     "name": "stdout",
     "output_type": "stream",
     "text": [
      "Male\n",
      "Female\n"
     ]
    }
   ],
   "source": [
    "class Person:\n",
    "    def getGender():\n",
    "        pass\n",
    "    \n",
    "class Male(Person):\n",
    "    def getGender():\n",
    "        print(\"Male\")\n",
    "        \n",
    "class Female(Person):\n",
    "    def getGender():\n",
    "        print(\"Female\")\n",
    "\n",
    "Male.getGender()\n",
    "Female.getGender()"
   ]
  },
  {
   "cell_type": "markdown",
   "id": "78e50496",
   "metadata": {},
   "source": [
    "__Question 4__\n",
    "\n",
    "Please write a program to generate all sentences where subject is in `[\"I\", \"You\"]` and verb is in `[\"Play\", \"Love\"]` and the object is in `[\"Hockey\",\"Football\"]`."
   ]
  },
  {
   "cell_type": "code",
   "execution_count": 9,
   "id": "7043587a",
   "metadata": {},
   "outputs": [
    {
     "name": "stdout",
     "output_type": "stream",
     "text": [
      "I Play Hockey\n",
      "I Play Football\n",
      "I Love Hockey\n",
      "I Love Football\n",
      "You Play Hockey\n",
      "You Play Football\n",
      "You Love Hockey\n",
      "You Love Football\n"
     ]
    }
   ],
   "source": [
    "subject = [\"I\", \"You\"]\n",
    "verb = [\"Play\", \"Love\"]\n",
    "obj = [\"Hockey\",\"Football\"]\n",
    "\n",
    "\n",
    "str_list = [(sub+\" \"+ v + \" \" + ob) for sub in subject for v in verb for ob in obj]\n",
    "for sentence in str_list:\n",
    "    print(sentence)"
   ]
  },
  {
   "cell_type": "markdown",
   "id": "609149e4",
   "metadata": {},
   "source": [
    "__Question 5__\n",
    "\n",
    "Please write a program to compress and decompress the string \"hello world!hello world!hello world!hello world!\"."
   ]
  },
  {
   "cell_type": "code",
   "execution_count": 10,
   "id": "3da1d51c",
   "metadata": {},
   "outputs": [
    {
     "name": "stdout",
     "output_type": "stream",
     "text": [
      "hel2o world!hel2o world!hel2o world!hel2o world!\n",
      "hello world!hello world!hello world!hello world!\n"
     ]
    }
   ],
   "source": [
    "def compress(inputStr):\n",
    "    output = inputStr[0]\n",
    "    count = 1\n",
    "    for ele in range(len(inputStr)-1):\n",
    "        if inputStr[ele] == inputStr[ele+1]:\n",
    "            count +=1\n",
    "        else:\n",
    "            if count > 1:\n",
    "                output += str(count)\n",
    "            output += inputStr[ele+1]\n",
    "            count = 1\n",
    "    if count > 1:\n",
    "        output += str(count)            \n",
    "    print(output)\n",
    "\n",
    "\n",
    "def decompress(inputStr):\n",
    "    output = ''\n",
    "    for ele in range(len(inputStr)):\n",
    "        if inputStr[ele].isdigit():\n",
    "            output += output[-1]*(int(inputStr[ele])-1)\n",
    "        else:\n",
    "            output += inputStr[ele]\n",
    "    print(output)\n",
    "    \n",
    "        \n",
    "compress(\"hello world!hello world!hello world!hello world!\")\n",
    "decompress(\"hel2o world!hel2o world!hel2o world!hel2o world!\")"
   ]
  },
  {
   "cell_type": "markdown",
   "id": "230b2b26",
   "metadata": {},
   "source": [
    "__Question 6__\n",
    "\n",
    "Please write a binary search function which searches an item in a sorted list. The function should return the index of element to be searched in the list."
   ]
  },
  {
   "cell_type": "code",
   "execution_count": 11,
   "id": "a3226242",
   "metadata": {},
   "outputs": [
    {
     "name": "stdout",
     "output_type": "stream",
     "text": [
      "6\n",
      "The element is not in the list\n"
     ]
    }
   ],
   "source": [
    "sorted_list = [1,2,3,4,5,6,7,8,9,10]\n",
    "\n",
    "def binary_search(input_list,num):\n",
    "    low = 0\n",
    "    high = len(input_list) - 1\n",
    "    while low <= high:\n",
    "        mid = high + low//2\n",
    "        if input_list[mid] < num:\n",
    "            low = mid + 1\n",
    "        elif input_list[mid] > num:\n",
    "            high = mid - 1\n",
    "        else:\n",
    "            return mid\n",
    "    else:\n",
    "        return 'The element is not in the list'\n",
    "    \n",
    "print(binary_search(sorted_list, 7))\n",
    "print(binary_search(sorted_list, 11))"
   ]
  },
  {
   "cell_type": "code",
   "execution_count": null,
   "id": "e1644418",
   "metadata": {},
   "outputs": [],
   "source": []
  }
 ],
 "metadata": {
  "kernelspec": {
   "display_name": "Python 3",
   "language": "python",
   "name": "python3"
  },
  "language_info": {
   "codemirror_mode": {
    "name": "ipython",
    "version": 3
   },
   "file_extension": ".py",
   "mimetype": "text/x-python",
   "name": "python",
   "nbconvert_exporter": "python",
   "pygments_lexer": "ipython3",
   "version": "3.8.8"
  }
 },
 "nbformat": 4,
 "nbformat_minor": 5
}
