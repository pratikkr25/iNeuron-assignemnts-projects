{
 "cells": [
  {
   "cell_type": "markdown",
   "id": "cbee1361",
   "metadata": {},
   "source": [
    "1. Adding the current date to the text file"
   ]
  },
  {
   "cell_type": "code",
   "execution_count": 1,
   "id": "1bd91dd6",
   "metadata": {},
   "outputs": [],
   "source": [
    "import datetime\n",
    "from datetime import date\n",
    "now = date.today()\n",
    "cur_date = now.isoformat()\n",
    "\n",
    "with open('today.txt','w') as file:\n",
    "    file.write(cur_date)"
   ]
  },
  {
   "cell_type": "markdown",
   "id": "66e0843d",
   "metadata": {},
   "source": [
    "2. Reading the text file"
   ]
  },
  {
   "cell_type": "code",
   "execution_count": 2,
   "id": "db18fd79",
   "metadata": {},
   "outputs": [
    {
     "data": {
      "text/plain": [
       "'2023-07-20'"
      ]
     },
     "execution_count": 2,
     "metadata": {},
     "output_type": "execute_result"
    }
   ],
   "source": [
    "with open('today.txt','r') as file:\n",
    "    today_string = file.read()\n",
    "today_string"
   ]
  },
  {
   "cell_type": "markdown",
   "id": "d3796da0",
   "metadata": {},
   "source": [
    "3. Parsing the date from today_string"
   ]
  },
  {
   "cell_type": "code",
   "execution_count": 3,
   "id": "c2949f0c",
   "metadata": {},
   "outputs": [
    {
     "data": {
      "text/plain": [
       "datetime.datetime(2023, 7, 20, 0, 0)"
      ]
     },
     "execution_count": 3,
     "metadata": {},
     "output_type": "execute_result"
    }
   ],
   "source": [
    "from datetime import datetime\n",
    "format = '%Y-%m-%d'\n",
    "datetime.strptime(today_string,format)"
   ]
  },
  {
   "cell_type": "markdown",
   "id": "db44b81a",
   "metadata": {},
   "source": [
    "4. List the files in your current directory"
   ]
  },
  {
   "cell_type": "code",
   "execution_count": 4,
   "id": "b5ddaead",
   "metadata": {},
   "outputs": [
    {
     "data": {
      "text/plain": [
       "['.ipynb_checkpoints',\n",
       " 'Assignment_1.ipynb',\n",
       " 'Assignment_10.docx',\n",
       " 'Assignment_10.ipynb',\n",
       " 'Assignment_11.ipynb',\n",
       " 'Assignment_12.docx',\n",
       " 'Assignment_12.ipynb',\n",
       " 'Assignment_13.docx',\n",
       " 'Assignment_13.ipynb',\n",
       " 'Assignment_14.docx',\n",
       " 'Assignment_14.ipynb',\n",
       " 'Assignment_15.docx',\n",
       " 'Assignment_15.ipynb',\n",
       " 'Assignment_16.docx',\n",
       " 'Assignment_16.ipynb',\n",
       " 'Assignment_17.docx',\n",
       " 'Assignment_17.ipynb',\n",
       " 'Assignment_18.docx',\n",
       " 'Assignment_18.ipynb',\n",
       " 'Assignment_19.docx',\n",
       " 'Assignment_19.ipynb',\n",
       " 'Assignment_2.ipynb',\n",
       " 'Assignment_20.docx',\n",
       " 'Assignment_20.ipynb',\n",
       " 'Assignment_21.ipynb',\n",
       " 'Assignment_3.docx',\n",
       " 'Assignment_3.ipynb',\n",
       " 'Assignment_4.docx',\n",
       " 'Assignment_4.ipynb',\n",
       " 'Assignment_5.ipynb',\n",
       " 'Assignment_6.docx',\n",
       " 'Assignment_6.ipynb',\n",
       " 'Assignment_7.docx',\n",
       " 'Assignment_7.ipynb',\n",
       " 'Assignment_8.docx',\n",
       " 'Assignment_8.ipynb',\n",
       " 'Assignment_9.docx',\n",
       " 'Assignment_9.ipynb',\n",
       " 'books.csv',\n",
       " 'books.db',\n",
       " 'test.txt',\n",
       " 'today.txt',\n",
       " 'Wallpaper.jpg',\n",
       " 'zoo.py',\n",
       " '__pycache__']"
      ]
     },
     "execution_count": 4,
     "metadata": {},
     "output_type": "execute_result"
    }
   ],
   "source": [
    "import os\n",
    "os.listdir('.')"
   ]
  },
  {
   "cell_type": "markdown",
   "id": "be1bcaec",
   "metadata": {},
   "source": [
    "5.  Creating a list of all of the files in the parent directory "
   ]
  },
  {
   "cell_type": "code",
   "execution_count": 6,
   "id": "85a5b3bc",
   "metadata": {},
   "outputs": [
    {
     "data": {
      "text/plain": [
       "['.ipynb_checkpoints',\n",
       " 'IMG-20200624-WA0006.jpg',\n",
       " 'IMG_20201229_132952.jpg',\n",
       " 'Python Basics',\n",
       " 'Untitled.ipynb']"
      ]
     },
     "execution_count": 6,
     "metadata": {},
     "output_type": "execute_result"
    }
   ],
   "source": [
    "os.listdir('..')"
   ]
  },
  {
   "cell_type": "markdown",
   "id": "bf017b5e",
   "metadata": {},
   "source": [
    "6. Use multiprocessing to create three separate processes. Make each one wait a random number of seconds between one and five, print the current time, and then exit."
   ]
  },
  {
   "cell_type": "code",
   "execution_count": 10,
   "id": "6f757e8e",
   "metadata": {},
   "outputs": [],
   "source": [
    "import multiprocessing\n",
    "\n",
    "def printsec(seconds):\n",
    "    from datetime import datetime\n",
    "    from time import sleep\n",
    "    sleep(seconds)\n",
    "    print('wait', seconds, 'seconds, time is', datetime.utcnow())\n",
    "    \n",
    "if __name__ == '__main__':\n",
    "    import random    \n",
    "    for n in range(3):\n",
    "        seconds = random.random()\n",
    "        proc = multiprocessing.Process(target=printsec, args=(seconds,))\n",
    "        proc.start()"
   ]
  },
  {
   "cell_type": "code",
   "execution_count": 13,
   "id": "e1bd608e",
   "metadata": {},
   "outputs": [
    {
     "name": "stdout",
     "output_type": "stream",
     "text": [
      "wait 0.06572376749956077 seconds, time is 2023-07-20 12:45:01.784513\n",
      "wait 0.521499640732322 seconds, time is 2023-07-20 12:45:02.218527\n",
      "wait 0.973162186381538 seconds, time is 2023-07-20 12:45:02.675711\n"
     ]
    }
   ],
   "source": [
    "!python multiprocess.py"
   ]
  },
  {
   "cell_type": "markdown",
   "id": "fd6a4a99",
   "metadata": {},
   "source": [
    "7. Create a date object of your day of birth."
   ]
  },
  {
   "cell_type": "code",
   "execution_count": 18,
   "id": "50bb3302",
   "metadata": {},
   "outputs": [
    {
     "data": {
      "text/plain": [
       "datetime.date(1999, 6, 25)"
      ]
     },
     "execution_count": 18,
     "metadata": {},
     "output_type": "execute_result"
    }
   ],
   "source": [
    "date_of_birth = date(1999,6,25)\n",
    "date_of_birth"
   ]
  },
  {
   "cell_type": "markdown",
   "id": "e964d514",
   "metadata": {},
   "source": [
    "8. What day of the week was your day of birth?"
   ]
  },
  {
   "cell_type": "code",
   "execution_count": 19,
   "id": "45756e0e",
   "metadata": {},
   "outputs": [
    {
     "data": {
      "text/plain": [
       "4"
      ]
     },
     "execution_count": 19,
     "metadata": {},
     "output_type": "execute_result"
    }
   ],
   "source": [
    "date_of_birth.weekday()"
   ]
  },
  {
   "cell_type": "markdown",
   "id": "1de7855a",
   "metadata": {},
   "source": [
    "9. When will you be (or when were you) 10,000 days old?"
   ]
  },
  {
   "cell_type": "code",
   "execution_count": 20,
   "id": "c5c9d868",
   "metadata": {},
   "outputs": [
    {
     "data": {
      "text/plain": [
       "datetime.date(2026, 11, 10)"
      ]
     },
     "execution_count": 20,
     "metadata": {},
     "output_type": "execute_result"
    }
   ],
   "source": [
    "from datetime import timedelta\n",
    "day10000 = date_of_birth + timedelta(days=10000)\n",
    "day10000\n",
    "     "
   ]
  },
  {
   "cell_type": "code",
   "execution_count": null,
   "id": "3f7ab0a2",
   "metadata": {},
   "outputs": [],
   "source": []
  }
 ],
 "metadata": {
  "kernelspec": {
   "display_name": "Python 3",
   "language": "python",
   "name": "python3"
  },
  "language_info": {
   "codemirror_mode": {
    "name": "ipython",
    "version": 3
   },
   "file_extension": ".py",
   "mimetype": "text/x-python",
   "name": "python",
   "nbconvert_exporter": "python",
   "pygments_lexer": "ipython3",
   "version": "3.8.8"
  }
 },
 "nbformat": 4,
 "nbformat_minor": 5
}
