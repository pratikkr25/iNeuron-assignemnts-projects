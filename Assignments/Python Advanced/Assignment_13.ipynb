{
 "cells": [
  {
   "cell_type": "markdown",
   "id": "530b52ea",
   "metadata": {},
   "source": [
    "__Q1. Can you create a programme or function that employs both positive and negative indexing? Is there any repercussion if you do so?__"
   ]
  },
  {
   "cell_type": "code",
   "execution_count": 1,
   "id": "21471a17",
   "metadata": {},
   "outputs": [
    {
     "name": "stdout",
     "output_type": "stream",
     "text": [
      "Positive Indexing:  6\n",
      "Negative Indexing:  10\n"
     ]
    }
   ],
   "source": [
    "l1 = [1,2,3,4,5,6,6,7,8,9,10]\n",
    "def index(l1 ,position):\n",
    "    return l1[position]\n",
    "\n",
    "print('Positive Indexing: ',index(l1,6))\n",
    "print('Negative Indexing: ',index(l1,-1))"
   ]
  },
  {
   "cell_type": "markdown",
   "id": "cfa328f8",
   "metadata": {},
   "source": [
    "__Q2. What is the most effective way of starting with 1,000 elements in a Python list? Assume that all elements should be set to the same value.__"
   ]
  },
  {
   "cell_type": "code",
   "execution_count": 2,
   "id": "c8e5e060",
   "metadata": {},
   "outputs": [
    {
     "name": "stdout",
     "output_type": "stream",
     "text": [
      "[1, 1, 1, 1, 1, 1, 1, 1, 1, 1, 1, 1, 1, 1, 1, 1, 1, 1, 1, 1, 1, 1, 1, 1, 1, 1, 1, 1, 1, 1, 1, 1, 1, 1, 1, 1, 1, 1, 1, 1, 1, 1, 1, 1, 1, 1, 1, 1, 1, 1, 1, 1, 1, 1, 1, 1, 1, 1, 1, 1, 1, 1, 1, 1, 1, 1, 1, 1, 1, 1, 1, 1, 1, 1, 1, 1, 1, 1, 1, 1, 1, 1, 1, 1, 1, 1, 1, 1, 1, 1, 1, 1, 1, 1, 1, 1, 1, 1, 1, 1, 1, 1, 1, 1, 1, 1, 1, 1, 1, 1, 1, 1, 1, 1, 1, 1, 1, 1, 1, 1, 1, 1, 1, 1, 1, 1, 1, 1, 1, 1, 1, 1, 1, 1, 1, 1, 1, 1, 1, 1, 1, 1, 1, 1, 1, 1, 1, 1, 1, 1, 1, 1, 1, 1, 1, 1, 1, 1, 1, 1, 1, 1, 1, 1, 1, 1, 1, 1, 1, 1, 1, 1, 1, 1, 1, 1, 1, 1, 1, 1, 1, 1, 1, 1, 1, 1, 1, 1, 1, 1, 1, 1, 1, 1, 1, 1, 1, 1, 1, 1, 1, 1, 1, 1, 1, 1, 1, 1, 1, 1, 1, 1, 1, 1, 1, 1, 1, 1, 1, 1, 1, 1, 1, 1, 1, 1, 1, 1, 1, 1, 1, 1, 1, 1, 1, 1, 1, 1, 1, 1, 1, 1, 1, 1, 1, 1, 1, 1, 1, 1, 1, 1, 1, 1, 1, 1, 1, 1, 1, 1, 1, 1, 1, 1, 1, 1, 1, 1, 1, 1, 1, 1, 1, 1, 1, 1, 1, 1, 1, 1, 1, 1, 1, 1, 1, 1, 1, 1, 1, 1, 1, 1, 1, 1, 1, 1, 1, 1, 1, 1, 1, 1, 1, 1, 1, 1, 1, 1, 1, 1, 1, 1, 1, 1, 1, 1, 1, 1, 1, 1, 1, 1, 1, 1, 1, 1, 1, 1, 1, 1, 1, 1, 1, 1, 1, 1, 1, 1, 1, 1, 1, 1, 1, 1, 1, 1, 1, 1, 1, 1, 1, 1, 1, 1, 1, 1, 1, 1, 1, 1, 1, 1, 1, 1, 1, 1, 1, 1, 1, 1, 1, 1, 1, 1, 1, 1, 1, 1, 1, 1, 1, 1, 1, 1, 1, 1, 1, 1, 1, 1, 1, 1, 1, 1, 1, 1, 1, 1, 1, 1, 1, 1, 1, 1, 1, 1, 1, 1, 1, 1, 1, 1, 1, 1, 1, 1, 1, 1, 1, 1, 1, 1, 1, 1, 1, 1, 1, 1, 1, 1, 1, 1, 1, 1, 1, 1, 1, 1, 1, 1, 1, 1, 1, 1, 1, 1, 1, 1, 1, 1, 1, 1, 1, 1, 1, 1, 1, 1, 1, 1, 1, 1, 1, 1, 1, 1, 1, 1, 1, 1, 1, 1, 1, 1, 1, 1, 1, 1, 1, 1, 1, 1, 1, 1, 1, 1, 1, 1, 1, 1, 1, 1, 1, 1, 1, 1, 1, 1, 1, 1, 1, 1, 1, 1, 1, 1, 1, 1, 1, 1, 1, 1, 1, 1, 1, 1, 1, 1, 1, 1, 1, 1, 1, 1, 1, 1, 1, 1, 1, 1, 1, 1, 1, 1, 1, 1, 1, 1, 1, 1, 1, 1, 1, 1, 1, 1, 1, 1, 1, 1, 1, 1, 1, 1, 1, 1, 1, 1, 1, 1, 1, 1, 1, 1, 1, 1, 1, 1, 1, 1, 1, 1, 1, 1, 1, 1, 1, 1, 1, 1, 1, 1, 1, 1, 1, 1, 1, 1, 1, 1, 1, 1, 1, 1, 1, 1, 1, 1, 1, 1, 1, 1, 1, 1, 1, 1, 1, 1, 1, 1, 1, 1, 1, 1, 1, 1, 1, 1, 1, 1, 1, 1, 1, 1, 1, 1, 1, 1, 1, 1, 1, 1, 1, 1, 1, 1, 1, 1, 1, 1, 1, 1, 1, 1, 1, 1, 1, 1, 1, 1, 1, 1, 1, 1, 1, 1, 1, 1, 1, 1, 1, 1, 1, 1, 1, 1, 1, 1, 1, 1, 1, 1, 1, 1, 1, 1, 1, 1, 1, 1, 1, 1, 1, 1, 1, 1, 1, 1, 1, 1, 1, 1, 1, 1, 1, 1, 1, 1, 1, 1, 1, 1, 1, 1, 1, 1, 1, 1, 1, 1, 1, 1, 1, 1, 1, 1, 1, 1, 1, 1, 1, 1, 1, 1, 1, 1, 1, 1, 1, 1, 1, 1, 1, 1, 1, 1, 1, 1, 1, 1, 1, 1, 1, 1, 1, 1, 1, 1, 1, 1, 1, 1, 1, 1, 1, 1, 1, 1, 1, 1, 1, 1, 1, 1, 1, 1, 1, 1, 1, 1, 1, 1, 1, 1, 1, 1, 1, 1, 1, 1, 1, 1, 1, 1, 1, 1, 1, 1, 1, 1, 1, 1, 1, 1, 1, 1, 1, 1, 1, 1, 1, 1, 1, 1, 1, 1, 1, 1, 1, 1, 1, 1, 1, 1, 1, 1, 1, 1, 1, 1, 1, 1, 1, 1, 1, 1, 1, 1, 1, 1, 1, 1, 1, 1, 1, 1, 1, 1, 1, 1, 1, 1, 1, 1, 1, 1, 1, 1, 1, 1, 1, 1, 1, 1, 1, 1, 1, 1, 1, 1, 1, 1, 1, 1, 1, 1, 1, 1, 1, 1, 1, 1, 1, 1, 1, 1, 1, 1, 1, 1, 1, 1, 1, 1, 1, 1, 1, 1, 1, 1, 1, 1, 1, 1, 1, 1, 1, 1, 1, 1, 1, 1, 1, 1, 1, 1, 1, 1, 1, 1, 1, 1, 1, 1, 1, 1, 1, 1, 1, 1, 1, 1, 1, 1, 1, 1, 1, 1, 1, 1, 1, 1, 1, 1, 1, 1, 1, 1, 1, 1, 1, 1, 1, 1, 1, 1, 1, 1, 1, 1, 1, 1, 1, 1, 1, 1, 1, 1, 1, 1, 1, 1, 1, 1, 1, 1, 1, 1, 1, 1, 1, 1, 1, 1, 1, 1, 1, 1, 1, 1, 1, 1, 1, 1, 1, 1, 1, 1, 1, 1, 1, 1, 1, 1, 1, 1, 1, 1, 1, 1, 1]\n"
     ]
    }
   ],
   "source": [
    "#It can be done using List Comprehension\n",
    "\n",
    "sameList = [1 for x in range(1001)] \n",
    "print(sameList)"
   ]
  },
  {
   "cell_type": "markdown",
   "id": "ef3e2866",
   "metadata": {},
   "source": [
    "__Q3. How do you slice a list to get any other part while missing the rest? (For example, suppose you want to make a new list with the elements first, third, fifth, seventh, and so on.)__"
   ]
  },
  {
   "cell_type": "code",
   "execution_count": null,
   "id": "1b13d4b5",
   "metadata": {},
   "outputs": [],
   "source": [
    "l1 = [x for x in range(1,10)]\n",
    "print(f'List content: {l1}')\n",
    "slicedList = my_list[::2]\n",
    "print(f'sliced_list -> {sliced_list}')"
   ]
  },
  {
   "cell_type": "markdown",
   "id": "2711a920",
   "metadata": {},
   "source": [
    "__Q4. Explain the distinctions between indexing and slicing.__"
   ]
  },
  {
   "cell_type": "markdown",
   "id": "999861ac",
   "metadata": {},
   "source": [
    "__Ans:__ Indexing is used to obtaining individual element frpm a sequence, whereas slicing is used to obtain a sequence of elements."
   ]
  },
  {
   "cell_type": "code",
   "execution_count": 3,
   "id": "ef3c1d3b",
   "metadata": {},
   "outputs": [
    {
     "name": "stdout",
     "output_type": "stream",
     "text": [
      "h  \n",
      "he sky is\n"
     ]
    }
   ],
   "source": [
    "str = \"The sky is blue\"\n",
    "\n",
    "#Indexing Example\n",
    "print(str[1], str[7])\n",
    "\n",
    "#Slicing Example\n",
    "print(str[1:10])"
   ]
  },
  {
   "cell_type": "markdown",
   "id": "b9754219",
   "metadata": {},
   "source": [
    "__Q5. What happens if one of the slicing expression's indexes is out of range?__"
   ]
  },
  {
   "cell_type": "markdown",
   "id": "aa6a93f7",
   "metadata": {},
   "source": [
    "__Ans:__ It will return an empty list if the start index is out of range."
   ]
  },
  {
   "cell_type": "code",
   "execution_count": 4,
   "id": "bfbdfd4c",
   "metadata": {},
   "outputs": [
    {
     "name": "stdout",
     "output_type": "stream",
     "text": [
      "List content: [1, 2, 3, 4, 5, 6, 7, 8, 9, 10, 11, 12, 13, 14]\n",
      "Start Index out of range: []\n",
      "Partially out of range: [11, 12, 13, 14]\n"
     ]
    }
   ],
   "source": [
    "l1 = [x for x in range(1,15)]\n",
    "\n",
    "print(f'List content: {l1}')\n",
    "print(f'Start Index out of range: {l1[20:]}')\n",
    "print(f'Partially out of range: {l1[10:50]}')"
   ]
  },
  {
   "cell_type": "markdown",
   "id": "d1f7eb6d",
   "metadata": {},
   "source": [
    "__Q6. If you pass a list to a function, and if you want the function to be able to change the values of the list—so that the list is different after the function returns—what action should you avoid?__"
   ]
  },
  {
   "cell_type": "markdown",
   "id": "151eb33f",
   "metadata": {},
   "source": [
    "__Ans:__ We should use return statement for that."
   ]
  },
  {
   "cell_type": "code",
   "execution_count": 5,
   "id": "b950efe5",
   "metadata": {},
   "outputs": [
    {
     "name": "stdout",
     "output_type": "stream",
     "text": [
      "[1, 2, 3, 4, 5, 50]\n"
     ]
    }
   ],
   "source": [
    "l1 = [1,2,3,4,5,]\n",
    "\n",
    "def modifyList(l1):\n",
    "    l1.append(50)\n",
    "    return l1\n",
    "\n",
    "print(modifyList(l1))"
   ]
  },
  {
   "cell_type": "markdown",
   "id": "e1b3d81f",
   "metadata": {},
   "source": [
    "__Q7. What is the concept of an unbalanced matrix?__"
   ]
  },
  {
   "cell_type": "markdown",
   "id": "fbd21fe7",
   "metadata": {},
   "source": [
    "__Ans:__ A matrix in which number of rows and number of columns are not same is called an unbalanced matrix."
   ]
  },
  {
   "cell_type": "markdown",
   "id": "d31d200a",
   "metadata": {},
   "source": [
    "__Q8. Why is it necessary to use either list comprehension or a loop to create arbitrarily large matrices?__"
   ]
  },
  {
   "cell_type": "markdown",
   "id": "0bc836b0",
   "metadata": {},
   "source": [
    "__Ans:__ List comprehension or a loop helps creation of large matrices easy. it also helps to implemeent and avoid manual errors. It also makes reading code easy."
   ]
  },
  {
   "cell_type": "code",
   "execution_count": null,
   "id": "a5718cfa",
   "metadata": {},
   "outputs": [],
   "source": []
  }
 ],
 "metadata": {
  "kernelspec": {
   "display_name": "Python 3",
   "language": "python",
   "name": "python3"
  },
  "language_info": {
   "codemirror_mode": {
    "name": "ipython",
    "version": 3
   },
   "file_extension": ".py",
   "mimetype": "text/x-python",
   "name": "python",
   "nbconvert_exporter": "python",
   "pygments_lexer": "ipython3",
   "version": "3.8.8"
  }
 },
 "nbformat": 4,
 "nbformat_minor": 5
}
