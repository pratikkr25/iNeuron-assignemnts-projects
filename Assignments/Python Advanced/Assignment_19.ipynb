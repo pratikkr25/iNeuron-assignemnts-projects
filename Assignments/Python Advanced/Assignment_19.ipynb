{
 "cells": [
  {
   "cell_type": "markdown",
   "id": "3a451bc3",
   "metadata": {},
   "source": [
    "__Q1. Define the relationship between a class and its instances. Is it a one-to-one or a one-to-many partnership, for example?__"
   ]
  },
  {
   "cell_type": "markdown",
   "id": "67ab4315",
   "metadata": {},
   "source": [
    "__Ans:__ Relationship between a class and its instances is a one to many partnership."
   ]
  },
  {
   "cell_type": "markdown",
   "id": "fe1ba87b",
   "metadata": {},
   "source": [
    "__Q2. What kind of data is held only in an instance?__"
   ]
  },
  {
   "cell_type": "markdown",
   "id": "039f28b3",
   "metadata": {},
   "source": [
    "__Ans:__ Instance contains the Instance variables which are specific to that specific Instance object."
   ]
  },
  {
   "cell_type": "markdown",
   "id": "da65a99a",
   "metadata": {},
   "source": [
    "__Q3. What kind of knowledge is stored in a class?__"
   ]
  },
  {
   "cell_type": "markdown",
   "id": "3c4455ac",
   "metadata": {},
   "source": [
    "__Ans:__ Class creates a user-defined data structure, which holds its own data members and member functions, which can be accessed and used by creating an instance of that class. "
   ]
  },
  {
   "cell_type": "markdown",
   "id": "02b4bd4e",
   "metadata": {},
   "source": [
    "__Q4. What exactly is a method, and how is it different from a regular function?__"
   ]
  },
  {
   "cell_type": "markdown",
   "id": "53b2598f",
   "metadata": {},
   "source": [
    "__Ans:__ The methods with a class can be used to access the insatnce variables of its instance. So,the object's state can be modified by its method. Function can't access the attributes of an instance of a class or can't modify the state of the object."
   ]
  },
  {
   "cell_type": "markdown",
   "id": "7df9eb73",
   "metadata": {},
   "source": [
    "__Q5. Is inheritance supported in Python, and if so, what is the syntax?__"
   ]
  },
  {
   "cell_type": "markdown",
   "id": "6ff8c3ec",
   "metadata": {},
   "source": [
    "__Ans:__ Yes, Python supports different types of inheritance. Below shown is the syntax:"
   ]
  },
  {
   "cell_type": "code",
   "execution_count": 1,
   "id": "6182597a",
   "metadata": {},
   "outputs": [],
   "source": [
    "class Person:\n",
    "    def __init__(self, fname, lname):\n",
    "        self.first_name = fname\n",
    "        self.last_name = lname\n",
    "class Employee(Person):\n",
    "    pass"
   ]
  },
  {
   "cell_type": "markdown",
   "id": "edf64f52",
   "metadata": {},
   "source": [
    "__Q6. How much encapsulation (making instance or class variables private) does Python support?__"
   ]
  },
  {
   "cell_type": "markdown",
   "id": "77382d63",
   "metadata": {},
   "source": [
    "__Ans:__ Encapsulation describes the idea of wrapping data and the methods that work on data within one unit. This puts restrictions on accessing variables and methods directly and can prevent the accidental modification of data. In Python, objects variable can only be changed by an objects method to prevent accidental changes."
   ]
  },
  {
   "cell_type": "markdown",
   "id": "a133e63e",
   "metadata": {},
   "source": [
    "__Q7. How do you distinguish between a class variable and an instance variable?__"
   ]
  },
  {
   "cell_type": "markdown",
   "id": "cd1938bc",
   "metadata": {},
   "source": [
    "__Ans:__ The Class Attribute is available to all the instance objects of that class. whereas Instance Attributes are accessible only to the object or Instance of that class."
   ]
  },
  {
   "cell_type": "markdown",
   "id": "aacefd37",
   "metadata": {},
   "source": [
    "__Q8. When, if ever, can self be included in a class's method definitions?__"
   ]
  },
  {
   "cell_type": "markdown",
   "id": "793baf86",
   "metadata": {},
   "source": [
    "__Ans:__ Yes. self can be included in class method definations to access the instance variables inside class methods."
   ]
  },
  {
   "cell_type": "markdown",
   "id": "754d1b0a",
   "metadata": {},
   "source": [
    "__Q9. What is the difference between the `_ _add_ _` and the `_ _radd_ _` methods?__"
   ]
  },
  {
   "cell_type": "markdown",
   "id": "f62000df",
   "metadata": {},
   "source": [
    "Ans: Entering __radd__ Python will first try __add__(), and if that returns Not Implemented Python will check if the right-hand operand implements __radd__, and if it does, it will call __radd__() rather than raising a TypeError"
   ]
  },
  {
   "cell_type": "markdown",
   "id": "0750464f",
   "metadata": {},
   "source": [
    "__Q10. When is it necessary to use a reflection method? When do you not need it, even though you support the operation in question?__"
   ]
  },
  {
   "cell_type": "markdown",
   "id": "22d5d9c1",
   "metadata": {},
   "source": [
    "__Ans:__ Reflection method we often encounter the requirement that a method in the executing object, or a variable in the calling object, or a field of the object should be assigned, while the method name or field name can not be determined when encoding the code, and need to be input in the form of passing strings through parameters."
   ]
  },
  {
   "cell_type": "markdown",
   "id": "af42a146",
   "metadata": {},
   "source": [
    "__Q11. What is the `_ _iadd_ _` method called?__"
   ]
  },
  {
   "cell_type": "markdown",
   "id": "72184b53",
   "metadata": {},
   "source": [
    "__Ans:__ `_ _iadd_ _` method is called when we use implementation like a+=b which is `a._ _iadd_ _(b)`"
   ]
  },
  {
   "cell_type": "markdown",
   "id": "95ba4b59",
   "metadata": {},
   "source": [
    "__Q12. Is the `_ _init_ _` method inherited by subclasses? What do you do if you need to customize its behavior within a subclass?__"
   ]
  },
  {
   "cell_type": "markdown",
   "id": "b30ced1c",
   "metadata": {},
   "source": [
    "__Ans:__ Yes, `_ _init_ _` method gets inherited by subclasses. if we want to customize its behaviour within a subclass, then we can use `super()` method."
   ]
  },
  {
   "cell_type": "code",
   "execution_count": null,
   "id": "3a3448a3",
   "metadata": {},
   "outputs": [],
   "source": []
  }
 ],
 "metadata": {
  "kernelspec": {
   "display_name": "Python 3",
   "language": "python",
   "name": "python3"
  },
  "language_info": {
   "codemirror_mode": {
    "name": "ipython",
    "version": 3
   },
   "file_extension": ".py",
   "mimetype": "text/x-python",
   "name": "python",
   "nbconvert_exporter": "python",
   "pygments_lexer": "ipython3",
   "version": "3.8.8"
  }
 },
 "nbformat": 4,
 "nbformat_minor": 5
}
