{
 "cells": [
  {
   "cell_type": "markdown",
   "id": "e48ca485",
   "metadata": {},
   "source": [
    "__Q1. What are the new features added in Python 3.8 version?__"
   ]
  },
  {
   "cell_type": "markdown",
   "id": "25a55d7a",
   "metadata": {},
   "source": [
    "__Ans:__ Some features added in Python 3.8 version are as follows:\n",
    "\n",
    "1. Walrus Operator: This operator is used to assign and return a value in the same expression.\n",
    "2. `yield` and `return` statements do not require parentheses to return multiple values.\n",
    "3. The built-in method `reversed()` can be used for accessing the elements in the reverse order of insertion.\n",
    "4. There is a new function parameter syntax “/”, It is used to indicate that some parameters can be used positionally and cannot be used as keywords.\n",
    "5. In the three-argument form of `pow()`, when the exponent is -1, it calculates the modular multiplicative inverse of the given value."
   ]
  },
  {
   "cell_type": "markdown",
   "id": "d47d4aad",
   "metadata": {},
   "source": [
    "__Q2. What is monkey patching in Python?__"
   ]
  },
  {
   "cell_type": "markdown",
   "id": "c8edbb77",
   "metadata": {},
   "source": [
    "__Ans:__ Monkey patch refers to making run-time modifications to a class or module. In Python, the behavior of code can be changed at run-time."
   ]
  },
  {
   "cell_type": "markdown",
   "id": "0492eb90",
   "metadata": {},
   "source": [
    "__Q3. What is the difference between a shallow copy and deep copy?__"
   ]
  },
  {
   "cell_type": "markdown",
   "id": "849fe35d",
   "metadata": {},
   "source": [
    "__Ans:__ When an object is copied using __`copy()`__, it is called shallow copy. The changes are made in copied object will also make corresponding changes in original object, because both the objects will be referencing same address location.\n",
    "\n",
    "When an object is copied using __`deepcopy()`__, it is called deep copy. The changes made in copied object will not make corresponding changes in original object, because both the objects will not be referencing same address location."
   ]
  },
  {
   "cell_type": "markdown",
   "id": "a55f0195",
   "metadata": {},
   "source": [
    "__Q4. What is the maximum possible length of an identifier?__"
   ]
  },
  {
   "cell_type": "markdown",
   "id": "bf800541",
   "metadata": {},
   "source": [
    "__Ans:__ 79 characters."
   ]
  },
  {
   "cell_type": "markdown",
   "id": "bc374177",
   "metadata": {},
   "source": [
    "__Q5. What is generator comprehension?__"
   ]
  },
  {
   "cell_type": "markdown",
   "id": "d919a372",
   "metadata": {},
   "source": [
    "__Ans:__ A generator comprehension is a single-line specification for defining a generator in Python.\n",
    "The generator yields one item at a time and generates item only when in demand. Thus, the generator expressions are memory efficient than the lists."
   ]
  },
  {
   "cell_type": "code",
   "execution_count": null,
   "id": "ee1085a6",
   "metadata": {},
   "outputs": [],
   "source": []
  }
 ],
 "metadata": {
  "kernelspec": {
   "display_name": "Python 3",
   "language": "python",
   "name": "python3"
  },
  "language_info": {
   "codemirror_mode": {
    "name": "ipython",
    "version": 3
   },
   "file_extension": ".py",
   "mimetype": "text/x-python",
   "name": "python",
   "nbconvert_exporter": "python",
   "pygments_lexer": "ipython3",
   "version": "3.8.8"
  }
 },
 "nbformat": 4,
 "nbformat_minor": 5
}
