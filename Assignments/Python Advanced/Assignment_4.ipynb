{
 "cells": [
  {
   "cell_type": "markdown",
   "id": "6ea3ba54",
   "metadata": {},
   "source": [
    "__Q1. Which two operator overloading methods can you use in your classes to support iteration?__"
   ]
  },
  {
   "cell_type": "markdown",
   "id": "bfde0342",
   "metadata": {},
   "source": [
    "__Ans:__ `__iter__` and `__next__` operators are used."
   ]
  },
  {
   "cell_type": "markdown",
   "id": "6c0361db",
   "metadata": {},
   "source": [
    "__Q2. In what contexts do the two operator overloading methods manage printing?__\n"
   ]
  },
  {
   "cell_type": "markdown",
   "id": "f5873933",
   "metadata": {},
   "source": [
    "__Ans:__ `__str__` and `__repr__` are two operator overloading methods that manage printing.\n",
    "\n",
    "`__repr__()` provides the official string representation of an object, aimed at the programmer. `__str__()` provides the informal string representation of an object, aimed at the user"
   ]
  },
  {
   "cell_type": "markdown",
   "id": "b0a9a3ec",
   "metadata": {},
   "source": [
    "__Q3. In a class, how do you intercept slice operations?__\n"
   ]
  },
  {
   "cell_type": "markdown",
   "id": "2e0d76fc",
   "metadata": {},
   "source": [
    "__Ans:__  `__getitem__` method is used for intercept slice operation.\n",
    "\n",
    "Example: `__getitem__(slice(start,stop,step))`"
   ]
  },
  {
   "cell_type": "markdown",
   "id": "e3667bd6",
   "metadata": {},
   "source": [
    "__Q4. In a class, how do you capture in-place addition?__"
   ]
  },
  {
   "cell_type": "markdown",
   "id": "c3218404",
   "metadata": {},
   "source": [
    "__Ans:__ In a class, `__iadd__` method is used for in-place operation."
   ]
  },
  {
   "cell_type": "code",
   "execution_count": 2,
   "id": "20f8078c",
   "metadata": {},
   "outputs": [
    {
     "name": "stdout",
     "output_type": "stream",
     "text": [
      "30\n"
     ]
    }
   ],
   "source": [
    "#Example\n",
    "\n",
    "class Calculate:\n",
    "    def __init__(self,num):\n",
    "        self.num = num\n",
    "    def __iadd__(self,other):\n",
    "        self.num += other.num\n",
    "        return self.num\n",
    "        \n",
    "c1 = Calculate(10)\n",
    "c2 = Calculate(20)\n",
    "c1+=c2\n",
    "print(c1)"
   ]
  },
  {
   "cell_type": "markdown",
   "id": "3f15e66c",
   "metadata": {},
   "source": [
    "__Q5. When is it appropriate to use operator overloading?__"
   ]
  },
  {
   "cell_type": "markdown",
   "id": "7051a593",
   "metadata": {},
   "source": [
    "__Ans:__  Operator overloading is used when we want to use an operator other than its normal operation to have different meaning in a function."
   ]
  },
  {
   "cell_type": "code",
   "execution_count": null,
   "id": "5ad51271",
   "metadata": {},
   "outputs": [],
   "source": []
  }
 ],
 "metadata": {
  "kernelspec": {
   "display_name": "Python 3",
   "language": "python",
   "name": "python3"
  },
  "language_info": {
   "codemirror_mode": {
    "name": "ipython",
    "version": 3
   },
   "file_extension": ".py",
   "mimetype": "text/x-python",
   "name": "python",
   "nbconvert_exporter": "python",
   "pygments_lexer": "ipython3",
   "version": "3.8.8"
  }
 },
 "nbformat": 4,
 "nbformat_minor": 5
}
