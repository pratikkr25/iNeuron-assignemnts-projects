{
 "cells": [
  {
   "cell_type": "markdown",
   "id": "c2d515ed",
   "metadata": {},
   "source": [
    "__Q1. Does assigning a value to a string's indexed character violate Python's string immutability?__"
   ]
  },
  {
   "cell_type": "markdown",
   "id": "fce8f7b8",
   "metadata": {},
   "source": [
    "__Ans:__ No, as strings are immutable."
   ]
  },
  {
   "cell_type": "markdown",
   "id": "a6f0489a",
   "metadata": {},
   "source": [
    "__Q2. Does using the += operator to concatenate strings violate Python's string immutability? Why or why not?__"
   ]
  },
  {
   "cell_type": "markdown",
   "id": "d7b0a36f",
   "metadata": {},
   "source": [
    "__Ans:__ __`+=`__ operator is used to concatenate strings. It creates a new association with data and variable. E.g. s1=\"a\" and s1+=\"b\". Effect of this statements to create string ab and reassign it to variable s1, any string data is not actually modified."
   ]
  },
  {
   "cell_type": "code",
   "execution_count": 1,
   "id": "c6f28099",
   "metadata": {},
   "outputs": [
    {
     "name": "stdout",
     "output_type": "stream",
     "text": [
      "2845625311536\n",
      "2845697830192\n"
     ]
    }
   ],
   "source": [
    "s1 = 'a'\n",
    "print(id(s1))\n",
    "s1 += 'b'\n",
    "print(id(s1))"
   ]
  },
  {
   "cell_type": "markdown",
   "id": "92e0651c",
   "metadata": {},
   "source": [
    "__Q3. In Python, how many different ways are there to index a character?__"
   ]
  },
  {
   "cell_type": "markdown",
   "id": "90503dcb",
   "metadata": {},
   "source": [
    "__Ans:__ It can be done in two ways, i.e., Positive Indexing and Negative Indexing."
   ]
  },
  {
   "cell_type": "markdown",
   "id": "f1013a7e",
   "metadata": {},
   "source": [
    "__Q4. What is the relationship between indexing and slicing?__"
   ]
  },
  {
   "cell_type": "markdown",
   "id": "f728b6d8",
   "metadata": {},
   "source": [
    "__Ans:__ Indexing is used to obtaining individual element frpm a sequence, whereas slicing is used to obtain a sequence of elements."
   ]
  },
  {
   "cell_type": "code",
   "execution_count": 2,
   "id": "5bbd5d42",
   "metadata": {},
   "outputs": [
    {
     "name": "stdout",
     "output_type": "stream",
     "text": [
      "h  \n",
      "he sky is\n"
     ]
    }
   ],
   "source": [
    "str = \"The sky is blue\"\n",
    "\n",
    "#Indexing Example\n",
    "print(str[1], str[7])\n",
    "\n",
    "#Slicing Example\n",
    "print(str[1:10]) "
   ]
  },
  {
   "cell_type": "markdown",
   "id": "3f5937c5",
   "metadata": {},
   "source": [
    "__Q5. What is an indexed character's exact data type? What is the data form of a slicing-generated substring?__"
   ]
  },
  {
   "cell_type": "markdown",
   "id": "3c07651f",
   "metadata": {},
   "source": [
    "__Ans:__ Both of them have String datatype."
   ]
  },
  {
   "cell_type": "code",
   "execution_count": 3,
   "id": "0ff0c2d9",
   "metadata": {},
   "outputs": [
    {
     "name": "stdout",
     "output_type": "stream",
     "text": [
      "<class 'str'>\n",
      "<class 'str'>\n"
     ]
    }
   ],
   "source": [
    "str = \"The sky is blue\"\n",
    "\n",
    "#Indexing\n",
    "print(type((str[1])))\n",
    "\n",
    "#Slicing \n",
    "print(type(str[1:10])) "
   ]
  },
  {
   "cell_type": "markdown",
   "id": "ca2f39be",
   "metadata": {},
   "source": [
    "__Q6. What is the relationship between string and character \"types\" in Python?__"
   ]
  },
  {
   "cell_type": "markdown",
   "id": "ef904f13",
   "metadata": {},
   "source": [
    "__Ans:__ String is an object that contains sequence of character datatypes."
   ]
  },
  {
   "cell_type": "markdown",
   "id": "8e5c5983",
   "metadata": {},
   "source": [
    "__Q7. Identify at least two operators and one method that allow you to combine one or more smaller strings to create a larger string.__"
   ]
  },
  {
   "cell_type": "markdown",
   "id": "3b296c6a",
   "metadata": {},
   "source": [
    "__Ans:__ Operators: `+`, `+=`, `*`\n",
    "\n",
    "Method: <string>.join() method        "
   ]
  },
  {
   "cell_type": "markdown",
   "id": "117a1dc0",
   "metadata": {},
   "source": [
    "__Q8. What is the benefit of first checking the target string with in or not in before using the index method to find a substring?__"
   ]
  },
  {
   "cell_type": "markdown",
   "id": "19e67be6",
   "metadata": {},
   "source": [
    "__Ans:__ It helps to get a confirmation of availability of the substring so that it won't raise any errors."
   ]
  },
  {
   "cell_type": "markdown",
   "id": "ff68ead9",
   "metadata": {},
   "source": [
    "__Q9. Which operators and built-in string methods produce simple Boolean (true/false) results?__"
   ]
  },
  {
   "cell_type": "markdown",
   "id": "1b32325b",
   "metadata": {},
   "source": [
    "__Ans:__ The operators and methods are:\n",
    "        \n",
    "- `in`\n",
    "- `not`\n",
    "- `<string>.isalpha()`\n",
    "- `<string>.isalnum()`\n",
    "- `<string>.isdecimal()`\n",
    "- `<string>.isdigit()`\n",
    "- `<string>.islower()`\n",
    "- `<string>.isnumeric()`\n",
    "- `<string>.isprintable()`\n",
    "- `<string>.isspace()`\n",
    "- `<string>.istitle()`"
   ]
  },
  {
   "cell_type": "code",
   "execution_count": null,
   "id": "02d3a582",
   "metadata": {},
   "outputs": [],
   "source": []
  }
 ],
 "metadata": {
  "kernelspec": {
   "display_name": "Python 3",
   "language": "python",
   "name": "python3"
  },
  "language_info": {
   "codemirror_mode": {
    "name": "ipython",
    "version": 3
   },
   "file_extension": ".py",
   "mimetype": "text/x-python",
   "name": "python",
   "nbconvert_exporter": "python",
   "pygments_lexer": "ipython3",
   "version": "3.8.8"
  }
 },
 "nbformat": 4,
 "nbformat_minor": 5
}
