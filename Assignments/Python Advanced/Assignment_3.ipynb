{
 "cells": [
  {
   "cell_type": "markdown",
   "id": "1b8e2ad1",
   "metadata": {},
   "source": [
    "__Q1. What is the concept of an abstract superclass?__"
   ]
  },
  {
   "cell_type": "markdown",
   "id": "8c6fae77",
   "metadata": {},
   "source": [
    "__Ans:__ A class is called an Abstract class if it contains one or more abstract methods. It can be considered as a blueprint for other classes. It allows to create a set of methods that must be created within any child classes built from the abstract class. An example of abstract class is as follows:"
   ]
  },
  {
   "cell_type": "code",
   "execution_count": 1,
   "id": "91eab39f",
   "metadata": {},
   "outputs": [],
   "source": [
    "from abc import ABC, abstractmethod\n",
    "\n",
    "class Animal(ABC): \n",
    "    \n",
    "    @abstractmethod\n",
    "    def sound(self): # Abstract Method\n",
    "        pass\n",
    "class Dog(Animal):\n",
    "    def sound(self): \n",
    "        print(\"I bark\")\n",
    "\n",
    "class Cat(Animal):\n",
    "    def sound(self): \n",
    "        print(\"I meow\")"
   ]
  },
  {
   "cell_type": "markdown",
   "id": "642e5623",
   "metadata": {},
   "source": [
    "__Q2. What happens when a class statement's top level contains a basic assignment statement?__"
   ]
  },
  {
   "cell_type": "markdown",
   "id": "579520ae",
   "metadata": {},
   "source": [
    "__Ans:__ When a Class statement's top level contains a basic assignment statement, its usually treated as a class attribute, \n",
    "whereas assignment statements inside methods are treated as instance attributes or local attributes."
   ]
  },
  {
   "cell_type": "code",
   "execution_count": 2,
   "id": "026543fc",
   "metadata": {},
   "outputs": [],
   "source": [
    "class Person:\n",
    "    species = 'Homesapiens' # class attribute\n",
    "    def __init__(self,name,gender):\n",
    "        self.name = name # instance attributes\n",
    "        self.gender = gender"
   ]
  },
  {
   "cell_type": "markdown",
   "id": "ef289a33",
   "metadata": {},
   "source": [
    "__Q3. Why does a class need to manually call a superclass's__ `__init__` __method?__"
   ]
  },
  {
   "cell_type": "markdown",
   "id": "72824068",
   "metadata": {},
   "source": [
    "__Ans:__ If a child class has `__init__` method, then it will not inherit the `__init__` method of the parent class. That's why we have to manually call a parent superclass's `__init__` using super() method."
   ]
  },
  {
   "cell_type": "markdown",
   "id": "d71d37a5",
   "metadata": {},
   "source": [
    "__Q4. How can you augment, instead of completely replacing, an inherited method?__"
   ]
  },
  {
   "cell_type": "markdown",
   "id": "77862166",
   "metadata": {},
   "source": [
    "__Ans:__ super() method can be used to augment instead of completely replacing, an inherited method."
   ]
  },
  {
   "cell_type": "markdown",
   "id": "1480a62a",
   "metadata": {},
   "source": [
    "__Q5. How is the local scope of a class different from that of a function?__"
   ]
  },
  {
   "cell_type": "markdown",
   "id": "0a6b96a3",
   "metadata": {},
   "source": [
    "__Ans:__ A Variable which is defined inside a function is a local function. it is accesible from the point at which it is defined until the end of the function, and exists for as long as the function is existing.\n",
    "\n",
    "Similary, a variable inside of a class also has a local variable scope. Variables which are defined in the class body (but outside all methods) are called class attributes. They can be referenced by there bare names within the same scope, but they can also be accessed from outside this scope if we use the attribute access operator (.) on a class or an instance of the class."
   ]
  },
  {
   "cell_type": "code",
   "execution_count": null,
   "id": "91bf2845",
   "metadata": {},
   "outputs": [],
   "source": []
  }
 ],
 "metadata": {
  "kernelspec": {
   "display_name": "Python 3",
   "language": "python",
   "name": "python3"
  },
  "language_info": {
   "codemirror_mode": {
    "name": "ipython",
    "version": 3
   },
   "file_extension": ".py",
   "mimetype": "text/x-python",
   "name": "python",
   "nbconvert_exporter": "python",
   "pygments_lexer": "ipython3",
   "version": "3.8.8"
  }
 },
 "nbformat": 4,
 "nbformat_minor": 5
}
