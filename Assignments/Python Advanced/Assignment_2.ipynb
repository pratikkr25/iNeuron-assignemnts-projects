{
 "cells": [
  {
   "cell_type": "markdown",
   "id": "2eb1ee43",
   "metadata": {},
   "source": [
    "__Q1. What is the relationship between classes and modules?__"
   ]
  },
  {
   "cell_type": "markdown",
   "id": "93576376",
   "metadata": {},
   "source": [
    "__Ans:__ Classes and Modules\n",
    "\n",
    "1. A class can have its own instance, but a module cannot be instantiated. \n",
    "2. We use the ‘class’ keyword to define a class, whereas to use modules, we use the ‘import’ keyword. \n",
    "3. We can inherit a particular class and modify it using inheritance. But while using modules, it is simply a code containing variables, functions, and classes.\n",
    "4. Modules are files present inside a package, whereas a class is used to encapsulate data and functions together inside the same unit."
   ]
  },
  {
   "cell_type": "markdown",
   "id": "b8be99d2",
   "metadata": {},
   "source": [
    "__Q2. How do you make instances and classes?__\n"
   ]
  },
  {
   "cell_type": "markdown",
   "id": "4d99476b",
   "metadata": {},
   "source": [
    "__Ans:__ To create instances of a class, call the class using class name and pass in whatever arguments its `__init__` method accepts.\n",
    "\n",
    "Whereas, `class` keyword is used to create a class.\n"
   ]
  },
  {
   "cell_type": "markdown",
   "id": "10f5e79f",
   "metadata": {},
   "source": [
    "__Q3. Where and how should be class attributes created?__"
   ]
  },
  {
   "cell_type": "markdown",
   "id": "71aa90f1",
   "metadata": {},
   "source": [
    "__Ans:__ Class attributes are shared by all the instances of the class. Hence these attributes are usually created in the top of class definiation outside all methods."
   ]
  },
  {
   "cell_type": "markdown",
   "id": "6104a631",
   "metadata": {},
   "source": [
    "\n",
    "\n",
    "`Example: class Animal: no_of_legs = 4;` "
   ]
  },
  {
   "cell_type": "markdown",
   "id": "663ee377",
   "metadata": {},
   "source": [
    "\n",
    "__Q4. Where and how are instance attributes created?__\n"
   ]
  },
  {
   "cell_type": "markdown",
   "id": "515154ed",
   "metadata": {},
   "source": [
    "__Ans__:  Instances attributes are passed to the class when an object of the class is created.\n",
    "\n",
    "Example:\n",
    "`class Animal: def __init__(legs, colour, sound):`"
   ]
  },
  {
   "cell_type": "markdown",
   "id": "d424bd57",
   "metadata": {},
   "source": [
    "__Q5. What does the term \"self\" in a Python class mean?__"
   ]
  },
  {
   "cell_type": "markdown",
   "id": "decdab9a",
   "metadata": {},
   "source": [
    "__Ans:__ `self` is an instance to the current instance of the class."
   ]
  },
  {
   "cell_type": "markdown",
   "id": "e3746509",
   "metadata": {},
   "source": [
    "\n",
    "__Q6. How does a Python class handle operator overloading?__"
   ]
  },
  {
   "cell_type": "markdown",
   "id": "b19ddaa4",
   "metadata": {},
   "source": [
    "__Ans:__ Python Classes handle operator overloading by using special methods called Magic methods.\n",
    "\n",
    "Magic methods for basic arithmetic operators are as follows:\n",
    "\n",
    "`+ : __add__()`\n",
    "`- : __sub__()`\n",
    "`* : __mul__()`\n",
    "`/ : __div__()`"
   ]
  },
  {
   "cell_type": "markdown",
   "id": "da406e07",
   "metadata": {},
   "source": [
    "__Q7. When do you consider allowing operator overloading of your classes?__"
   ]
  },
  {
   "cell_type": "markdown",
   "id": "5f0581ae",
   "metadata": {},
   "source": [
    "__Ans:__ When we want to have different meaning for the same operator, we consider operator overloading."
   ]
  },
  {
   "cell_type": "markdown",
   "id": "98802fc5",
   "metadata": {},
   "source": [
    "\n",
    "__Q8. What is the most popular form of operator overloading?__"
   ]
  },
  {
   "cell_type": "markdown",
   "id": "06444116",
   "metadata": {},
   "source": [
    "__Ans:__ Magic methods"
   ]
  },
  {
   "cell_type": "markdown",
   "id": "b1f5f973",
   "metadata": {},
   "source": [
    "\n",
    "__Q9. What are the two most important concepts to grasp in order to comprehend Python OOP code?__"
   ]
  },
  {
   "cell_type": "markdown",
   "id": "185c0230",
   "metadata": {},
   "source": [
    "__Ans:__ The concept of Class and Objects "
   ]
  },
  {
   "cell_type": "code",
   "execution_count": null,
   "id": "b116fd0d",
   "metadata": {},
   "outputs": [],
   "source": []
  }
 ],
 "metadata": {
  "kernelspec": {
   "display_name": "Python 3",
   "language": "python",
   "name": "python3"
  },
  "language_info": {
   "codemirror_mode": {
    "name": "ipython",
    "version": 3
   },
   "file_extension": ".py",
   "mimetype": "text/x-python",
   "name": "python",
   "nbconvert_exporter": "python",
   "pygments_lexer": "ipython3",
   "version": "3.8.8"
  }
 },
 "nbformat": 4,
 "nbformat_minor": 5
}
