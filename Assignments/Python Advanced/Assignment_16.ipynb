{
 "cells": [
  {
   "cell_type": "markdown",
   "id": "591f732c",
   "metadata": {},
   "source": [
    "__Q1. What is the benefit of regular expressions?__"
   ]
  },
  {
   "cell_type": "markdown",
   "id": "776e4de3",
   "metadata": {},
   "source": [
    "__Ans:__ Regular Expressions are used to match strings of text such as particular characters, words, or patterns of characters. Their benefits are that they help in writing less and cleaner code. Also, it avoids multiple use of if/else statements."
   ]
  },
  {
   "cell_type": "markdown",
   "id": "e054ba45",
   "metadata": {},
   "source": [
    "__Q2. Describe the difference between the effects of \"(ab)c+\" and \"a(bc)+.\" Which of these, if any, is the unqualified pattern \"abc+\"?__"
   ]
  },
  {
   "cell_type": "markdown",
   "id": "1cb915a5",
   "metadata": {},
   "source": [
    "__Ans:__ The difference is that in `(ab)c+`, `ab` is a group whereas in `a(bc)+`, `bc` is a group."
   ]
  },
  {
   "cell_type": "markdown",
   "id": "908046d4",
   "metadata": {},
   "source": [
    "__Q3. How much do you need to use the following sentence while using regular expressions?__\n",
    "\n",
    "__import re__"
   ]
  },
  {
   "cell_type": "markdown",
   "id": "f110494c",
   "metadata": {},
   "source": [
    "__Ans:__ It has to be used once."
   ]
  },
  {
   "cell_type": "markdown",
   "id": "2a9c13fb",
   "metadata": {},
   "source": [
    "__Q4. Which characters have special significance in square brackets when expressing a range, and under what circumstances?__"
   ]
  },
  {
   "cell_type": "markdown",
   "id": "45eada2b",
   "metadata": {},
   "source": [
    "__Ans:__ The characters are `.`, `*`, `?`, `^`, `()`."
   ]
  },
  {
   "cell_type": "markdown",
   "id": "d0d7bec3",
   "metadata": {},
   "source": [
    "__Q5. How does compiling a regular-expression object benefit you?__"
   ]
  },
  {
   "cell_type": "markdown",
   "id": "c8148c81",
   "metadata": {},
   "source": [
    "__Ans:__ Regex objects are used for pattern matching. It also helps to search a pattern again without rewritting it."
   ]
  },
  {
   "cell_type": "markdown",
   "id": "6992e78f",
   "metadata": {},
   "source": [
    "__Q6. What are some examples of how to use the match object returned by re.match and re.search?__"
   ]
  },
  {
   "cell_type": "markdown",
   "id": "10f90b18",
   "metadata": {},
   "source": [
    "__Ans:__ Both __re.match()__ and __re.search()__ return the first match of a substring found in the string. __re.match()__ searches only from the beginning of the string and return match object if found. But if a match of substring is found somewhere in the middle of the string, it returns none. __re.search()__ searches for the whole string even if the string contains multi-lines and tries to find a match of the substring in all the lines of string."
   ]
  },
  {
   "cell_type": "code",
   "execution_count": 2,
   "id": "f21bae7b",
   "metadata": {},
   "outputs": [
    {
     "name": "stdout",
     "output_type": "stream",
     "text": [
      "<re.Match object; span=(66, 72), match='string'>\n",
      "None\n",
      "<re.Match object; span=(0, 6), match='string'>\n",
      "<re.Match object; span=(0, 6), match='string'>\n"
     ]
    }
   ],
   "source": [
    "import re\n",
    "Substring ='string' \n",
    "String1 ='We are learning regex with geeksforgeeks regex is very useful for string matching. It is fast too.' \n",
    "String2 ='string We are learning regex with geeksforgeeks regex is very useful for string matching. It is fast too.'\n",
    "print(re.search(Substring, String1, re.IGNORECASE))\n",
    "print(re.match(Substring, String1, re.IGNORECASE))\n",
    "print(re.search(Substring, String2, re.IGNORECASE))\n",
    "print(re.match(Substring, String2, re.IGNORECASE))"
   ]
  },
  {
   "cell_type": "markdown",
   "id": "5d7a31f2",
   "metadata": {},
   "source": [
    "__Q7. What is the difference between using a vertical bar (|) as an alteration and using square brackets as a character set?__"
   ]
  },
  {
   "cell_type": "markdown",
   "id": "9bc25e13",
   "metadata": {},
   "source": [
    "__Ans:__ The __( | )__ pattern is used to search for or option in a pattern.  Using Character set in square Brackets searches for all the character set in the square bracket and if match is found, it returns the match. "
   ]
  },
  {
   "cell_type": "markdown",
   "id": "65538359",
   "metadata": {},
   "source": [
    "__Q8. In regular-expression search patterns, why is it necessary to use the raw-string indicator (r)? In   replacement strings?__"
   ]
  },
  {
   "cell_type": "markdown",
   "id": "73ec09cc",
   "metadata": {},
   "source": [
    "__Ans:__ Raw Strings are used in the regular-expression search patterns, so that blackslashes donot have to be escaped."
   ]
  },
  {
   "cell_type": "code",
   "execution_count": null,
   "id": "b054c139",
   "metadata": {},
   "outputs": [],
   "source": []
  }
 ],
 "metadata": {
  "kernelspec": {
   "display_name": "Python 3",
   "language": "python",
   "name": "python3"
  },
  "language_info": {
   "codemirror_mode": {
    "name": "ipython",
    "version": 3
   },
   "file_extension": ".py",
   "mimetype": "text/x-python",
   "name": "python",
   "nbconvert_exporter": "python",
   "pygments_lexer": "ipython3",
   "version": "3.8.8"
  }
 },
 "nbformat": 4,
 "nbformat_minor": 5
}
