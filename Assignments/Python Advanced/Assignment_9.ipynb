{
 "cells": [
  {
   "cell_type": "markdown",
   "id": "d1a5d41d",
   "metadata": {},
   "source": [
    "__Q1. In Python 3.X, what are the names and functions of string object types?__"
   ]
  },
  {
   "cell_type": "markdown",
   "id": "cd18e42b",
   "metadata": {},
   "source": [
    "__Ans:__ Strong object types are as follows:\n",
    "\n",
    "- __`<stirng>.isdecimal()`:__ Returns True if all characters in a string are decimal.\n",
    "- __`<string>.isalnum()`:__ Returns True if all characters in the string are AlphaNumeric.\n",
    "- __`<string>.istitle()`:__ Returns True if first character in a string is in Uppercase.\n",
    "- __`<string>.partition(<sub_string>)`:__ Splits string at first occurance of sub string and returns a tuple of 3 elements.\n",
    "- __`<string>.rpartition(<sub_string>)`:__ Splits string at last occurance of sub string and returns a tuple of 3 elements.\n",
    "- __`<string>.isidentifier()`:__ Returns True if give string is a valid identifier name.\n",
    "- __`len(<string>)`:__ Returns the length of the given string.\n",
    "- __`<string>.index(<sub_string>)`:__ Returns the lowest index of substring if substring is found in the string.\n",
    "- __`<string>.rindex(<sub_string>)`:__ Returns the highest index of substring if substring is found in the string.\n",
    "- __`max(<string>)`:__ Returns the highest Alphabetical Character in the string as per ASCII.\n",
    "- __`min(<string>)`:__ Returns the lowest Alphabetical Character in the string as per ASCII.\n",
    "- __`<string>.splitlines()`:__ Returns a list of lines in the string.\n",
    "- __`<string>.capitalize()`:__ Returns the string with first character capitalized.\n",
    "- __`<string>.upper()`:__ Returns the string with all characters in uppercase.\n",
    "- __`<string>.lower()`:__ Returns the string with all characters in lowercase\n",
    "- __`<string>.casefold()`:__ Returns the string in lowercase which can be used for caseless comparisions.\n",
    "- __`<string>.expandtabs(no_of_spaces)`:__ Replaces tabs in a string with specified no of spaces default is 8\n",
    "- __`<string>.find(<sub_string>)`:__ Returns lowest index of substring if substring is found in the string else returns -1.\n",
    "- __`<string>.rfind(<sub_string>)`:__ Returns highest index of substring if substring is found in the string else returns -1.\n",
    "- __`<string>.count(<char>)`:__ Returns the no of occurances of the char in the given string.\n",
    "- __`<string>.split(<sep>)`:__ Returns list of words seperated by given sep else seperated by whitespace.\n",
    "- __`<string>.rsplit(<sep>)`:__ Returns list of words seperated by given sep else seperated by whitespace scanning from end.\n",
    "- __`<string>.lstrip()`:__ Returns a copy of where leading whitespaces are removed.\n",
    "- __`<string>.rstrip()`:__ Returns a copy of where trailed whitespaces are removed.\n",
    "- __`<string>.strip()`:__ Returns a copy of where both leading and trailing whitespaces are removed.\n",
    "- __`<string>.swapcase()`:__ Swaps lowercase characters with uppercase and vice versa.\n",
    "- __`<sep>.join(<list>)`:__ Concatenates a list or tuple of words with intervening occuernces of sep.\n",
    "- __`<string>.translate(<mapping_table>)`:__ translates the characters using table.\n",
    "- __`<string>.maketrans(<dict>)`:__ Creating a mapping translation tbale usable for <string>.translate(<mapping_table>)\n",
    "- __`<string>.replace(<char_1>,<char_2>)`:__ Replace all occurances of char_1 with char_2 in string.\n",
    "- __`<string>.encode() -> Encodes string`:__ into any encoding supported by python. Default encoding is UTF-8.\n",
    "- __`<string>.ljust(<no_of_spaces>)`:__ Left-justify in a field of given width.\n",
    "- __`<string>.rjust(<no_of_spaces>)`:__ Right-justify in a field of given width.\n",
    "- __`<string>.center(<no_of_spaces>)`:__ Center-justify in a field of given width.\n",
    "- __`<stirng>.zfill(<length>)`:__ Zfill adds zeros to the begining of string until the specified length is reached."
   ]
  },
  {
   "cell_type": "markdown",
   "id": "9bbb9ed3",
   "metadata": {},
   "source": [
    "__Q2. How do the string forms in Python 3.X vary in terms of operations?__"
   ]
  },
  {
   "cell_type": "markdown",
   "id": "ea703010",
   "metadata": {},
   "source": [
    "__Ans:__ In Python 3.X, default format of strings is Unicode, whereas in Python 2.X we need to explicitly mention Unicode value using __u__."
   ]
  },
  {
   "cell_type": "markdown",
   "id": "ccabb3bc",
   "metadata": {},
   "source": [
    "__Q3. In 3.X, how do you put non-ASCII Unicode characters in a string?__"
   ]
  },
  {
   "cell_type": "markdown",
   "id": "d5f71b06",
   "metadata": {},
   "source": [
    "__Ans:__ __`unidecode()`__ method from unidecode library is used to put non-ASCII Unicode Characters in a string in Python 3.X."
   ]
  },
  {
   "cell_type": "markdown",
   "id": "7006f37a",
   "metadata": {},
   "source": [
    "__Q4. In Python 3.X, what are the key differences between text-mode and binary-mode files?__"
   ]
  },
  {
   "cell_type": "markdown",
   "id": "8a31e052",
   "metadata": {},
   "source": [
    "__Ans:__ The major difference between these two is that a text file contains textual information in the form of alphabets, digits and special characters or symbols. On the other hand, a binary file contains bytes or a compiled version of a text file."
   ]
  },
  {
   "cell_type": "markdown",
   "id": "be75fe51",
   "metadata": {},
   "source": [
    "__Q5. How can you interpret a Unicode text file containing text encoded in a different encoding than your platform's default?__"
   ]
  },
  {
   "cell_type": "markdown",
   "id": "3238bf27",
   "metadata": {},
   "source": [
    "__Ans:__ It can be done using __`encode()`__ and __`decode()`__. "
   ]
  },
  {
   "cell_type": "markdown",
   "id": "9b998b2d",
   "metadata": {},
   "source": [
    "__Q6. What is the best way to make a Unicode text file in a particular encoding format?__"
   ]
  },
  {
   "cell_type": "markdown",
   "id": "22413b95",
   "metadata": {},
   "source": [
    "__Ans:__ Use str.encode() and file.write() to make a Unicode text file in a particular encoding format, default encoding format is UTF-18.\n",
    "\n",
    "- Call str.encode(encoding) with encoding set to utf8 to encode str.\n",
    "- Call open(file, mode) to open a file with mode set to wb . wb writes to files in binary mode & preserves UTF-8format.\n",
    "- Call file.write(data) to write data to the file."
   ]
  },
  {
   "cell_type": "markdown",
   "id": "4ff529d0",
   "metadata": {},
   "source": [
    "__Q7. What qualifies ASCII text as a form of Unicode text?__"
   ]
  },
  {
   "cell_type": "markdown",
   "id": "eec9ad5d",
   "metadata": {},
   "source": [
    "__Ans:__ ASCII represents lowercase letters (a-z), uppercase letters (A-Z), digits (0–9) and symbols such as punctuation marks while Unicode represents letters of English, Arabic, Greek etc. mathematical symbols, historical scripts, emoji covering a wide range of characters than ASCII."
   ]
  },
  {
   "cell_type": "markdown",
   "id": "9e049ea8",
   "metadata": {},
   "source": [
    "__Q8. How much of an effect does the change in string types in Python 3.X have on your code?__"
   ]
  },
  {
   "cell_type": "markdown",
   "id": "ae0d3894",
   "metadata": {},
   "source": [
    "__Ans:__ Python 3 stores strings as Unicode by default whereas Python 2 requires you to mark a string with a __u__ if you want to store it as Unicode. Unicode strings are more versatile than ASCII strings, which are the Python 3.X default, as they can store letters from foreign languages as well as emoji and the standard Roman letters and numerals."
   ]
  },
  {
   "cell_type": "code",
   "execution_count": null,
   "id": "11a4848d",
   "metadata": {},
   "outputs": [],
   "source": []
  }
 ],
 "metadata": {
  "kernelspec": {
   "display_name": "Python 3",
   "language": "python",
   "name": "python3"
  },
  "language_info": {
   "codemirror_mode": {
    "name": "ipython",
    "version": 3
   },
   "file_extension": ".py",
   "mimetype": "text/x-python",
   "name": "python",
   "nbconvert_exporter": "python",
   "pygments_lexer": "ipython3",
   "version": "3.8.8"
  }
 },
 "nbformat": 4,
 "nbformat_minor": 5
}
