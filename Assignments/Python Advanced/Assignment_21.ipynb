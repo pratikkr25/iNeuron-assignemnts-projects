{
 "cells": [
  {
   "cell_type": "markdown",
   "id": "9d339db8",
   "metadata": {},
   "source": [
    "__Q1. What is a probability distribution, exactly? If the values are meant to be random, how can you predict them at all?__"
   ]
  },
  {
   "cell_type": "markdown",
   "id": "52ade6a0",
   "metadata": {},
   "source": [
    "__Ans:__ A probability distribution is the mathematical function that gives the probabilities of occurrence of different possible outcomes for an experiment. It describes how a random variable is distributed.\n",
    "\n",
    "It tells us which values a random variable is most likely to take on and which values are less likely. Based on the previous data and the occurences of the random event, we can predict the outcome in terms of probabilities."
   ]
  },
  {
   "cell_type": "markdown",
   "id": "897fa933",
   "metadata": {},
   "source": [
    "__Q2. Is there a distinction between true random numbers and pseudo-random numbers, if there is one? Why are the latter considered “good enough”?__"
   ]
  },
  {
   "cell_type": "markdown",
   "id": "1794b6ad",
   "metadata": {},
   "source": [
    "__Ans:__ True Random Numbers are true physical values while pseudo-random numbers are generated internally by a program . Latter is considered good enough becauuse they have sort of uniform distribution."
   ]
  },
  {
   "cell_type": "markdown",
   "id": "d2475765",
   "metadata": {},
   "source": [
    "__Q3. What are the two main factors that influence the behaviour of a \"normal\" probability distribution?__"
   ]
  },
  {
   "cell_type": "markdown",
   "id": "a284b3f8",
   "metadata": {},
   "source": [
    "__Ans:__ Mean and Variance."
   ]
  },
  {
   "cell_type": "markdown",
   "id": "3a383e16",
   "metadata": {},
   "source": [
    "__Q4. Provide a real-life example of a normal distribution.__"
   ]
  },
  {
   "cell_type": "markdown",
   "id": "856e2b25",
   "metadata": {},
   "source": [
    "__Ans:__ Distribution of height ofstudents in a classroom."
   ]
  },
  {
   "cell_type": "markdown",
   "id": "67a53a2d",
   "metadata": {},
   "source": [
    "__Q5. In the short term, how can you expect a probability distribution to behave? What do you think will happen as the number of trials grows?__"
   ]
  },
  {
   "cell_type": "markdown",
   "id": "2b823911",
   "metadata": {},
   "source": [
    "__Ans:__ Variance decreases with number of trials."
   ]
  },
  {
   "cell_type": "markdown",
   "id": "9cf6dd90",
   "metadata": {},
   "source": [
    "__Q6. What kind of object can be shuffled by using random.shuffle?__"
   ]
  },
  {
   "cell_type": "markdown",
   "id": "fadaa000",
   "metadata": {},
   "source": [
    "__Ans:__ Lists, Strings, and Tuples can be shuffled by using random.shuffle."
   ]
  },
  {
   "cell_type": "markdown",
   "id": "0c5ac247",
   "metadata": {},
   "source": [
    "__Q7. Describe the math package's general categories of functions.__"
   ]
  },
  {
   "cell_type": "markdown",
   "id": "484c61e0",
   "metadata": {},
   "source": [
    "__Ans:__ The Math package's general categories of functions are as follows:\n",
    "\n",
    "- Trigonometric functions\n",
    "- Quadratic functions\n",
    "- Exponential functions\n",
    "- Hyperbolic functions\n",
    "- Periodic functions\n",
    "- Arithmetic functions\n",
    "- Logarithimic functions\n",
    "- Conversions to Integer"
   ]
  },
  {
   "cell_type": "markdown",
   "id": "cbf7facf",
   "metadata": {},
   "source": [
    "__Q8. What is the relationship between exponentiation and logarithms?__"
   ]
  },
  {
   "cell_type": "markdown",
   "id": "57d54e02",
   "metadata": {},
   "source": [
    "__Ans:__ They are inverse of each other."
   ]
  },
  {
   "cell_type": "markdown",
   "id": "a9155b6f",
   "metadata": {},
   "source": [
    "__Q9. What are the three logarithmic functions that Python supports?__"
   ]
  },
  {
   "cell_type": "markdown",
   "id": "99f800dd",
   "metadata": {},
   "source": [
    "__Ans:__ The logarithmic functions that Python supports are:\n",
    "\n",
    "1. `log2(x)` - Logarithmic value of x to base 2\n",
    "2. `log10(x)` - Logarithmic value of x to base 10\n",
    "3. `log1p(a)` - This function is used to compute logarithm(1+a)"
   ]
  },
  {
   "cell_type": "code",
   "execution_count": null,
   "id": "0c67b265",
   "metadata": {},
   "outputs": [],
   "source": []
  }
 ],
 "metadata": {
  "kernelspec": {
   "display_name": "Python 3",
   "language": "python",
   "name": "python3"
  },
  "language_info": {
   "codemirror_mode": {
    "name": "ipython",
    "version": 3
   },
   "file_extension": ".py",
   "mimetype": "text/x-python",
   "name": "python",
   "nbconvert_exporter": "python",
   "pygments_lexer": "ipython3",
   "version": "3.8.8"
  }
 },
 "nbformat": 4,
 "nbformat_minor": 5
}
