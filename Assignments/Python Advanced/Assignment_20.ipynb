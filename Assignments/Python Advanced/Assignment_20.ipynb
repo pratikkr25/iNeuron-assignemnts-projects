{
 "cells": [
  {
   "cell_type": "markdown",
   "id": "8b5c8803",
   "metadata": {},
   "source": [
    "__1. Compare and contrast the float and Decimal classes' benefits and drawbacks.__"
   ]
  },
  {
   "cell_type": "markdown",
   "id": "e19298de",
   "metadata": {},
   "source": [
    "__Ans:__ The benefits snd drawbacks are as follows: \n",
    "Both the float and decimal types store numerical values in Python. Floats are used when convenience and speed matter. A float gives you an approximation of the number you declare. whereas, decimals are used when precision matters. Decimals can suffer from their own precision issues, but generally, decimals are more precise than floats."
   ]
  },
  {
   "cell_type": "markdown",
   "id": "34e11401",
   "metadata": {},
   "source": [
    "__2. Decimal('1.200') and Decimal('1.2') are two objects to consider. In what sense are these the same object? Are these just two ways of representing the exact same value, or do they correspond to different internal states?__"
   ]
  },
  {
   "cell_type": "markdown",
   "id": "deb6a648",
   "metadata": {},
   "source": [
    "__Ans:__ The internal representation at storage is different for both of them, and their precsion differs too."
   ]
  },
  {
   "cell_type": "markdown",
   "id": "04be4495",
   "metadata": {},
   "source": [
    "__3. What happens if the equality of Decimal('1.200') and Decimal('1.2') is checked?__"
   ]
  },
  {
   "cell_type": "markdown",
   "id": "6013af2e",
   "metadata": {},
   "source": [
    "__Ans:__ Both are equal, only precision differs."
   ]
  },
  {
   "cell_type": "markdown",
   "id": "65badbaf",
   "metadata": {},
   "source": [
    "__4. Why is it preferable to start a Decimal object with a string rather than a floating-point value?__"
   ]
  },
  {
   "cell_type": "markdown",
   "id": "fb56bffa",
   "metadata": {},
   "source": [
    "__Ans:__ Floating-point value is converted to Decimal format. Decimal can store float value with absolute precision. But when float value is given as Decimal object,it first has to be converted from floating point value which might already have rounding error.\n",
    "\n",
    "Hence, it is preferable to start a Decimal object with a string."
   ]
  },
  {
   "cell_type": "markdown",
   "id": "f9482e12",
   "metadata": {},
   "source": [
    "__5. In an arithmetic phrase, how simple is it to combine Decimal objects with integers?__"
   ]
  },
  {
   "cell_type": "markdown",
   "id": "3c624cdc",
   "metadata": {},
   "source": [
    "__Ans:__ It can be done using Decimal()."
   ]
  },
  {
   "cell_type": "markdown",
   "id": "27e7865b",
   "metadata": {},
   "source": [
    "__6. Can Decimal objects and floating-point values be combined easily?__"
   ]
  },
  {
   "cell_type": "markdown",
   "id": "facd742c",
   "metadata": {},
   "source": [
    "__Ans:__ No. Arithmetic operfations like Adding,subtracting or multiplying a Decimal object by a floating-point value is generates an error.\n",
    "To do these operations, the floating point has to be converted to a Decimal."
   ]
  },
  {
   "cell_type": "markdown",
   "id": "30ef70af",
   "metadata": {},
   "source": [
    "__7. Using the Fraction class but not the Decimal class, give an example of a quantity that can be expressed with absolute precision.__"
   ]
  },
  {
   "cell_type": "markdown",
   "id": "f392e5b7",
   "metadata": {},
   "source": [
    "__Ans:__ Value of 0.5 will be represented as 1/2."
   ]
  },
  {
   "cell_type": "markdown",
   "id": "506a2a94",
   "metadata": {},
   "source": [
    "__8. Describe a quantity that can be accurately expressed by the Decimal or Fraction classes but not by a floating-point value.__"
   ]
  },
  {
   "cell_type": "markdown",
   "id": "fd65fd3e",
   "metadata": {},
   "source": [
    "__Ans:__ Numbers like 1.1, 1.2 etc. do not have exact representations in binary floating-point value."
   ]
  },
  {
   "cell_type": "markdown",
   "id": "beda4b9b",
   "metadata": {},
   "source": [
    "__9. Consider the following two fraction objects: Fraction(1, 2) and Fraction(1, 2). (5, 10). Is the internal state of these two objects the same? Why do you think that is?__"
   ]
  },
  {
   "cell_type": "markdown",
   "id": "1c0bb12f",
   "metadata": {},
   "source": [
    "__Ans:__ Here, both of them will be reduced to 1/2."
   ]
  },
  {
   "cell_type": "markdown",
   "id": "c26f07a2",
   "metadata": {},
   "source": [
    "__10. How do the Fraction class and the integer type (int) relate to each other? Containment or inheritance?__"
   ]
  },
  {
   "cell_type": "markdown",
   "id": "dc1deb45",
   "metadata": {},
   "source": [
    "__Ans:__ Fraction class and integer type(int) are related in form of a container. It contains two ints, one the numerator and the other the denominator."
   ]
  },
  {
   "cell_type": "code",
   "execution_count": null,
   "id": "28b692c2",
   "metadata": {},
   "outputs": [],
   "source": []
  }
 ],
 "metadata": {
  "kernelspec": {
   "display_name": "Python 3",
   "language": "python",
   "name": "python3"
  },
  "language_info": {
   "codemirror_mode": {
    "name": "ipython",
    "version": 3
   },
   "file_extension": ".py",
   "mimetype": "text/x-python",
   "name": "python",
   "nbconvert_exporter": "python",
   "pygments_lexer": "ipython3",
   "version": "3.8.8"
  }
 },
 "nbformat": 4,
 "nbformat_minor": 5
}
