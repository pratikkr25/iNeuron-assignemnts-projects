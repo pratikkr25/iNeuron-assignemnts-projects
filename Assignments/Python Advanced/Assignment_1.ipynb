{
 "cells": [
  {
   "cell_type": "markdown",
   "id": "e9c8e92b",
   "metadata": {},
   "source": [
    "__Q1. What is the purpose of Python's OOP?__"
   ]
  },
  {
   "cell_type": "markdown",
   "id": "9bc6c9c0",
   "metadata": {},
   "source": [
    "__Ans__: Object-oriented programming is a programming paradigm that uses classes and objects in programming. The main purpose is to bind the data and functions together as a single unit so that no other part of the code can access the data.\n",
    "Some of its properties are inheritance, polymorphism, encapsulation, etc."
   ]
  },
  {
   "cell_type": "markdown",
   "id": "2b981e6a",
   "metadata": {},
   "source": [
    "__Q2. Where does an inheritance search look for an attribute?__"
   ]
  },
  {
   "cell_type": "markdown",
   "id": "06a70e1d",
   "metadata": {},
   "source": [
    "__Ans:__ An inheritance search looks for an attribute first in the instance object, then in the class the instance was created from, then in all higher superclasses, progressing from left to right."
   ]
  },
  {
   "cell_type": "markdown",
   "id": "8942c2f6",
   "metadata": {},
   "source": [
    "__Q3. How do you distinguish between a class object and an instance object?__"
   ]
  },
  {
   "cell_type": "markdown",
   "id": "b130fd7d",
   "metadata": {},
   "source": [
    "__Ans:__ The differences between a class object and an instance object are:\n",
    "\n",
    "1. Class is a template for creating objects whereas object is an instance of class.\n",
    "2. Seperate memory is allocated for each object created, but this doesn't happen for a class.\n",
    "3. As Classes have no allocated memory and they can't be manipulated. but objects can be manipulated."
   ]
  },
  {
   "cell_type": "markdown",
   "id": "0eef5c5f",
   "metadata": {},
   "source": [
    "__Q4. What makes the first argument in a class’s method function special?__\n"
   ]
  },
  {
   "cell_type": "markdown",
   "id": "89bf8d80",
   "metadata": {},
   "source": [
    "__Ans:__ Python Classes usually have three types of methods which are:\n",
    "\n",
    "1. Instance Methods (object level methods)\n",
    "2. Class Methods (class level methods)\n",
    "3. Static Methods (general utility methods)\n",
    "\n",
    "`__self__` is the first argument for instance methods. which refers to the object itself\n",
    "`__cls__` is the first argument for class methods which refers to the class itself"
   ]
  },
  {
   "cell_type": "markdown",
   "id": "ab2e2192",
   "metadata": {},
   "source": [
    "__Q5. What is the purpose of the__ `__init__` __method?__"
   ]
  },
  {
   "cell_type": "markdown",
   "id": "281c934a",
   "metadata": {},
   "source": [
    "__Ans:__`__init__` method is called when an object is created from a class and it allows the class to initialize the attributes of the class. It also acts as a constructor."
   ]
  },
  {
   "cell_type": "markdown",
   "id": "e770db87",
   "metadata": {},
   "source": [
    "__Q6. What is the process for creating a class instance?__\n"
   ]
  },
  {
   "cell_type": "markdown",
   "id": "38dc0a24",
   "metadata": {},
   "source": [
    "__Ans:__ To create instances of a class, call the class using class name and pass in whatever arguments its `__init__` method accepts.\n",
    "\n",
    "Example: class_instance_name = class_name(\"attribute1,\"attribute2\")"
   ]
  },
  {
   "cell_type": "markdown",
   "id": "3832775a",
   "metadata": {},
   "source": [
    "__Q7. What is the process for creating a class?__"
   ]
  },
  {
   "cell_type": "markdown",
   "id": "c64f53ce",
   "metadata": {},
   "source": [
    "__Ans:__ `class` keyword is used to create a class.\n",
    "\n",
    "Example: `class class_name:`"
   ]
  },
  {
   "cell_type": "markdown",
   "id": "f57c4e81",
   "metadata": {},
   "source": [
    "\n",
    "__Q8. How would you define the superclasses of a class?__"
   ]
  },
  {
   "cell_type": "markdown",
   "id": "75365a0f",
   "metadata": {},
   "source": [
    "__Ans:__ A superclass is the class from which many subclasses can be created. It is given as a arugment to the child class"
   ]
  },
  {
   "cell_type": "code",
   "execution_count": null,
   "id": "63ba2c0b",
   "metadata": {},
   "outputs": [],
   "source": []
  }
 ],
 "metadata": {
  "kernelspec": {
   "display_name": "Python 3",
   "language": "python",
   "name": "python3"
  },
  "language_info": {
   "codemirror_mode": {
    "name": "ipython",
    "version": 3
   },
   "file_extension": ".py",
   "mimetype": "text/x-python",
   "name": "python",
   "nbconvert_exporter": "python",
   "pygments_lexer": "ipython3",
   "version": "3.8.8"
  }
 },
 "nbformat": 4,
 "nbformat_minor": 5
}
