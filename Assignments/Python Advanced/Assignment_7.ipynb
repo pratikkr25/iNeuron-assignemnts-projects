{
 "cells": [
  {
   "cell_type": "markdown",
   "id": "fdf7c741",
   "metadata": {},
   "source": [
    "__Q1. What is the purpose of the try statement?__"
   ]
  },
  {
   "cell_type": "markdown",
   "id": "e32baf2f",
   "metadata": {},
   "source": [
    "__Ans:__ `try` statement is used to handle exceptions in Python. It consists the block of code in a program that can raise exception during runtime. Alongwith the `try` block, `except` avoid programs from crashing during runtime due to exceptions."
   ]
  },
  {
   "cell_type": "code",
   "execution_count": 1,
   "id": "3a9ad13d",
   "metadata": {},
   "outputs": [
    {
     "name": "stdout",
     "output_type": "stream",
     "text": [
      "Division by Zero is Not Possible\n"
     ]
    }
   ],
   "source": [
    "#Example: Division by zero\n",
    "\n",
    "try:\n",
    "    print(5/0)\n",
    "except ZeroDivisionError:\n",
    "    print('Division by Zero is Not Possible')"
   ]
  },
  {
   "cell_type": "markdown",
   "id": "232fc34d",
   "metadata": {},
   "source": [
    "__Q2. What are the two most popular try statement variations?__"
   ]
  },
  {
   "cell_type": "markdown",
   "id": "4ccbb6d2",
   "metadata": {},
   "source": [
    "__Ans:__ The popular `try` statement variartions are as follows:\n",
    "\n",
    "1. `try`, `except`\n",
    "2. `try`, `except`, `finally`"
   ]
  },
  {
   "cell_type": "markdown",
   "id": "765364fd",
   "metadata": {},
   "source": [
    "__Q3. What is the purpose of the raise statement?__"
   ]
  },
  {
   "cell_type": "markdown",
   "id": "e26182fb",
   "metadata": {},
   "source": [
    "__Ans:__ `raise` statement is used to trigger exceptions or errors in a program. It raises an error and stops the control flow of the program. "
   ]
  },
  {
   "cell_type": "markdown",
   "id": "417ff0a8",
   "metadata": {},
   "source": [
    "__Q4. What does the assert statement do, and what other statement is it like?__"
   ]
  },
  {
   "cell_type": "markdown",
   "id": "5139476f",
   "metadata": {},
   "source": [
    "__Ans:__ We use `assert` statement if a test condition returns `true`, and if not then it will cause an `AssertionError`. It is similar to `raise` statement in Python."
   ]
  },
  {
   "cell_type": "markdown",
   "id": "03243653",
   "metadata": {},
   "source": [
    "__Q5. What is the purpose of the with/as argument, and what other statement is it like?__"
   ]
  },
  {
   "cell_type": "markdown",
   "id": "dfb5e356",
   "metadata": {},
   "source": [
    "__Ans:__ `with/as` is used in file handling in Python. When we use a `with` statement for file reading, there is no need for programmer to explicitly takecare of activities like resource deallocation and file closing by using file.close() method."
   ]
  },
  {
   "cell_type": "code",
   "execution_count": null,
   "id": "04fa9967",
   "metadata": {},
   "outputs": [],
   "source": []
  }
 ],
 "metadata": {
  "kernelspec": {
   "display_name": "Python 3",
   "language": "python",
   "name": "python3"
  },
  "language_info": {
   "codemirror_mode": {
    "name": "ipython",
    "version": 3
   },
   "file_extension": ".py",
   "mimetype": "text/x-python",
   "name": "python",
   "nbconvert_exporter": "python",
   "pygments_lexer": "ipython3",
   "version": "3.8.8"
  }
 },
 "nbformat": 4,
 "nbformat_minor": 5
}
