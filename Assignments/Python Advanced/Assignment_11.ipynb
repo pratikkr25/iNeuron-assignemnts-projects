{
 "cells": [
  {
   "cell_type": "markdown",
   "id": "69a0b06c",
   "metadata": {},
   "source": [
    "__Q1. What is the concept of a metaclass?__"
   ]
  },
  {
   "cell_type": "markdown",
   "id": "861dbcf7",
   "metadata": {},
   "source": [
    "__Ans:__ Metaclass is a class of a class that defines how a class behaves. A class is itself a instance of Metaclass, and any Instance of Class in Python is an Instance of type metaclass."
   ]
  },
  {
   "cell_type": "markdown",
   "id": "d2292bcc",
   "metadata": {},
   "source": [
    "__Q2. What is the best way to declare a class's metaclass?__"
   ]
  },
  {
   "cell_type": "code",
   "execution_count": 1,
   "id": "350eebb8",
   "metadata": {},
   "outputs": [
    {
     "name": "stdout",
     "output_type": "stream",
     "text": [
      "<class 'type'>\n",
      "<class '__main__.meta'>\n"
     ]
    }
   ],
   "source": [
    "class meta(type):\n",
    "    pass\n",
    "class class_meta(metaclass=meta):\n",
    "    pass\n",
    "\n",
    "print(type(meta))\n",
    "print(type(class_meta)) "
   ]
  },
  {
   "cell_type": "markdown",
   "id": "23f794ea",
   "metadata": {},
   "source": [
    "__Q3. How do class decorators overlap with metaclasses for handling classes?__"
   ]
  },
  {
   "cell_type": "markdown",
   "id": "b39b1003",
   "metadata": {},
   "source": [
    "__Ans:__ Anything we can do with a class decorator, we can of course do with a custom metaclasses. We just need to apply the functionality of the \"decorator function\", i.e., the one that takes a class object and modifies it, in the course of the metaclass's __new__ or __init__ that make the class object."
   ]
  },
  {
   "cell_type": "markdown",
   "id": "9218172d",
   "metadata": {},
   "source": [
    "__Q4. How do class decorators overlap with metaclasses for handling instances?__"
   ]
  },
  {
   "cell_type": "markdown",
   "id": "9c47ab80",
   "metadata": {},
   "source": [
    "__Ans:__ A decorator can be used to add an attribute to a method, and a metaclass can be used to modify the behavior of all methods with that attribute. We just need to apply the functionality of the \"decorator function\", i.e., the one that takes a class object and modifies it, in the course of the metaclass's __new__ or __init__ that make the class object."
   ]
  },
  {
   "cell_type": "code",
   "execution_count": null,
   "id": "0698de44",
   "metadata": {},
   "outputs": [],
   "source": []
  }
 ],
 "metadata": {
  "kernelspec": {
   "display_name": "Python 3",
   "language": "python",
   "name": "python3"
  },
  "language_info": {
   "codemirror_mode": {
    "name": "ipython",
    "version": 3
   },
   "file_extension": ".py",
   "mimetype": "text/x-python",
   "name": "python",
   "nbconvert_exporter": "python",
   "pygments_lexer": "ipython3",
   "version": "3.8.8"
  }
 },
 "nbformat": 4,
 "nbformat_minor": 5
}
