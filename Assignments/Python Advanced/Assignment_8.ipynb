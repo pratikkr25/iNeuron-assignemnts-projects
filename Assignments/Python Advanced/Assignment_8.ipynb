{
 "cells": [
  {
   "cell_type": "markdown",
   "id": "71b8deb7",
   "metadata": {},
   "source": [
    "__Q1. What are the two latest user-defined exception constraints in Python 3.X?__"
   ]
  },
  {
   "cell_type": "markdown",
   "id": "3086fd36",
   "metadata": {},
   "source": [
    "__Ans:__ `raise` and `assert`."
   ]
  },
  {
   "cell_type": "markdown",
   "id": "2278d1f7",
   "metadata": {},
   "source": [
    "__Q2. How are class-based exceptions that have been raised matched to handlers?__"
   ]
  },
  {
   "cell_type": "markdown",
   "id": "0f8ee432",
   "metadata": {},
   "source": [
    "__Ans:__  In python, custom exceptions can be defined by creating a new class. This exception class has to be derived, either directly or indirectly from built-in Exception class. This new exception class like other exceptions can be raised using the `raise` statement with an optional error message."
   ]
  },
  {
   "cell_type": "code",
   "execution_count": 2,
   "id": "79cf52fd",
   "metadata": {},
   "outputs": [
    {
     "ename": "CompareException",
     "evalue": "The number is smaller",
     "output_type": "error",
     "traceback": [
      "\u001b[1;31m---------------------------------------------------------------------------\u001b[0m",
      "\u001b[1;31mCompareException\u001b[0m                          Traceback (most recent call last)",
      "\u001b[1;32m<ipython-input-2-9b6b1788350c>\u001b[0m in \u001b[0;36m<module>\u001b[1;34m\u001b[0m\n\u001b[0;32m      3\u001b[0m         \u001b[0mself\u001b[0m\u001b[1;33m.\u001b[0m\u001b[0mmsg\u001b[0m \u001b[1;33m=\u001b[0m \u001b[0mmsg\u001b[0m\u001b[1;33m\u001b[0m\u001b[1;33m\u001b[0m\u001b[0m\n\u001b[0;32m      4\u001b[0m \u001b[0mnum\u001b[0m \u001b[1;33m=\u001b[0m \u001b[1;36m15\u001b[0m\u001b[1;33m\u001b[0m\u001b[1;33m\u001b[0m\u001b[0m\n\u001b[1;32m----> 5\u001b[1;33m \u001b[1;32mif\u001b[0m \u001b[0mnum\u001b[0m \u001b[1;33m<=\u001b[0m \u001b[1;36m20\u001b[0m\u001b[1;33m:\u001b[0m \u001b[1;32mraise\u001b[0m \u001b[0mCompareException\u001b[0m\u001b[1;33m(\u001b[0m\u001b[1;34m'The number is smaller'\u001b[0m\u001b[1;33m)\u001b[0m\u001b[1;33m\u001b[0m\u001b[1;33m\u001b[0m\u001b[0m\n\u001b[0m",
      "\u001b[1;31mCompareException\u001b[0m: The number is smaller"
     ]
    }
   ],
   "source": [
    "class CompareException(Exception):\n",
    "    def __init__(self,msg):\n",
    "        self.msg = msg\n",
    "num = 15\n",
    "if num <= 20: raise CompareException('The number is smaller')"
   ]
  },
  {
   "cell_type": "markdown",
   "id": "2df8c45c",
   "metadata": {},
   "source": [
    "__Q3. Describe two methods for attaching context information to exception artefacts.__"
   ]
  },
  {
   "cell_type": "markdown",
   "id": "621202b2",
   "metadata": {},
   "source": [
    "__Ans:__ The __process()__ method of LoggerAdapter is where the contextual information is added to the logging output. It passes the message and keyword arguments of the logging call, and it passes back modified versions of these to use in the call to the underlying logger.\n",
    "\n",
    "Other method that can be used is __exception()__. It logs a messgae with level ERROR on this logger. The arguments are interpreted as for __debug()__. Exception info is added to the logging message."
   ]
  },
  {
   "cell_type": "markdown",
   "id": "8e5809dc",
   "metadata": {},
   "source": [
    "__Q4. Describe two methods for specifying the text of an exception object's error message.__"
   ]
  },
  {
   "cell_type": "markdown",
   "id": "ddb3f5e2",
   "metadata": {},
   "source": [
    "__Ans:__ __`raise`__ and __`assert`__ statements are the two methods used for specifying the text of an exception object's error message. __`raise`__ statement is used to trigger exceptions or errors in a program. It raises an error and stops the control flow of the program, whereas we use __`assert`__ statement if a test condition returns true, and if not then it will cause an AssertionError. It is similar to raise statement in Python."
   ]
  },
  {
   "cell_type": "markdown",
   "id": "472b4ca3",
   "metadata": {},
   "source": [
    "__Q5. Why do you no longer use string-based exceptions?__"
   ]
  },
  {
   "cell_type": "markdown",
   "id": "3f97d114",
   "metadata": {},
   "source": [
    "__Ans:__ Ans: String-based Exceptions doesn't inherit from Exceptions. so plain exceptions catch all exceptions and not only system. That's why we don't use string-based exceptions."
   ]
  },
  {
   "cell_type": "code",
   "execution_count": null,
   "id": "2ba586d7",
   "metadata": {},
   "outputs": [],
   "source": []
  }
 ],
 "metadata": {
  "kernelspec": {
   "display_name": "Python 3",
   "language": "python",
   "name": "python3"
  },
  "language_info": {
   "codemirror_mode": {
    "name": "ipython",
    "version": 3
   },
   "file_extension": ".py",
   "mimetype": "text/x-python",
   "name": "python",
   "nbconvert_exporter": "python",
   "pygments_lexer": "ipython3",
   "version": "3.8.8"
  }
 },
 "nbformat": 4,
 "nbformat_minor": 5
}
