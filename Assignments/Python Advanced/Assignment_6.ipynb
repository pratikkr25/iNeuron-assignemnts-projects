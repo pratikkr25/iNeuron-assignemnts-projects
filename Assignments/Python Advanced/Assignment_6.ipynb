{
 "cells": [
  {
   "cell_type": "markdown",
   "id": "35793ddf",
   "metadata": {},
   "source": [
    "__Q1. Describe three applications for exception processing.__"
   ]
  },
  {
   "cell_type": "markdown",
   "id": "67922de5",
   "metadata": {},
   "source": [
    "__Ans:__ Applications of exception processing are as follows:\n",
    "\n",
    "1. Appropriate use of input in an application\n",
    "2. Checking for Arithmetic exceptions in mathematical executions\n",
    "3. File I/O exceptions during File handling in programs"
   ]
  },
  {
   "cell_type": "markdown",
   "id": "3551a31b",
   "metadata": {},
   "source": [
    "__Q2. What happens if you don't do something extra to treat an exception?__"
   ]
  },
  {
   "cell_type": "markdown",
   "id": "505b8e31",
   "metadata": {},
   "source": [
    "__Ans:__ It results in abnormal termination of programs."
   ]
  },
  {
   "cell_type": "markdown",
   "id": "76a8a279",
   "metadata": {},
   "source": [
    "__Q3. What are your options for recovering from an exception in your script?__"
   ]
  },
  {
   "cell_type": "markdown",
   "id": "2c32c295",
   "metadata": {},
   "source": [
    "__Ans:__ We can use `try` and `except` statements to handle exceptions in Python."
   ]
  },
  {
   "cell_type": "markdown",
   "id": "01cc204c",
   "metadata": {},
   "source": [
    "__Q4. Describe two methods for triggering exceptions in your script.__"
   ]
  },
  {
   "cell_type": "markdown",
   "id": "44e60a37",
   "metadata": {},
   "source": [
    "__Ans:__  In Python, `raise` and `assert` are two methods that can be used to trigger manual exceptions in your script. `raise` method triggers an exception if condition provided to it turns out to be True. `assert` will let the program to continue execution if condition provided to it turns out to be True else exception will be raised."
   ]
  },
  {
   "cell_type": "code",
   "execution_count": 1,
   "id": "5cbd6494",
   "metadata": {},
   "outputs": [
    {
     "ename": "Exception",
     "evalue": "Value Should not be equal to 5.",
     "output_type": "error",
     "traceback": [
      "\u001b[1;31m---------------------------------------------------------------------------\u001b[0m",
      "\u001b[1;31mException\u001b[0m                                 Traceback (most recent call last)",
      "\u001b[1;32m<ipython-input-1-2c6e22a1e0ac>\u001b[0m in \u001b[0;36m<module>\u001b[1;34m\u001b[0m\n\u001b[0;32m      1\u001b[0m \u001b[1;31m# Example of raise\u001b[0m\u001b[1;33m\u001b[0m\u001b[1;33m\u001b[0m\u001b[1;33m\u001b[0m\u001b[0m\n\u001b[0;32m      2\u001b[0m \u001b[0mnum\u001b[0m \u001b[1;33m=\u001b[0m \u001b[1;36m5\u001b[0m\u001b[1;33m\u001b[0m\u001b[1;33m\u001b[0m\u001b[0m\n\u001b[1;32m----> 3\u001b[1;33m \u001b[1;32mraise\u001b[0m \u001b[0mException\u001b[0m\u001b[1;33m(\u001b[0m\u001b[1;34mf'Value Should not be equal to 5.'\u001b[0m\u001b[1;33m)\u001b[0m\u001b[1;33m\u001b[0m\u001b[1;33m\u001b[0m\u001b[0m\n\u001b[0m",
      "\u001b[1;31mException\u001b[0m: Value Should not be equal to 5."
     ]
    }
   ],
   "source": [
    "# Example of raise\n",
    "num = 5\n",
    "raise Exception(f'Value Should not be equal to 5.')"
   ]
  },
  {
   "cell_type": "code",
   "execution_count": 2,
   "id": "b7c04ed9",
   "metadata": {},
   "outputs": [
    {
     "ename": "AssertionError",
     "evalue": "2 is not equal to 4",
     "output_type": "error",
     "traceback": [
      "\u001b[1;31m---------------------------------------------------------------------------\u001b[0m",
      "\u001b[1;31mAssertionError\u001b[0m                            Traceback (most recent call last)",
      "\u001b[1;32m<ipython-input-2-b3cb1796e5b9>\u001b[0m in \u001b[0;36m<module>\u001b[1;34m\u001b[0m\n\u001b[0;32m      1\u001b[0m \u001b[1;31m# Example of assert\u001b[0m\u001b[1;33m\u001b[0m\u001b[1;33m\u001b[0m\u001b[1;33m\u001b[0m\u001b[0m\n\u001b[1;32m----> 2\u001b[1;33m \u001b[1;32massert\u001b[0m\u001b[1;33m(\u001b[0m\u001b[1;36m2\u001b[0m\u001b[1;33m==\u001b[0m\u001b[1;36m4\u001b[0m\u001b[1;33m)\u001b[0m\u001b[1;33m,\u001b[0m \u001b[1;34m\"2 is not equal to 4\"\u001b[0m\u001b[1;33m\u001b[0m\u001b[1;33m\u001b[0m\u001b[0m\n\u001b[0m",
      "\u001b[1;31mAssertionError\u001b[0m: 2 is not equal to 4"
     ]
    }
   ],
   "source": [
    "# Example of assert\n",
    "assert(2==4), \"2 is not equal to 4\""
   ]
  },
  {
   "cell_type": "markdown",
   "id": "20676aa4",
   "metadata": {},
   "source": [
    "__Q5. Identify two methods for specifying actions to be executed at termination time, regardless of whether or not an exception exists.__"
   ]
  },
  {
   "cell_type": "markdown",
   "id": "e3f2fe98",
   "metadata": {},
   "source": [
    "__Ans:__ `else` and `finally` are two methods used to specify actions to be executed at termination time, regardless of whether or not an exceptions exists."
   ]
  },
  {
   "cell_type": "code",
   "execution_count": null,
   "id": "c78cb16a",
   "metadata": {},
   "outputs": [],
   "source": []
  }
 ],
 "metadata": {
  "kernelspec": {
   "display_name": "Python 3",
   "language": "python",
   "name": "python3"
  },
  "language_info": {
   "codemirror_mode": {
    "name": "ipython",
    "version": 3
   },
   "file_extension": ".py",
   "mimetype": "text/x-python",
   "name": "python",
   "nbconvert_exporter": "python",
   "pygments_lexer": "ipython3",
   "version": "3.8.8"
  }
 },
 "nbformat": 4,
 "nbformat_minor": 5
}
