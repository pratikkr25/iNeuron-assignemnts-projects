{
 "cells": [
  {
   "cell_type": "markdown",
   "id": "c7940531",
   "metadata": {},
   "source": [
    "__Q1. Explain the difference between greedy and non-greedy syntax with visual terms in as few words as possible. What is the bare minimum effort required to transform a greedy pattern into a non-greedy one? What characters or characters can you introduce or change?__"
   ]
  },
  {
   "cell_type": "markdown",
   "id": "892dcccc",
   "metadata": {},
   "source": [
    "__Ans:__ The difference between Greedy and Non-Greedy Match Syntax is The Greedy Match matches many repetitions of the quantified pattern as possible, whereas the Non-Greedy Match matches only few repetitions of the quantified pattern as possible."
   ]
  },
  {
   "cell_type": "code",
   "execution_count": 1,
   "id": "9cd5a62b",
   "metadata": {},
   "outputs": [
    {
     "name": "stdout",
     "output_type": "stream",
     "text": [
      "['aaaaaaaa', '']\n",
      "['', 'a', '', 'a', '', 'a', '', 'a', '', 'a', '', 'a', '', 'a', '']\n"
     ]
    }
   ],
   "source": [
    "import re\n",
    "\n",
    "#Greedy Match\n",
    "print(re.findall(\"a*\", \"aaaaaaaa\"))\n",
    "\n",
    "#Non_Greedy Match\n",
    "print(re.findall(\"a*?\", \"aaaaaaa\"))"
   ]
  },
  {
   "cell_type": "markdown",
   "id": "5c68b1a8",
   "metadata": {},
   "source": [
    "__Q2. When exactly does greedy versus non-greedy make a difference?  What if you're looking for a non-greedy match but the only one available is greedy?__"
   ]
  },
  {
   "cell_type": "markdown",
   "id": "27f12541",
   "metadata": {},
   "source": [
    "__Ans:__ The difference between Greedy and Non-Greedy Match Syntax is The Greedy Match matches many repetitions of the quantified pattern as possible, whereas the Non-Greedy Match matches only few repetitions of the quantified pattern as possible. If only Non Greedy Match is available, we can use other filtering or pattern matching methods of regex and further identify the required pattern."
   ]
  },
  {
   "cell_type": "markdown",
   "id": "3f250a0c",
   "metadata": {},
   "source": [
    "__Q3. In a simple match of a string, which looks only for one match and does not do any replacement, is the use of a nontagged group likely to make any practical difference?__"
   ]
  },
  {
   "cell_type": "markdown",
   "id": "bc8cbba5",
   "metadata": {},
   "source": [
    "__Ans:__ It won't make any differences."
   ]
  },
  {
   "cell_type": "markdown",
   "id": "b70881ef",
   "metadata": {},
   "source": [
    "__Q4. Describe a scenario in which using a nontagged category would have a significant impact on the program's outcomes.__"
   ]
  },
  {
   "cell_type": "code",
   "execution_count": 2,
   "id": "2ab27a7e",
   "metadata": {},
   "outputs": [
    {
     "data": {
      "text/plain": [
       "('123', '4567')"
      ]
     },
     "execution_count": 2,
     "metadata": {},
     "output_type": "execute_result"
    }
   ],
   "source": [
    "import re\n",
    "text='123.4567'\n",
    "pattern=r'(\\d+)(?:.)(\\d+)'\n",
    "reg_obj=re.compile(pattern)\n",
    "mat_obj=reg_obj.search(text)\n",
    "mat_obj.groups()"
   ]
  },
  {
   "cell_type": "markdown",
   "id": "6f2cc110",
   "metadata": {},
   "source": [
    "Here, `.` is not captured in the regex pattern. Hence, it can be useful if we only have to extract only values."
   ]
  },
  {
   "cell_type": "markdown",
   "id": "7353cc61",
   "metadata": {},
   "source": [
    "__Q5. Unlike a normal regex pattern, a look-ahead condition does not consume the characters it examines. Describe a situation in which this could make a difference in the results of your programme.__"
   ]
  },
  {
   "cell_type": "markdown",
   "id": "b505bda9",
   "metadata": {},
   "source": [
    "__Ans:__ While counting the number of multiple lines or mutiple sentence in a string the positive look ahead makes a difference, without which we won't get the correct count of lines or sentences in a string."
   ]
  },
  {
   "cell_type": "markdown",
   "id": "8862482e",
   "metadata": {},
   "source": [
    "__Q6. In standard expressions, what is the difference between positive look-ahead and negative look-ahead?__"
   ]
  },
  {
   "cell_type": "markdown",
   "id": "b564b2bf",
   "metadata": {},
   "source": [
    "__Ans:__ Positive Lookahead allows to add a condition for what follows. Negative Lookahead allows to match a pattern only if there’s something before it."
   ]
  },
  {
   "cell_type": "markdown",
   "id": "e0c0327f",
   "metadata": {},
   "source": [
    "__Q7. What is the benefit of referring to groups by name rather than by number in a standard expression?__"
   ]
  },
  {
   "cell_type": "markdown",
   "id": "979e768e",
   "metadata": {},
   "source": [
    "__Ans:__ It helps to keep the code clear and easy to understand."
   ]
  },
  {
   "cell_type": "markdown",
   "id": "d0600851",
   "metadata": {},
   "source": [
    "__Q8. Can you identify repeated items within a target string using named groups, as in \"The cow jumped over the moon\"?__"
   ]
  },
  {
   "cell_type": "code",
   "execution_count": 3,
   "id": "cc52fc96",
   "metadata": {},
   "outputs": [
    {
     "data": {
      "text/plain": [
       "['The', 'the']"
      ]
     },
     "execution_count": 3,
     "metadata": {},
     "output_type": "execute_result"
    }
   ],
   "source": [
    "text = \"The cow jumped over the moon\"\n",
    "\n",
    "reg_obj=re.compile(r'(?P<w1>The)',re.I)\n",
    "reg_obj.findall(text)"
   ]
  },
  {
   "cell_type": "markdown",
   "id": "b916f10a",
   "metadata": {},
   "source": [
    "__Q9. When parsing a string, what is at least one thing that the Scanner interface does for you that the `re.findall` feature does not?__"
   ]
  },
  {
   "cell_type": "markdown",
   "id": "ab254998",
   "metadata": {},
   "source": [
    "__Ans:__ __`re.findall()`__ module is used to search for all occurrences that match a given pattern. In contrast, __`re.search()`__ will only return the first occurrence that matches the specified pattern. __`re.findall()`__ will iterate over all the lines of the file and will return all non-overlapping matches of pattern in a single step."
   ]
  },
  {
   "cell_type": "markdown",
   "id": "fd0ce540",
   "metadata": {},
   "source": [
    "__Q10. Does a scanner object have to be named scanner?__"
   ]
  },
  {
   "cell_type": "markdown",
   "id": "6d185be2",
   "metadata": {},
   "source": [
    "__Ans:__ It can be named anything."
   ]
  }
 ],
 "metadata": {
  "kernelspec": {
   "display_name": "Python 3",
   "language": "python",
   "name": "python3"
  },
  "language_info": {
   "codemirror_mode": {
    "name": "ipython",
    "version": 3
   },
   "file_extension": ".py",
   "mimetype": "text/x-python",
   "name": "python",
   "nbconvert_exporter": "python",
   "pygments_lexer": "ipython3",
   "version": "3.8.8"
  }
 },
 "nbformat": 4,
 "nbformat_minor": 5
}
