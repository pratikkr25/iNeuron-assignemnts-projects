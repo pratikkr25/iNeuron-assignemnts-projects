{
 "cells": [
  {
   "cell_type": "markdown",
   "id": "69beecd5",
   "metadata": {},
   "source": [
    "__Q1. What is the meaning of multiple inheritance?__"
   ]
  },
  {
   "cell_type": "markdown",
   "id": "49f467eb",
   "metadata": {},
   "source": [
    "__Ans:__ It is a type of inheritance where a child class can inherit properties from multiple parent classes."
   ]
  },
  {
   "cell_type": "code",
   "execution_count": null,
   "id": "be678540",
   "metadata": {},
   "outputs": [],
   "source": [
    "class Parent1:\n",
    "    pass\n",
    "class Parent2:\n",
    "    pass\n",
    "class Child(Parent1,Parent2):\n",
    "    pass\n",
    "\n",
    "#Here, Child class inherit properties from classes Parent1 and Parent2"
   ]
  },
  {
   "cell_type": "markdown",
   "id": "e799c1d1",
   "metadata": {},
   "source": [
    "__Q2. What is the concept of delegation?__"
   ]
  },
  {
   "cell_type": "markdown",
   "id": "19de1c7c",
   "metadata": {},
   "source": [
    "__Ans:__ Delegation is a pattern in which an object is responsible for performing certain tasks on behalf of another object. It Wraps the object of main class into a smaller object with limited access. Here's an example of a delegator."
   ]
  },
  {
   "cell_type": "code",
   "execution_count": 3,
   "id": "ba056106",
   "metadata": {},
   "outputs": [
    {
     "name": "stdout",
     "output_type": "stream",
     "text": [
      "Delegate doing something\n"
     ]
    }
   ],
   "source": [
    "class Delegate:\n",
    "    def do_something(self):\n",
    "        print('Delegate doing something')\n",
    "\n",
    "class Delegator:\n",
    "    def __init__(self, delegate):\n",
    "        self.delegate = delegate\n",
    "\n",
    "    def do_something(self):\n",
    "        self.delegate.do_something()\n",
    "\n",
    "delegate = Delegate()\n",
    "delegator = Delegator(delegate)\n",
    "delegator.do_something() "
   ]
  },
  {
   "cell_type": "markdown",
   "id": "fb1a66b1",
   "metadata": {},
   "source": [
    "__Q3. What is the concept of composition?__"
   ]
  },
  {
   "cell_type": "markdown",
   "id": "8806e47d",
   "metadata": {},
   "source": [
    "__Ans:__ In composition, a class refers to one or more other classes by using instances of those classes as a instance variable. In composition, all the parent class members are not inherited into child class, but only required methods from a class are used by using class instances."
   ]
  },
  {
   "cell_type": "markdown",
   "id": "0630b945",
   "metadata": {},
   "source": [
    "__Q4. What are bound methods and how do we use them?__"
   ]
  },
  {
   "cell_type": "markdown",
   "id": "51bc6a79",
   "metadata": {},
   "source": [
    "__Ans:__ A bound method is one that has `self` as its first argument. It is a method which is dependent on the instance of the class as the first argument. It passes the instance as the first argument which is used to access the variables and functions. Here's an example of bound method:"
   ]
  },
  {
   "cell_type": "code",
   "execution_count": 5,
   "id": "97e24d22",
   "metadata": {},
   "outputs": [
    {
     "name": "stdout",
     "output_type": "stream",
     "text": [
      "<bound method A.demoFunc of <__main__.A object at 0x00000191CFA6BBB0>>\n"
     ]
    }
   ],
   "source": [
    "class A:\n",
    "  \n",
    "    def demoFunc(self, num):\n",
    "        self.num = num\n",
    "        print(\"Value of number = \", num)\n",
    "  \n",
    "  \n",
    "obj = A()  \n",
    "  \n",
    "print(obj.demoFunc)"
   ]
  },
  {
   "cell_type": "markdown",
   "id": "46ac44c5",
   "metadata": {},
   "source": [
    "__Q5. What is the purpose of pseudoprivate attributes?__"
   ]
  },
  {
   "cell_type": "markdown",
   "id": "6551e965",
   "metadata": {},
   "source": [
    "__Ans:__ Pseudoprivate attributes are used in encapsulating the data in a class. They also prevent subclasses from accidentally redefining the internal method's names."
   ]
  },
  {
   "cell_type": "code",
   "execution_count": null,
   "id": "1a384c5b",
   "metadata": {},
   "outputs": [],
   "source": []
  }
 ],
 "metadata": {
  "kernelspec": {
   "display_name": "Python 3",
   "language": "python",
   "name": "python3"
  },
  "language_info": {
   "codemirror_mode": {
    "name": "ipython",
    "version": 3
   },
   "file_extension": ".py",
   "mimetype": "text/x-python",
   "name": "python",
   "nbconvert_exporter": "python",
   "pygments_lexer": "ipython3",
   "version": "3.8.8"
  }
 },
 "nbformat": 4,
 "nbformat_minor": 5
}
